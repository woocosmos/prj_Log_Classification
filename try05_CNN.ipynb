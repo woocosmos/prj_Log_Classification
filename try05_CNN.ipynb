{
 "cells": [
  {
   "cell_type": "code",
   "execution_count": 1,
   "metadata": {
    "executionInfo": {
     "elapsed": 582,
     "status": "ok",
     "timestamp": 1620271330267,
     "user": {
      "displayName": "Yunsoo Woo",
      "photoUrl": "https://lh3.googleusercontent.com/a-/AOh14GiWFotIpAaOkdHrZuGq9VMZLv5Ow3_KvrbzBimZaQ=s64",
      "userId": "11767945514934680645"
     },
     "user_tz": -540
    },
    "id": "ZiHA_xCzjshm"
   },
   "outputs": [],
   "source": [
    "import numpy as np\n",
    "import pandas as pd\n",
    "import re\n",
    "import matplotlib.pyplot as plt\n",
    "import tensorflow as tf\n",
    "import tensorflow_datasets as tfds\n",
    "from tensorflow.keras.models import load_model\n",
    "from sklearn.model_selection import train_test_split\n",
    "from tensorflow.keras.utils import to_categorical\n",
    "from tqdm import tqdm\n",
    "import warnings\n",
    "\n",
    "warnings.filterwarnings(action='ignore')"
   ]
  },
  {
   "cell_type": "code",
   "execution_count": 2,
   "metadata": {},
   "outputs": [],
   "source": [
    "train = pd.read_csv('./data/cleaned_train_special.csv', index_col = 0)\n",
    "test = pd.read_csv('./data/cleaned_test_special.csv', index_col = 0)\n",
    "validation = pd.read_csv('./data/cleaned_validation_special.csv')\n",
    "submission = pd.read_csv('./data/sample_submission.csv', index_col = 0)"
   ]
  },
  {
   "cell_type": "code",
   "execution_count": 3,
   "metadata": {},
   "outputs": [],
   "source": [
    "# 위험도 2에 있는 이상치를 제거\n",
    "train = train.drop(365348)"
   ]
  },
  {
   "cell_type": "code",
   "execution_count": 4,
   "metadata": {},
   "outputs": [],
   "source": [
    "train_text=list(train['full_log'])\n",
    "train_level=np.array(train['level'])"
   ]
  },
  {
   "cell_type": "code",
   "execution_count": 5,
   "metadata": {},
   "outputs": [],
   "source": [
    "test_text = list(test['full_log'])"
   ]
  },
  {
   "cell_type": "code",
   "execution_count": 6,
   "metadata": {},
   "outputs": [],
   "source": [
    "valid_text = list(validation['full_log'])"
   ]
  },
  {
   "cell_type": "markdown",
   "metadata": {},
   "source": [
    "# 토크나이징"
   ]
  },
  {
   "cell_type": "code",
   "execution_count": 7,
   "metadata": {},
   "outputs": [
    {
     "name": "stdout",
     "output_type": "stream",
     "text": [
      "8945\n"
     ]
    }
   ],
   "source": [
    "from tensorflow.keras.preprocessing.text import Tokenizer\n",
    "\n",
    "MAX_SEQUENCE_LENGTH = 250\n",
    "EMBEDDING_DIM = 200\n",
    "\n",
    "tokenizer = Tokenizer()\n",
    "tokenizer.fit_on_texts(train_text)\n",
    "print(len(tokenizer.word_index))"
   ]
  },
  {
   "cell_type": "code",
   "execution_count": 8,
   "metadata": {},
   "outputs": [
    {
     "name": "stdout",
     "output_type": "stream",
     "text": [
      "(472971, 250)\n"
     ]
    }
   ],
   "source": [
    "from tensorflow.keras.preprocessing.sequence import pad_sequences\n",
    "\n",
    "X = tokenizer.texts_to_sequences(train_text)\n",
    "X = pad_sequences(X, maxlen=MAX_SEQUENCE_LENGTH)\n",
    "print(X.shape)"
   ]
  },
  {
   "cell_type": "code",
   "execution_count": 9,
   "metadata": {},
   "outputs": [],
   "source": [
    "Y = to_categorical(train_level)"
   ]
  },
  {
   "cell_type": "code",
   "execution_count": 10,
   "metadata": {},
   "outputs": [
    {
     "name": "stdout",
     "output_type": "stream",
     "text": [
      "Shape of data tensor: (472971, 250)\n",
      "Shape of label tensor: (472971, 7)\n",
      "[[1. 0. 0. ... 0. 0. 0.]\n",
      " [1. 0. 0. ... 0. 0. 0.]\n",
      " [1. 0. 0. ... 0. 0. 0.]\n",
      " ...\n",
      " [1. 0. 0. ... 0. 0. 0.]\n",
      " [1. 0. 0. ... 0. 0. 0.]\n",
      " [1. 0. 0. ... 0. 0. 0.]]\n"
     ]
    }
   ],
   "source": [
    "print('Shape of data tensor:', X.shape)\n",
    "print('Shape of label tensor:', Y.shape)\n",
    "print(Y)"
   ]
  },
  {
   "cell_type": "markdown",
   "metadata": {},
   "source": [
    "# 모델 학습"
   ]
  },
  {
   "cell_type": "code",
   "execution_count": 11,
   "metadata": {
    "executionInfo": {
     "elapsed": 1317,
     "status": "ok",
     "timestamp": 1620274143269,
     "user": {
      "displayName": "Yunsoo Woo",
      "photoUrl": "https://lh3.googleusercontent.com/a-/AOh14GiWFotIpAaOkdHrZuGq9VMZLv5Ow3_KvrbzBimZaQ=s64",
      "userId": "11767945514934680645"
     },
     "user_tz": -540
    },
    "id": "rMmgrTFMkXqo"
   },
   "outputs": [],
   "source": [
    "X_train, X_eval, Y_train, Y_eval = train_test_split(X, Y, test_size=0.3, random_state=42, stratify=Y)"
   ]
  },
  {
   "cell_type": "code",
   "execution_count": 12,
   "metadata": {
    "colab": {
     "base_uri": "https://localhost:8080/"
    },
    "executionInfo": {
     "elapsed": 767,
     "status": "ok",
     "timestamp": 1620274145005,
     "user": {
      "displayName": "Yunsoo Woo",
      "photoUrl": "https://lh3.googleusercontent.com/a-/AOh14GiWFotIpAaOkdHrZuGq9VMZLv5Ow3_KvrbzBimZaQ=s64",
      "userId": "11767945514934680645"
     },
     "user_tz": -540
    },
    "id": "3nQe0VwmkZA3",
    "outputId": "ad70d86c-1d23-42e1-d30a-a7f8f8f20e8a"
   },
   "outputs": [
    {
     "name": "stdout",
     "output_type": "stream",
     "text": [
      "(331079, 250)\n",
      "(331079, 7)\n",
      "(141892, 250)\n",
      "(141892, 7)\n"
     ]
    }
   ],
   "source": [
    "print(X_train.shape)\n",
    "print(Y_train.shape)\n",
    "print(X_eval.shape)\n",
    "print(Y_eval.shape)"
   ]
  },
  {
   "cell_type": "code",
   "execution_count": 13,
   "metadata": {},
   "outputs": [],
   "source": [
    "import tensorflow_addons as tfa\n",
    "F1_MACRO = tfa.metrics.F1Score(num_classes=7, average='macro')"
   ]
  },
  {
   "cell_type": "code",
   "execution_count": 14,
   "metadata": {},
   "outputs": [],
   "source": [
    "from keras.callbacks import ReduceLROnPlateau\n",
    "cb_reduceLR = ReduceLROnPlateau(monitor='val_f1_score', factor=0.1, patience=3)"
   ]
  },
  {
   "cell_type": "code",
   "execution_count": null,
   "metadata": {
    "colab": {
     "base_uri": "https://localhost:8080/"
    },
    "executionInfo": {
     "elapsed": 4540437,
     "status": "ok",
     "timestamp": 1620278800187,
     "user": {
      "displayName": "Yunsoo Woo",
      "photoUrl": "https://lh3.googleusercontent.com/a-/AOh14GiWFotIpAaOkdHrZuGq9VMZLv5Ow3_KvrbzBimZaQ=s64",
      "userId": "11767945514934680645"
     },
     "user_tz": -540
    },
    "id": "CQwjNRotkapp",
    "outputId": "1bf8c24c-5d35-428c-cded-04d848535429"
   },
   "outputs": [
    {
     "name": "stdout",
     "output_type": "stream",
     "text": [
      "Epoch 1/20\n",
      "2069/2070 [============================>.] - ETA: 0s - loss: 0.0507 - f1_score: 0.5172"
     ]
    }
   ],
   "source": [
    "from tensorflow.keras.layers import Dense, Conv1D, GlobalMaxPooling1D, Embedding, Dropout, MaxPooling1D, Flatten\n",
    "from tensorflow.keras.models import Sequential\n",
    "from tensorflow.keras.callbacks import EarlyStopping, ModelCheckpoint\n",
    "\n",
    "cb_checkpoint = ModelCheckpoint('model05_CNN.h5', monitor='val_f1_score', mode='max', verbose=1, save_best_only=True)\n",
    "cb_early_stopping = EarlyStopping(monitor='val_f1_score', mode='max', patience=10)\n",
    "\n",
    "vocab_size = len(tokenizer.word_index) + 1\n",
    "\n",
    "model = Sequential()\n",
    "model.add(Embedding(vocab_size , EMBEDDING_DIM, input_length=X.shape[1]))\n",
    "model.add(Conv1D(32, 8, padding='valid', activation='relu')) # 원래는 필터 64에 커널 싸이즈 3\n",
    "model.add(MaxPooling1D(pool_size=2))\n",
    "# model.add(GlobalMaxPooling1D())\n",
    "model.add(Flatten())\n",
    "model.add(Dense(7, activation='softmax'))\n",
    "\n",
    "model.compile(optimizer='adam', loss = 'categorical_crossentropy', metrics = [F1_MACRO])\n",
    "history = model.fit(X_train, Y_train, epochs=20, batch_size=128, validation_split=0.2, callbacks=[cb_early_stopping, cb_checkpoint, cb_reduceLR])"
   ]
  },
  {
   "cell_type": "code",
   "execution_count": 46,
   "metadata": {
    "scrolled": true
   },
   "outputs": [
    {
     "data": {
      "image/png": "[encoded data removed]",
      "text/plain": [
       "<Figure size 432x288 with 1 Axes>"
      ]
     },
     "metadata": {
      "needs_background": "light"
     },
     "output_type": "display_data"
    }
   ],
   "source": [
    "plt.title('F1 SCORE')\n",
    "plt.plot(history.history['f1_score'], label='training')\n",
    "plt.plot(history.history['val_f1_score'], label='evaluation')\n",
    "plt.legend()\n",
    "plt.show()"
   ]
  },
  {
   "cell_type": "code",
   "execution_count": 47,
   "metadata": {
    "colab": {
     "base_uri": "https://localhost:8080/"
    },
    "executionInfo": {
     "elapsed": 61295,
     "status": "ok",
     "timestamp": 1620279086380,
     "user": {
      "displayName": "Yunsoo Woo",
      "photoUrl": "https://lh3.googleusercontent.com/a-/AOh14GiWFotIpAaOkdHrZuGq9VMZLv5Ow3_KvrbzBimZaQ=s64",
      "userId": "11767945514934680645"
     },
     "user_tz": -540
    },
    "id": "v6RnCWSb33yF",
    "outputId": "2d522fec-03bc-4bcf-e7a7-decd0e4f2de2",
    "scrolled": true
   },
   "outputs": [],
   "source": [
    "model = load_model(\"model05_CNN.h5\")"
   ]
  },
  {
   "cell_type": "code",
   "execution_count": 48,
   "metadata": {},
   "outputs": [
    {
     "name": "stdout",
     "output_type": "stream",
     "text": [
      "4435/4435 [==============================] - 20s 4ms/step - loss: 0.0065 - f1_score: 0.9238\n",
      "Test set\n",
      "  Loss: 0.006\n",
      "  Accuracy: 0.924\n"
     ]
    }
   ],
   "source": [
    "accr = model.evaluate(X_eval, Y_eval)\n",
    "print('Test set\\n  Loss: {:0.3f}\\n  Accuracy: {:0.3f}'.format(accr[0], accr[1]))"
   ]
  },
  {
   "cell_type": "markdown",
   "metadata": {},
   "source": [
    "# 예측"
   ]
  },
  {
   "cell_type": "code",
   "execution_count": 31,
   "metadata": {},
   "outputs": [],
   "source": [
    "seq = tokenizer.texts_to_sequences(test_text)\n",
    "padded = pad_sequences(seq, maxlen=MAX_SEQUENCE_LENGTH)"
   ]
  },
  {
   "cell_type": "code",
   "execution_count": 32,
   "metadata": {},
   "outputs": [],
   "source": [
    "pred = model.predict(padded)"
   ]
  },
  {
   "cell_type": "code",
   "execution_count": 33,
   "metadata": {},
   "outputs": [],
   "source": [
    "temp = [np.argmax(i) for i in pred]"
   ]
  },
  {
   "cell_type": "code",
   "execution_count": 34,
   "metadata": {},
   "outputs": [],
   "source": [
    "results = np.reshape(temp, (test.shape[0], ))"
   ]
  },
  {
   "cell_type": "code",
   "execution_count": 35,
   "metadata": {},
   "outputs": [],
   "source": [
    "results[np.where(np.max(pred, axis=1) < 0.9)] = 7"
   ]
  },
  {
   "cell_type": "code",
   "execution_count": 36,
   "metadata": {},
   "outputs": [
    {
     "data": {
      "text/plain": [
       "level\n",
       "0        998644\n",
       "1        395409\n",
       "3         12917\n",
       "5          6355\n",
       "7          5516\n",
       "2            34\n",
       "4            34\n",
       "6             7\n",
       "dtype: int64"
      ]
     },
     "execution_count": 36,
     "metadata": {},
     "output_type": "execute_result"
    }
   ],
   "source": [
    "# 기준 0.90\n",
    "submission['level']=results\n",
    "submission.value_counts()"
   ]
  },
  {
   "cell_type": "code",
   "execution_count": 37,
   "metadata": {},
   "outputs": [],
   "source": [
    "# submission.to_csv('./submission/')"
   ]
  },
  {
   "cell_type": "markdown",
   "metadata": {},
   "source": [
    "# 검증"
   ]
  },
  {
   "cell_type": "code",
   "execution_count": 38,
   "metadata": {},
   "outputs": [],
   "source": [
    "valid_seq = tokenizer.texts_to_sequences(valid_text)\n",
    "valid_padded = pad_sequences(valid_seq, maxlen=MAX_SEQUENCE_LENGTH)\n",
    "valid_pred = model.predict(valid_padded)"
   ]
  },
  {
   "cell_type": "code",
   "execution_count": 39,
   "metadata": {},
   "outputs": [
    {
     "data": {
      "text/plain": [
       "array([1, 5, 0])"
      ]
     },
     "execution_count": 39,
     "metadata": {},
     "output_type": "execute_result"
    }
   ],
   "source": [
    "valid_temp = [np.argmax(i) for i in valid_pred]\n",
    "valid_results = np.reshape(valid_temp, (3, ))\n",
    "valid_results[np.where(np.max(valid_pred, axis=1) < 0.9)] = 7\n",
    "valid_results"
   ]
  }
 ],
 "metadata": {
  "accelerator": "GPU",
  "colab": {
   "authorship_tag": "ABX9TyPyUrFzmNPRTQr1w4CsWyKR",
   "collapsed_sections": [],
   "name": "model01",
   "provenance": []
  },
  "kernelspec": {
   "display_name": "Python 3",
   "language": "python",
   "name": "python3"
  },
  "language_info": {
   "codemirror_mode": {
    "name": "ipython",
    "version": 3
   },
   "file_extension": ".py",
   "mimetype": "text/x-python",
   "name": "python",
   "nbconvert_exporter": "python",
   "pygments_lexer": "ipython3",
   "version": "3.8.8"
  }
 },
 "nbformat": 4,
 "nbformat_minor": 1
}
