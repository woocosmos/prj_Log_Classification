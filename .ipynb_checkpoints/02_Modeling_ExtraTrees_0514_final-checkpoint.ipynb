{
 "cells": [
  {
   "cell_type": "markdown",
   "id": "a95dc63b",
   "metadata": {},
   "source": [
    "# 2. Modelling"
   ]
  },
  {
   "cell_type": "code",
   "execution_count": 37,
   "id": "30d77dbd",
   "metadata": {
    "scrolled": true
   },
   "outputs": [
    {
     "name": "stderr",
     "output_type": "stream",
     "text": [
      "C:\\Users\\675\\anaconda3\\envs\\AI_dev_env3\\lib\\site-packages\\ipykernel_launcher.py:1: FutureWarning: Passing a negative integer is deprecated in version 1.0 and will not be supported in future version. Instead, use None to not limit the column width.\n",
      "  \"\"\"Entry point for launching an IPython kernel.\n"
     ]
    }
   ],
   "source": [
    "pd.set_option('display.max_colwidth', -1)"
   ]
  },
  {
   "cell_type": "markdown",
   "id": "828336e0",
   "metadata": {},
   "source": [
    "# Data"
   ]
  },
  {
   "cell_type": "code",
   "execution_count": 38,
   "id": "ca70dc0c",
   "metadata": {},
   "outputs": [
    {
     "name": "stderr",
     "output_type": "stream",
     "text": [
      "C:\\Users\\675\\anaconda3\\envs\\AI_dev_env3\\lib\\site-packages\\numpy\\lib\\arraysetops.py:580: FutureWarning: elementwise comparison failed; returning scalar instead, but in the future will perform elementwise comparison\n",
      "  mask |= (ar1 == a)\n"
     ]
    },
    {
     "data": {
      "text/plain": [
       "((472550, 3), (3, 1), (1418916, 1), (1418916, 1))"
      ]
     },
     "execution_count": 38,
     "metadata": {},
     "output_type": "execute_result"
    }
   ],
   "source": [
    "DIR = './data'\n",
    "MASKING_VER = 'masked_03'\n",
    "SUBMISSION_FILE = f'{DIR}/submission_extra_{MASKING_VER}_drop_1'\n",
    "\n",
    "train = pd.read_csv(f'{DIR}/train_{MASKING_VER}_drop.csv', index_col=0)\n",
    "validation = pd.read_csv(f'{DIR}/validation_{MASKING_VER}.csv', index_col=0)\n",
    "test = pd.read_csv(f'{DIR}/test_{MASKING_VER}.csv', index_col=0)\n",
    "submission = pd.read_csv(f'{DIR}/sample_submission.csv', index_col=0)\n",
    "\n",
    "\n",
    "train.shape, validation.shape, test.shape, submission.shape"
   ]
  },
  {
   "cell_type": "code",
   "execution_count": 39,
   "id": "96576581",
   "metadata": {
    "scrolled": true
   },
   "outputs": [
    {
     "data": {
      "text/html": [
       "<div>\n",
       "<style scoped>\n",
       "    .dataframe tbody tr th:only-of-type {\n",
       "        vertical-align: middle;\n",
       "    }\n",
       "\n",
       "    .dataframe tbody tr th {\n",
       "        vertical-align: top;\n",
       "    }\n",
       "\n",
       "    .dataframe thead th {\n",
       "        text-align: right;\n",
       "    }\n",
       "</style>\n",
       "<table border=\"1\" class=\"dataframe\">\n",
       "  <thead>\n",
       "    <tr style=\"text-align: right;\">\n",
       "      <th></th>\n",
       "      <th>id</th>\n",
       "      <th>level</th>\n",
       "      <th>full_log</th>\n",
       "    </tr>\n",
       "  </thead>\n",
       "  <tbody>\n",
       "    <tr>\n",
       "      <th>0</th>\n",
       "      <td>0</td>\n",
       "      <td>0</td>\n",
       "      <td>&lt;DATE&gt; &lt;TIME&gt; localhost kibana: {\"type\":\"error\" , \"@timestamp\":\"&lt;TS&gt;\" , \"tags\":[\"warning\" , \"stats-collection\"] , \"pid\":&lt;NUM&gt; , \"level\":\"error\" , \"error\":{\"message\":\"No Living connections\" , \"name\":\"Error\" , \"stack\":\"Error: No Living connections\\n at sendReqWithConnection (/usr/share/kibana/node_modules/elasticsearch/src/lib/transport.js:&lt;NUM&gt;:&lt;NUM&gt;)\\n at next (/usr/share/kibana/node_modules/elasticsearch/src/lib/connection_pool.js:&lt;NUM&gt;:&lt;NUM&gt;)\\n at process._tickCallback (internal/process/next_tick.js:&lt;NUM&gt;:&lt;NUM&gt;)\"} , \"message\":\"No Living connections\"}</td>\n",
       "    </tr>\n",
       "    <tr>\n",
       "      <th>1</th>\n",
       "      <td>1</td>\n",
       "      <td>0</td>\n",
       "      <td>&lt;DATE&gt; &lt;TIME&gt; localhost logstash: [&lt;TS&gt; , &lt;NUM&gt;] [INFO ] [logstash.outputs.elasticsearch] retrying failed action with response code: &lt;NUM&gt; ({\"type\"=&gt;\"unavailable_shards_exception\" , \"reason\"=&gt;\"[wazuh-alerts-audit-&lt;NUM&gt;.x-&lt;NUM&gt;.&lt;NUM&gt;.&lt;NUM&gt;] [&lt;NUM&gt;] primary shard is not active Timeout: [1m] , request: [BulkShardRequest [[wazuh-alerts-audit-&lt;NUM&gt;.x-&lt;NUM&gt;.&lt;NUM&gt;.&lt;NUM&gt;] [&lt;NUM&gt;]] containing [&lt;NUM&gt;] requests]\"})</td>\n",
       "    </tr>\n",
       "    <tr>\n",
       "      <th>2</th>\n",
       "      <td>2</td>\n",
       "      <td>0</td>\n",
       "      <td>&lt;DATE&gt; &lt;TIME&gt; localhost kibana: {\"type\":\"error\" , \"@timestamp\":\"&lt;TS&gt;\" , \"tags\":[\"warning\" , \"stats-collection\"] , \"pid\":&lt;NUM&gt; , \"level\":\"error\" , \"error\":{\"message\":\"No Living connections\" , \"name\":\"Error\" , \"stack\":\"Error: No Living connections\\n at sendReqWithConnection (/usr/share/kibana/node_modules/elasticsearch/src/lib/transport.js:&lt;NUM&gt;:&lt;NUM&gt;)\\n at next (/usr/share/kibana/node_modules/elasticsearch/src/lib/connection_pool.js:&lt;NUM&gt;:&lt;NUM&gt;)\\n at process._tickCallback (internal/process/next_tick.js:&lt;NUM&gt;:&lt;NUM&gt;)\"} , \"message\":\"No Living connections\"}</td>\n",
       "    </tr>\n",
       "    <tr>\n",
       "      <th>3</th>\n",
       "      <td>3</td>\n",
       "      <td>0</td>\n",
       "      <td>&lt;DATE&gt; &lt;TIME&gt; localhost kibana: {\"type\":\"error\" , \"@timestamp\":\"&lt;TS&gt;\" , \"tags\":[\"warning\" , \"stats-collection\"] , \"pid\":&lt;NUM&gt; , \"level\":\"error\" , \"error\":{\"message\":\"No Living connections\" , \"name\":\"Error\" , \"stack\":\"Error: No Living connections\\n at sendReqWithConnection (/usr/share/kibana/node_modules/elasticsearch/src/lib/transport.js:&lt;NUM&gt;:&lt;NUM&gt;)\\n at next (/usr/share/kibana/node_modules/elasticsearch/src/lib/connection_pool.js:&lt;NUM&gt;:&lt;NUM&gt;)\\n at process._tickCallback (internal/process/next_tick.js:&lt;NUM&gt;:&lt;NUM&gt;)\"} , \"message\":\"No Living connections\"}</td>\n",
       "    </tr>\n",
       "    <tr>\n",
       "      <th>4</th>\n",
       "      <td>4</td>\n",
       "      <td>1</td>\n",
       "      <td>type=SYSCALL msg=audit(&lt;NUM&gt;.&lt;NUM&gt;:&lt;NUM&gt;): arch=&lt;NUM&gt; syscall=&lt;NUM&gt; success=yes exit=&lt;NUM&gt; a0=&lt;NUM&gt; a1=&lt;NUM&gt; a2=&lt;NUM&gt; a3=&lt;NUM&gt; items=&lt;NUM&gt; ppid=&lt;NUM&gt; pid=&lt;NUM&gt; auid=&lt;NUM&gt; uid=&lt;NUM&gt; gid=&lt;NUM&gt; euid=&lt;NUM&gt; suid=&lt;NUM&gt; fsuid=&lt;NUM&gt; egid=&lt;NUM&gt; sgid=&lt;NUM&gt; fsgid=&lt;NUM&gt; tty=(none) ses=&lt;NUM&gt; comm=\"date\" exe=\"/usr/bin/date\" subj=system_u:system_r:sysstat_t:s0-s0:c0.c1023 key=\"audit-wazuh-r\" type=CWD msg=audit(&lt;NUM&gt;.&lt;NUM&gt;:&lt;NUM&gt;): cwd=\"/root\" type=PATH msg=audit(&lt;NUM&gt;.&lt;NUM&gt;:&lt;NUM&gt;): item=&lt;NUM&gt; name=\"/etc/ld.so.cache\" inode=&lt;NUM&gt; dev=&lt;NUM&gt;:&lt;NUM&gt; mode=&lt;NUM&gt; ouid=&lt;NUM&gt; ogid=&lt;NUM&gt; rdev=&lt;NUM&gt;:&lt;NUM&gt; obj=unconfined_u:object_r:ld_so_cache_t:s0 objtype=NORMAL type=PROCTITLE msg=audit(&lt;NUM&gt;.&lt;NUM&gt;:&lt;NUM&gt;): proctitle=&lt;NUM&gt;</td>\n",
       "    </tr>\n",
       "  </tbody>\n",
       "</table>\n",
       "</div>"
      ],
      "text/plain": [
       "   id  level  \\\n",
       "0  0   0       \n",
       "1  1   0       \n",
       "2  2   0       \n",
       "3  3   0       \n",
       "4  4   1       \n",
       "\n",
       "                                                                                                                                                                                                                                                                                                                                                                                                                                                                                                                                                                                                                                                                                                                         full_log  \n",
       "0  <DATE> <TIME> localhost kibana: {\"type\":\"error\" , \"@timestamp\":\"<TS>\" , \"tags\":[\"warning\" , \"stats-collection\"] , \"pid\":<NUM> , \"level\":\"error\" , \"error\":{\"message\":\"No Living connections\" , \"name\":\"Error\" , \"stack\":\"Error: No Living connections\\n at sendReqWithConnection (/usr/share/kibana/node_modules/elasticsearch/src/lib/transport.js:<NUM>:<NUM>)\\n at next (/usr/share/kibana/node_modules/elasticsearch/src/lib/connection_pool.js:<NUM>:<NUM>)\\n at process._tickCallback (internal/process/next_tick.js:<NUM>:<NUM>)\"} , \"message\":\"No Living connections\"}                                                                                                                                                  \n",
       "1  <DATE> <TIME> localhost logstash: [<TS> , <NUM>] [INFO ] [logstash.outputs.elasticsearch] retrying failed action with response code: <NUM> ({\"type\"=>\"unavailable_shards_exception\" , \"reason\"=>\"[wazuh-alerts-audit-<NUM>.x-<NUM>.<NUM>.<NUM>] [<NUM>] primary shard is not active Timeout: [1m] , request: [BulkShardRequest [[wazuh-alerts-audit-<NUM>.x-<NUM>.<NUM>.<NUM>] [<NUM>]] containing [<NUM>] requests]\"})                                                                                                                                                                                                                                                                                                         \n",
       "2  <DATE> <TIME> localhost kibana: {\"type\":\"error\" , \"@timestamp\":\"<TS>\" , \"tags\":[\"warning\" , \"stats-collection\"] , \"pid\":<NUM> , \"level\":\"error\" , \"error\":{\"message\":\"No Living connections\" , \"name\":\"Error\" , \"stack\":\"Error: No Living connections\\n at sendReqWithConnection (/usr/share/kibana/node_modules/elasticsearch/src/lib/transport.js:<NUM>:<NUM>)\\n at next (/usr/share/kibana/node_modules/elasticsearch/src/lib/connection_pool.js:<NUM>:<NUM>)\\n at process._tickCallback (internal/process/next_tick.js:<NUM>:<NUM>)\"} , \"message\":\"No Living connections\"}                                                                                                                                                  \n",
       "3  <DATE> <TIME> localhost kibana: {\"type\":\"error\" , \"@timestamp\":\"<TS>\" , \"tags\":[\"warning\" , \"stats-collection\"] , \"pid\":<NUM> , \"level\":\"error\" , \"error\":{\"message\":\"No Living connections\" , \"name\":\"Error\" , \"stack\":\"Error: No Living connections\\n at sendReqWithConnection (/usr/share/kibana/node_modules/elasticsearch/src/lib/transport.js:<NUM>:<NUM>)\\n at next (/usr/share/kibana/node_modules/elasticsearch/src/lib/connection_pool.js:<NUM>:<NUM>)\\n at process._tickCallback (internal/process/next_tick.js:<NUM>:<NUM>)\"} , \"message\":\"No Living connections\"}                                                                                                                                                  \n",
       "4  type=SYSCALL msg=audit(<NUM>.<NUM>:<NUM>): arch=<NUM> syscall=<NUM> success=yes exit=<NUM> a0=<NUM> a1=<NUM> a2=<NUM> a3=<NUM> items=<NUM> ppid=<NUM> pid=<NUM> auid=<NUM> uid=<NUM> gid=<NUM> euid=<NUM> suid=<NUM> fsuid=<NUM> egid=<NUM> sgid=<NUM> fsgid=<NUM> tty=(none) ses=<NUM> comm=\"date\" exe=\"/usr/bin/date\" subj=system_u:system_r:sysstat_t:s0-s0:c0.c1023 key=\"audit-wazuh-r\" type=CWD msg=audit(<NUM>.<NUM>:<NUM>): cwd=\"/root\" type=PATH msg=audit(<NUM>.<NUM>:<NUM>): item=<NUM> name=\"/etc/ld.so.cache\" inode=<NUM> dev=<NUM>:<NUM> mode=<NUM> ouid=<NUM> ogid=<NUM> rdev=<NUM>:<NUM> obj=unconfined_u:object_r:ld_so_cache_t:s0 objtype=NORMAL type=PROCTITLE msg=audit(<NUM>.<NUM>:<NUM>): proctitle=<NUM>  "
      ]
     },
     "execution_count": 39,
     "metadata": {},
     "output_type": "execute_result"
    }
   ],
   "source": [
    "train.head()"
   ]
  },
  {
   "cell_type": "code",
   "execution_count": 40,
   "id": "7cc76337",
   "metadata": {
    "scrolled": true
   },
   "outputs": [
    {
     "data": {
      "text/html": [
       "<div>\n",
       "<style scoped>\n",
       "    .dataframe tbody tr th:only-of-type {\n",
       "        vertical-align: middle;\n",
       "    }\n",
       "\n",
       "    .dataframe tbody tr th {\n",
       "        vertical-align: top;\n",
       "    }\n",
       "\n",
       "    .dataframe thead th {\n",
       "        text-align: right;\n",
       "    }\n",
       "</style>\n",
       "<table border=\"1\" class=\"dataframe\">\n",
       "  <thead>\n",
       "    <tr style=\"text-align: right;\">\n",
       "      <th></th>\n",
       "      <th>id</th>\n",
       "      <th>level</th>\n",
       "      <th>full_log</th>\n",
       "    </tr>\n",
       "  </thead>\n",
       "  <tbody>\n",
       "    <tr>\n",
       "      <th>4</th>\n",
       "      <td>4</td>\n",
       "      <td>1</td>\n",
       "      <td>type=SYSCALL msg=audit(&lt;NUM&gt;.&lt;NUM&gt;:&lt;NUM&gt;): arch=&lt;NUM&gt; syscall=&lt;NUM&gt; success=yes exit=&lt;NUM&gt; a0=&lt;NUM&gt; a1=&lt;NUM&gt; a2=&lt;NUM&gt; a3=&lt;NUM&gt; items=&lt;NUM&gt; ppid=&lt;NUM&gt; pid=&lt;NUM&gt; auid=&lt;NUM&gt; uid=&lt;NUM&gt; gid=&lt;NUM&gt; euid=&lt;NUM&gt; suid=&lt;NUM&gt; fsuid=&lt;NUM&gt; egid=&lt;NUM&gt; sgid=&lt;NUM&gt; fsgid=&lt;NUM&gt; tty=(none) ses=&lt;NUM&gt; comm=\"date\" exe=\"/usr/bin/date\" subj=system_u:system_r:sysstat_t:s0-s0:c0.c1023 key=\"audit-wazuh-r\" type=CWD msg=audit(&lt;NUM&gt;.&lt;NUM&gt;:&lt;NUM&gt;): cwd=\"/root\" type=PATH msg=audit(&lt;NUM&gt;.&lt;NUM&gt;:&lt;NUM&gt;): item=&lt;NUM&gt; name=\"/etc/ld.so.cache\" inode=&lt;NUM&gt; dev=&lt;NUM&gt;:&lt;NUM&gt; mode=&lt;NUM&gt; ouid=&lt;NUM&gt; ogid=&lt;NUM&gt; rdev=&lt;NUM&gt;:&lt;NUM&gt; obj=unconfined_u:object_r:ld_so_cache_t:s0 objtype=NORMAL type=PROCTITLE msg=audit(&lt;NUM&gt;.&lt;NUM&gt;:&lt;NUM&gt;): proctitle=&lt;NUM&gt;</td>\n",
       "    </tr>\n",
       "    <tr>\n",
       "      <th>5</th>\n",
       "      <td>5</td>\n",
       "      <td>1</td>\n",
       "      <td>type=SYSCALL msg=audit(&lt;NUM&gt;.&lt;NUM&gt;:&lt;NUM&gt;): arch=&lt;NUM&gt; syscall=&lt;NUM&gt; success=yes exit=&lt;NUM&gt; a0=&lt;NUM&gt; a1=&lt;NUM&gt; a2=&lt;NUM&gt; a3=&lt;NUM&gt; items=&lt;NUM&gt; ppid=&lt;NUM&gt; pid=&lt;NUM&gt; auid=&lt;NUM&gt; uid=&lt;NUM&gt; gid=&lt;NUM&gt; euid=&lt;NUM&gt; suid=&lt;NUM&gt; fsuid=&lt;NUM&gt; egid=&lt;NUM&gt; sgid=&lt;NUM&gt; fsgid=&lt;NUM&gt; tty=(none) ses=&lt;NUM&gt; comm=\"ps\" exe=\"/usr/bin/ps\" subj=system_u:system_r:unconfined_service_t:s0 key=\"audit-wazuh-r\" type=CWD msg=audit(&lt;NUM&gt;.&lt;NUM&gt;:&lt;NUM&gt;): cwd=\"/\" type=PATH msg=audit(&lt;NUM&gt;.&lt;NUM&gt;:&lt;NUM&gt;): item=&lt;NUM&gt; name=\"/etc/ld.so.cache\" inode=&lt;NUM&gt; dev=&lt;NUM&gt;:&lt;NUM&gt; mode=&lt;NUM&gt; ouid=&lt;NUM&gt; ogid=&lt;NUM&gt; rdev=&lt;NUM&gt;:&lt;NUM&gt; obj=unconfined_u:object_r:ld_so_cache_t:s0 objtype=NORMAL cap_fp=&lt;NUM&gt; cap_fi=&lt;NUM&gt; cap_fe=&lt;NUM&gt; cap_fver=&lt;NUM&gt; type=PROCTITLE msg=audit(&lt;NUM&gt;.&lt;NUM&gt;:&lt;NUM&gt;): proctitle=&lt;NUM&gt;</td>\n",
       "    </tr>\n",
       "    <tr>\n",
       "      <th>10</th>\n",
       "      <td>10</td>\n",
       "      <td>1</td>\n",
       "      <td>type=SYSCALL msg=audit(&lt;NUM&gt;.&lt;NUM&gt;:&lt;NUM&gt;): arch=&lt;NUM&gt; syscall=&lt;NUM&gt; success=yes exit=&lt;NUM&gt; a0=&lt;NUM&gt; a1=&lt;NUM&gt; a2=&lt;NUM&gt; a3=&lt;NUM&gt; items=&lt;NUM&gt; ppid=&lt;NUM&gt; pid=&lt;NUM&gt; auid=&lt;NUM&gt; uid=&lt;NUM&gt; gid=&lt;NUM&gt; euid=&lt;NUM&gt; suid=&lt;NUM&gt; fsuid=&lt;NUM&gt; egid=&lt;NUM&gt; sgid=&lt;NUM&gt; fsgid=&lt;NUM&gt; tty=(none) ses=&lt;NUM&gt; comm=\"ps\" exe=\"/usr/bin/ps\" subj=system_u:system_r:unconfined_service_t:s0 key=\"audit-wazuh-x\" type=EXECVE msg=audit(&lt;NUM&gt;.&lt;NUM&gt;:&lt;NUM&gt;): argc=&lt;NUM&gt; a0=\"/bin/ps\" a1=\"-p\" a2=\"&lt;NUM&gt;\" type=CWD msg=audit(&lt;NUM&gt;.&lt;NUM&gt;:&lt;NUM&gt;): cwd=\"/\" type=PATH msg=audit(&lt;NUM&gt;.&lt;NUM&gt;:&lt;NUM&gt;): item=&lt;NUM&gt; name=\"/bin/ps\" inode=&lt;NUM&gt; dev=&lt;NUM&gt;:&lt;NUM&gt; mode=&lt;NUM&gt; ouid=&lt;NUM&gt; ogid=&lt;NUM&gt; rdev=&lt;NUM&gt;:&lt;NUM&gt; obj=system_u:object_r:bin_t:s0 objtype=NORMAL cap_fp=&lt;NUM&gt; cap_fi=&lt;NUM&gt; cap_fe=&lt;NUM&gt; cap_fver=&lt;NUM&gt; type=PATH msg=audit(&lt;NUM&gt;.&lt;NUM&gt;:&lt;NUM&gt;): item=&lt;NUM&gt; name=\"/lib64/ld-linux-x86-&lt;NUM&gt;.so.&lt;NUM&gt;\" inode=&lt;NUM&gt; dev=&lt;NUM&gt;:&lt;NUM&gt; mode=&lt;NUM&gt; ouid=&lt;NUM&gt; ogid=&lt;NUM&gt; rdev=&lt;NUM&gt;:&lt;NUM&gt; obj=system_u:object_r:ld_so_t:s0 objtype=NORMAL cap_fp=&lt;NUM&gt; cap_fi=&lt;NUM&gt; cap_fe=&lt;NUM&gt; cap_fver=&lt;NUM&gt; type=PROCTITLE msg=audit(&lt;NUM&gt;.&lt;NUM&gt;:&lt;NUM&gt;): proctitle=&lt;NUM&gt;</td>\n",
       "    </tr>\n",
       "    <tr>\n",
       "      <th>15</th>\n",
       "      <td>15</td>\n",
       "      <td>1</td>\n",
       "      <td>type=SYSCALL msg=audit(&lt;NUM&gt;.&lt;NUM&gt;:&lt;NUM&gt;): arch=&lt;NUM&gt; syscall=&lt;NUM&gt; success=yes exit=&lt;NUM&gt; a0=&lt;NUM&gt; a1=&lt;NUM&gt; a2=&lt;NUM&gt; a3=&lt;NUM&gt; items=&lt;NUM&gt; ppid=&lt;NUM&gt; pid=&lt;NUM&gt; auid=&lt;NUM&gt; uid=&lt;NUM&gt; gid=&lt;NUM&gt; euid=&lt;NUM&gt; suid=&lt;NUM&gt; fsuid=&lt;NUM&gt; egid=&lt;NUM&gt; sgid=&lt;NUM&gt; fsgid=&lt;NUM&gt; tty=(none) ses=&lt;NUM&gt; comm=\"ossec-syscheckd\" exe=\"/var/esild/bin/ossec-syscheckd\" subj=unconfined_u:unconfined_r:unconfined_t:s0-s0:c0.c1023 key=\"audit-wazuh-r\" type=CWD msg=audit(&lt;NUM&gt;.&lt;NUM&gt;:&lt;NUM&gt;): cwd=\"/\" type=PATH msg=audit(&lt;NUM&gt;.&lt;NUM&gt;:&lt;NUM&gt;): item=&lt;NUM&gt; name=\"/etc/group\" inode=&lt;NUM&gt; dev=&lt;NUM&gt;:&lt;NUM&gt; mode=&lt;NUM&gt; ouid=&lt;NUM&gt; ogid=&lt;NUM&gt; rdev=&lt;NUM&gt;:&lt;NUM&gt; obj=system_u:object_r:passwd_file_t:s0 objtype=NORMAL type=PROCTITLE msg=audit(&lt;NUM&gt;.&lt;NUM&gt;:&lt;NUM&gt;): proctitle=\"/var/esild/bin/ossec-syscheckd\"</td>\n",
       "    </tr>\n",
       "    <tr>\n",
       "      <th>22</th>\n",
       "      <td>22</td>\n",
       "      <td>1</td>\n",
       "      <td>type=SYSCALL msg=audit(&lt;NUM&gt;.&lt;NUM&gt;:&lt;NUM&gt;): arch=&lt;NUM&gt; syscall=&lt;NUM&gt; success=yes exit=&lt;NUM&gt; a0=&lt;NUM&gt; a1=&lt;NUM&gt; a2=&lt;NUM&gt; a3=&lt;NUM&gt; items=&lt;NUM&gt; ppid=&lt;NUM&gt; pid=&lt;NUM&gt; auid=&lt;NUM&gt; uid=&lt;NUM&gt; gid=&lt;NUM&gt; euid=&lt;NUM&gt; suid=&lt;NUM&gt; fsuid=&lt;NUM&gt; egid=&lt;NUM&gt; sgid=&lt;NUM&gt; fsgid=&lt;NUM&gt; tty=(none) ses=&lt;NUM&gt; comm=\"ossec-syscheckd\" exe=\"/var/esild/bin/ossec-syscheckd\" subj=unconfined_u:unconfined_r:unconfined_t:s0-s0:c0.c1023 key=\"audit-wazuh-r\" type=CWD msg=audit(&lt;NUM&gt;.&lt;NUM&gt;:&lt;NUM&gt;): cwd=\"/\" type=PATH msg=audit(&lt;NUM&gt;.&lt;NUM&gt;:&lt;NUM&gt;): item=&lt;NUM&gt; name=\"/bin/gucharmap\" inode=&lt;NUM&gt; dev=&lt;NUM&gt;:&lt;NUM&gt; mode=&lt;NUM&gt; ouid=&lt;NUM&gt; ogid=&lt;NUM&gt; rdev=&lt;NUM&gt;:&lt;NUM&gt; obj=system_u:object_r:bin_t:s0 objtype=NORMAL type=PROCTITLE msg=audit(&lt;NUM&gt;.&lt;NUM&gt;:&lt;NUM&gt;): proctitle=\"/var/esild/bin/ossec-syscheckd\"</td>\n",
       "    </tr>\n",
       "    <tr>\n",
       "      <th>...</th>\n",
       "      <td>...</td>\n",
       "      <td>...</td>\n",
       "      <td>...</td>\n",
       "    </tr>\n",
       "    <tr>\n",
       "      <th>472943</th>\n",
       "      <td>472945</td>\n",
       "      <td>1</td>\n",
       "      <td>type=SYSCALL msg=audit(&lt;NUM&gt;.&lt;NUM&gt;:&lt;NUM&gt;): arch=&lt;NUM&gt; syscall=&lt;NUM&gt; success=yes exit=&lt;NUM&gt; a0=&lt;NUM&gt; a1=&lt;NUM&gt; a2=&lt;NUM&gt; a3=&lt;NUM&gt; items=&lt;NUM&gt; ppid=&lt;NUM&gt; pid=&lt;NUM&gt; auid=&lt;NUM&gt; uid=&lt;NUM&gt; gid=&lt;NUM&gt; euid=&lt;NUM&gt; suid=&lt;NUM&gt; fsuid=&lt;NUM&gt; egid=&lt;NUM&gt; sgid=&lt;NUM&gt; fsgid=&lt;NUM&gt; tty=(none) ses=&lt;NUM&gt; comm=\"ps\" exe=\"/usr/bin/ps\" subj=system_u:system_r:unconfined_service_t:s0 key=\"audit-wazuh-x\" type=EXECVE msg=audit(&lt;NUM&gt;.&lt;NUM&gt;:&lt;NUM&gt;): argc=&lt;NUM&gt; a0=\"/bin/ps\" a1=\"-p\" a2=\"&lt;NUM&gt;\" type=CWD msg=audit(&lt;NUM&gt;.&lt;NUM&gt;:&lt;NUM&gt;): cwd=\"/\" type=PATH msg=audit(&lt;NUM&gt;.&lt;NUM&gt;:&lt;NUM&gt;): item=&lt;NUM&gt; name=\"/bin/ps\" inode=&lt;NUM&gt; dev=&lt;NUM&gt;:&lt;NUM&gt; mode=&lt;NUM&gt; ouid=&lt;NUM&gt; ogid=&lt;NUM&gt; rdev=&lt;NUM&gt;:&lt;NUM&gt; obj=system_u:object_r:bin_t:s0 objtype=NORMAL cap_fp=&lt;NUM&gt; cap_fi=&lt;NUM&gt; cap_fe=&lt;NUM&gt; cap_fver=&lt;NUM&gt; type=PATH msg=audit(&lt;NUM&gt;.&lt;NUM&gt;:&lt;NUM&gt;): item=&lt;NUM&gt; name=\"/lib64/ld-linux-x86-&lt;NUM&gt;.so.&lt;NUM&gt;\" inode=&lt;NUM&gt; dev=&lt;NUM&gt;:&lt;NUM&gt; mode=&lt;NUM&gt; ouid=&lt;NUM&gt; ogid=&lt;NUM&gt; rdev=&lt;NUM&gt;:&lt;NUM&gt; obj=system_u:object_r:ld_so_t:s0 objtype=NORMAL cap_fp=&lt;NUM&gt; cap_fi=&lt;NUM&gt; cap_fe=&lt;NUM&gt; cap_fver=&lt;NUM&gt; type=PROCTITLE msg=audit(&lt;NUM&gt;.&lt;NUM&gt;:&lt;NUM&gt;): proctitle=&lt;NUM&gt;</td>\n",
       "    </tr>\n",
       "    <tr>\n",
       "      <th>472949</th>\n",
       "      <td>472951</td>\n",
       "      <td>1</td>\n",
       "      <td>type=SYSCALL msg=audit(&lt;NUM&gt;.&lt;NUM&gt;:&lt;NUM&gt;): arch=&lt;NUM&gt; syscall=&lt;NUM&gt; success=yes exit=&lt;NUM&gt; a0=&lt;NUM&gt; a1=&lt;NUM&gt; a2=&lt;NUM&gt; a3=&lt;NUM&gt; items=&lt;NUM&gt; ppid=&lt;NUM&gt; pid=&lt;NUM&gt; auid=&lt;NUM&gt; uid=&lt;NUM&gt; gid=&lt;NUM&gt; euid=&lt;NUM&gt; suid=&lt;NUM&gt; fsuid=&lt;NUM&gt; egid=&lt;NUM&gt; sgid=&lt;NUM&gt; fsgid=&lt;NUM&gt; tty=(none) ses=&lt;NUM&gt; comm=\"ps\" exe=\"/usr/bin/ps\" subj=system_u:system_r:unconfined_service_t:s0 key=\"audit-wazuh-r\" type=CWD msg=audit(&lt;NUM&gt;.&lt;NUM&gt;:&lt;NUM&gt;): cwd=\"/\" type=PATH msg=audit(&lt;NUM&gt;.&lt;NUM&gt;:&lt;NUM&gt;): item=&lt;NUM&gt; name=\"/etc/ld.so.cache\" inode=&lt;NUM&gt; dev=&lt;NUM&gt;:&lt;NUM&gt; mode=&lt;NUM&gt; ouid=&lt;NUM&gt; ogid=&lt;NUM&gt; rdev=&lt;NUM&gt;:&lt;NUM&gt; obj=unconfined_u:object_r:ld_so_cache_t:s0 objtype=NORMAL cap_fp=&lt;NUM&gt; cap_fi=&lt;NUM&gt; cap_fe=&lt;NUM&gt; cap_fver=&lt;NUM&gt; type=PROCTITLE msg=audit(&lt;NUM&gt;.&lt;NUM&gt;:&lt;NUM&gt;): proctitle=&lt;NUM&gt;</td>\n",
       "    </tr>\n",
       "    <tr>\n",
       "      <th>472951</th>\n",
       "      <td>472953</td>\n",
       "      <td>1</td>\n",
       "      <td>type=SYSCALL msg=audit(&lt;NUM&gt;.&lt;NUM&gt;:&lt;NUM&gt;): arch=&lt;NUM&gt; syscall=&lt;NUM&gt; success=yes exit=&lt;NUM&gt; a0=&lt;NUM&gt; a1=&lt;NUM&gt; a2=&lt;NUM&gt; a3=&lt;NUM&gt; items=&lt;NUM&gt; ppid=&lt;NUM&gt; pid=&lt;NUM&gt; auid=&lt;NUM&gt; uid=&lt;NUM&gt; gid=&lt;NUM&gt; euid=&lt;NUM&gt; suid=&lt;NUM&gt; fsuid=&lt;NUM&gt; egid=&lt;NUM&gt; sgid=&lt;NUM&gt; fsgid=&lt;NUM&gt; tty=(none) ses=&lt;NUM&gt; comm=\"ossec-syscheckd\" exe=\"/var/esild/bin/ossec-syscheckd\" subj=system_u:system_r:unconfined_service_t:s0 key=\"audit-wazuh-r\" type=CWD msg=audit(&lt;NUM&gt;.&lt;NUM&gt;:&lt;NUM&gt;): cwd=\"/\" type=PATH msg=audit(&lt;NUM&gt;.&lt;NUM&gt;:&lt;NUM&gt;): item=&lt;NUM&gt; name=\"/boot/grub2/i386-pc/cpio.mod\" inode=&lt;NUM&gt; dev=&lt;NUM&gt;:&lt;NUM&gt; mode=&lt;NUM&gt; ouid=&lt;NUM&gt; ogid=&lt;NUM&gt; rdev=&lt;NUM&gt;:&lt;NUM&gt; obj=system_u:object_r:boot_t:s0 objtype=NORMAL cap_fp=&lt;NUM&gt; cap_fi=&lt;NUM&gt; cap_fe=&lt;NUM&gt; cap_fver=&lt;NUM&gt; type=PROCTITLE msg=audit(&lt;NUM&gt;.&lt;NUM&gt;:&lt;NUM&gt;): proctitle=\"/var/esild/bin/ossec-syscheckd\"</td>\n",
       "    </tr>\n",
       "    <tr>\n",
       "      <th>472953</th>\n",
       "      <td>472955</td>\n",
       "      <td>1</td>\n",
       "      <td>type=SYSCALL msg=audit(&lt;NUM&gt;.&lt;NUM&gt;:&lt;NUM&gt;): arch=&lt;NUM&gt; syscall=&lt;NUM&gt; success=yes exit=&lt;NUM&gt; a0=&lt;NUM&gt; a1=&lt;NUM&gt; a2=&lt;NUM&gt; a3=&lt;NUM&gt; items=&lt;NUM&gt; ppid=&lt;NUM&gt; pid=&lt;NUM&gt; auid=&lt;NUM&gt; uid=&lt;NUM&gt; gid=&lt;NUM&gt; euid=&lt;NUM&gt; suid=&lt;NUM&gt; fsuid=&lt;NUM&gt; egid=&lt;NUM&gt; sgid=&lt;NUM&gt; fsgid=&lt;NUM&gt; tty=(none) ses=&lt;NUM&gt; comm=\"sh\" exe=\"/usr/bin/bash\" subj=system_u:system_r:unconfined_service_t:s0 key=\"audit-wazuh-r\" type=CWD msg=audit(&lt;NUM&gt;.&lt;NUM&gt;:&lt;NUM&gt;): cwd=\"/\" type=PATH msg=audit(&lt;NUM&gt;.&lt;NUM&gt;:&lt;NUM&gt;): item=&lt;NUM&gt; name=\"/etc/nsswitch.conf\" inode=&lt;NUM&gt; dev=&lt;NUM&gt;:&lt;NUM&gt; mode=&lt;NUM&gt; ouid=&lt;NUM&gt; ogid=&lt;NUM&gt; rdev=&lt;NUM&gt;:&lt;NUM&gt; obj=system_u:object_r:etc_t:s0 objtype=NORMAL cap_fp=&lt;NUM&gt; cap_fi=&lt;NUM&gt; cap_fe=&lt;NUM&gt; cap_fver=&lt;NUM&gt; type=PROCTITLE msg=audit(&lt;NUM&gt;.&lt;NUM&gt;:&lt;NUM&gt;): proctitle=&lt;NUM&gt;</td>\n",
       "    </tr>\n",
       "    <tr>\n",
       "      <th>472966</th>\n",
       "      <td>472968</td>\n",
       "      <td>1</td>\n",
       "      <td>type=SYSCALL msg=audit(&lt;NUM&gt;.&lt;NUM&gt;:&lt;NUM&gt;): arch=&lt;NUM&gt; syscall=&lt;NUM&gt; success=yes exit=&lt;NUM&gt; a0=&lt;NUM&gt; a1=&lt;NUM&gt; a2=&lt;NUM&gt; a3=&lt;NUM&gt; items=&lt;NUM&gt; ppid=&lt;NUM&gt; pid=&lt;NUM&gt; auid=&lt;NUM&gt; uid=&lt;NUM&gt; gid=&lt;NUM&gt; euid=&lt;NUM&gt; suid=&lt;NUM&gt; fsuid=&lt;NUM&gt; egid=&lt;NUM&gt; sgid=&lt;NUM&gt; fsgid=&lt;NUM&gt; tty=(none) ses=&lt;NUM&gt; comm=\"ossec-syscheckd\" exe=\"/var/esild/bin/ossec-syscheckd\" subj=system_u:system_r:unconfined_service_t:s0 key=\"audit-wazuh-r\" type=CWD msg=audit(&lt;NUM&gt;.&lt;NUM&gt;:&lt;NUM&gt;): cwd=\"/\" type=PATH msg=audit(&lt;NUM&gt;.&lt;NUM&gt;:&lt;NUM&gt;): item=&lt;NUM&gt; name=\"/boot/grub\" inode=&lt;NUM&gt; dev=&lt;NUM&gt;:&lt;NUM&gt; mode=&lt;NUM&gt; ouid=&lt;NUM&gt; ogid=&lt;NUM&gt; rdev=&lt;NUM&gt;:&lt;NUM&gt; obj=system_u:object_r:boot_t:s0 objtype=NORMAL cap_fp=&lt;NUM&gt; cap_fi=&lt;NUM&gt; cap_fe=&lt;NUM&gt; cap_fver=&lt;NUM&gt; type=PROCTITLE msg=audit(&lt;NUM&gt;.&lt;NUM&gt;:&lt;NUM&gt;): proctitle=\"/var/esild/bin/ossec-syscheckd\"</td>\n",
       "    </tr>\n",
       "  </tbody>\n",
       "</table>\n",
       "<p>116841 rows × 3 columns</p>\n",
       "</div>"
      ],
      "text/plain": [
       "            id  level  \\\n",
       "4       4       1       \n",
       "5       5       1       \n",
       "10      10      1       \n",
       "15      15      1       \n",
       "22      22      1       \n",
       "...     ..     ..       \n",
       "472943  472945  1       \n",
       "472949  472951  1       \n",
       "472951  472953  1       \n",
       "472953  472955  1       \n",
       "472966  472968  1       \n",
       "\n",
       "                                                                                                                                                                                                                                                                                                                                                                                                                                                                                                                                                                                                                                                                                                                                                                                                                                                                                                                                                                                                                                                                                                                            full_log  \n",
       "4       type=SYSCALL msg=audit(<NUM>.<NUM>:<NUM>): arch=<NUM> syscall=<NUM> success=yes exit=<NUM> a0=<NUM> a1=<NUM> a2=<NUM> a3=<NUM> items=<NUM> ppid=<NUM> pid=<NUM> auid=<NUM> uid=<NUM> gid=<NUM> euid=<NUM> suid=<NUM> fsuid=<NUM> egid=<NUM> sgid=<NUM> fsgid=<NUM> tty=(none) ses=<NUM> comm=\"date\" exe=\"/usr/bin/date\" subj=system_u:system_r:sysstat_t:s0-s0:c0.c1023 key=\"audit-wazuh-r\" type=CWD msg=audit(<NUM>.<NUM>:<NUM>): cwd=\"/root\" type=PATH msg=audit(<NUM>.<NUM>:<NUM>): item=<NUM> name=\"/etc/ld.so.cache\" inode=<NUM> dev=<NUM>:<NUM> mode=<NUM> ouid=<NUM> ogid=<NUM> rdev=<NUM>:<NUM> obj=unconfined_u:object_r:ld_so_cache_t:s0 objtype=NORMAL type=PROCTITLE msg=audit(<NUM>.<NUM>:<NUM>): proctitle=<NUM>                                                                                                                                                                                                                                                                                                                                                                                                \n",
       "5       type=SYSCALL msg=audit(<NUM>.<NUM>:<NUM>): arch=<NUM> syscall=<NUM> success=yes exit=<NUM> a0=<NUM> a1=<NUM> a2=<NUM> a3=<NUM> items=<NUM> ppid=<NUM> pid=<NUM> auid=<NUM> uid=<NUM> gid=<NUM> euid=<NUM> suid=<NUM> fsuid=<NUM> egid=<NUM> sgid=<NUM> fsgid=<NUM> tty=(none) ses=<NUM> comm=\"ps\" exe=\"/usr/bin/ps\" subj=system_u:system_r:unconfined_service_t:s0 key=\"audit-wazuh-r\" type=CWD msg=audit(<NUM>.<NUM>:<NUM>): cwd=\"/\" type=PATH msg=audit(<NUM>.<NUM>:<NUM>): item=<NUM> name=\"/etc/ld.so.cache\" inode=<NUM> dev=<NUM>:<NUM> mode=<NUM> ouid=<NUM> ogid=<NUM> rdev=<NUM>:<NUM> obj=unconfined_u:object_r:ld_so_cache_t:s0 objtype=NORMAL cap_fp=<NUM> cap_fi=<NUM> cap_fe=<NUM> cap_fver=<NUM> type=PROCTITLE msg=audit(<NUM>.<NUM>:<NUM>): proctitle=<NUM>                                                                                                                                                                                                                                                                                                                                                   \n",
       "10      type=SYSCALL msg=audit(<NUM>.<NUM>:<NUM>): arch=<NUM> syscall=<NUM> success=yes exit=<NUM> a0=<NUM> a1=<NUM> a2=<NUM> a3=<NUM> items=<NUM> ppid=<NUM> pid=<NUM> auid=<NUM> uid=<NUM> gid=<NUM> euid=<NUM> suid=<NUM> fsuid=<NUM> egid=<NUM> sgid=<NUM> fsgid=<NUM> tty=(none) ses=<NUM> comm=\"ps\" exe=\"/usr/bin/ps\" subj=system_u:system_r:unconfined_service_t:s0 key=\"audit-wazuh-x\" type=EXECVE msg=audit(<NUM>.<NUM>:<NUM>): argc=<NUM> a0=\"/bin/ps\" a1=\"-p\" a2=\"<NUM>\" type=CWD msg=audit(<NUM>.<NUM>:<NUM>): cwd=\"/\" type=PATH msg=audit(<NUM>.<NUM>:<NUM>): item=<NUM> name=\"/bin/ps\" inode=<NUM> dev=<NUM>:<NUM> mode=<NUM> ouid=<NUM> ogid=<NUM> rdev=<NUM>:<NUM> obj=system_u:object_r:bin_t:s0 objtype=NORMAL cap_fp=<NUM> cap_fi=<NUM> cap_fe=<NUM> cap_fver=<NUM> type=PATH msg=audit(<NUM>.<NUM>:<NUM>): item=<NUM> name=\"/lib64/ld-linux-x86-<NUM>.so.<NUM>\" inode=<NUM> dev=<NUM>:<NUM> mode=<NUM> ouid=<NUM> ogid=<NUM> rdev=<NUM>:<NUM> obj=system_u:object_r:ld_so_t:s0 objtype=NORMAL cap_fp=<NUM> cap_fi=<NUM> cap_fe=<NUM> cap_fver=<NUM> type=PROCTITLE msg=audit(<NUM>.<NUM>:<NUM>): proctitle=<NUM>  \n",
       "15      type=SYSCALL msg=audit(<NUM>.<NUM>:<NUM>): arch=<NUM> syscall=<NUM> success=yes exit=<NUM> a0=<NUM> a1=<NUM> a2=<NUM> a3=<NUM> items=<NUM> ppid=<NUM> pid=<NUM> auid=<NUM> uid=<NUM> gid=<NUM> euid=<NUM> suid=<NUM> fsuid=<NUM> egid=<NUM> sgid=<NUM> fsgid=<NUM> tty=(none) ses=<NUM> comm=\"ossec-syscheckd\" exe=\"/var/esild/bin/ossec-syscheckd\" subj=unconfined_u:unconfined_r:unconfined_t:s0-s0:c0.c1023 key=\"audit-wazuh-r\" type=CWD msg=audit(<NUM>.<NUM>:<NUM>): cwd=\"/\" type=PATH msg=audit(<NUM>.<NUM>:<NUM>): item=<NUM> name=\"/etc/group\" inode=<NUM> dev=<NUM>:<NUM> mode=<NUM> ouid=<NUM> ogid=<NUM> rdev=<NUM>:<NUM> obj=system_u:object_r:passwd_file_t:s0 objtype=NORMAL type=PROCTITLE msg=audit(<NUM>.<NUM>:<NUM>): proctitle=\"/var/esild/bin/ossec-syscheckd\"                                                                                                                                                                                                                                                                                                                                            \n",
       "22      type=SYSCALL msg=audit(<NUM>.<NUM>:<NUM>): arch=<NUM> syscall=<NUM> success=yes exit=<NUM> a0=<NUM> a1=<NUM> a2=<NUM> a3=<NUM> items=<NUM> ppid=<NUM> pid=<NUM> auid=<NUM> uid=<NUM> gid=<NUM> euid=<NUM> suid=<NUM> fsuid=<NUM> egid=<NUM> sgid=<NUM> fsgid=<NUM> tty=(none) ses=<NUM> comm=\"ossec-syscheckd\" exe=\"/var/esild/bin/ossec-syscheckd\" subj=unconfined_u:unconfined_r:unconfined_t:s0-s0:c0.c1023 key=\"audit-wazuh-r\" type=CWD msg=audit(<NUM>.<NUM>:<NUM>): cwd=\"/\" type=PATH msg=audit(<NUM>.<NUM>:<NUM>): item=<NUM> name=\"/bin/gucharmap\" inode=<NUM> dev=<NUM>:<NUM> mode=<NUM> ouid=<NUM> ogid=<NUM> rdev=<NUM>:<NUM> obj=system_u:object_r:bin_t:s0 objtype=NORMAL type=PROCTITLE msg=audit(<NUM>.<NUM>:<NUM>): proctitle=\"/var/esild/bin/ossec-syscheckd\"                                                                                                                                                                                                                                                                                                                                                \n",
       "...                                                                                                                                                                                                                                                                                                                                                                                                                                                                                                                                                                                                                                                                                                                                                                                ...                                                                                                                                                                                                                                                                                                                                                \n",
       "472943  type=SYSCALL msg=audit(<NUM>.<NUM>:<NUM>): arch=<NUM> syscall=<NUM> success=yes exit=<NUM> a0=<NUM> a1=<NUM> a2=<NUM> a3=<NUM> items=<NUM> ppid=<NUM> pid=<NUM> auid=<NUM> uid=<NUM> gid=<NUM> euid=<NUM> suid=<NUM> fsuid=<NUM> egid=<NUM> sgid=<NUM> fsgid=<NUM> tty=(none) ses=<NUM> comm=\"ps\" exe=\"/usr/bin/ps\" subj=system_u:system_r:unconfined_service_t:s0 key=\"audit-wazuh-x\" type=EXECVE msg=audit(<NUM>.<NUM>:<NUM>): argc=<NUM> a0=\"/bin/ps\" a1=\"-p\" a2=\"<NUM>\" type=CWD msg=audit(<NUM>.<NUM>:<NUM>): cwd=\"/\" type=PATH msg=audit(<NUM>.<NUM>:<NUM>): item=<NUM> name=\"/bin/ps\" inode=<NUM> dev=<NUM>:<NUM> mode=<NUM> ouid=<NUM> ogid=<NUM> rdev=<NUM>:<NUM> obj=system_u:object_r:bin_t:s0 objtype=NORMAL cap_fp=<NUM> cap_fi=<NUM> cap_fe=<NUM> cap_fver=<NUM> type=PATH msg=audit(<NUM>.<NUM>:<NUM>): item=<NUM> name=\"/lib64/ld-linux-x86-<NUM>.so.<NUM>\" inode=<NUM> dev=<NUM>:<NUM> mode=<NUM> ouid=<NUM> ogid=<NUM> rdev=<NUM>:<NUM> obj=system_u:object_r:ld_so_t:s0 objtype=NORMAL cap_fp=<NUM> cap_fi=<NUM> cap_fe=<NUM> cap_fver=<NUM> type=PROCTITLE msg=audit(<NUM>.<NUM>:<NUM>): proctitle=<NUM>  \n",
       "472949  type=SYSCALL msg=audit(<NUM>.<NUM>:<NUM>): arch=<NUM> syscall=<NUM> success=yes exit=<NUM> a0=<NUM> a1=<NUM> a2=<NUM> a3=<NUM> items=<NUM> ppid=<NUM> pid=<NUM> auid=<NUM> uid=<NUM> gid=<NUM> euid=<NUM> suid=<NUM> fsuid=<NUM> egid=<NUM> sgid=<NUM> fsgid=<NUM> tty=(none) ses=<NUM> comm=\"ps\" exe=\"/usr/bin/ps\" subj=system_u:system_r:unconfined_service_t:s0 key=\"audit-wazuh-r\" type=CWD msg=audit(<NUM>.<NUM>:<NUM>): cwd=\"/\" type=PATH msg=audit(<NUM>.<NUM>:<NUM>): item=<NUM> name=\"/etc/ld.so.cache\" inode=<NUM> dev=<NUM>:<NUM> mode=<NUM> ouid=<NUM> ogid=<NUM> rdev=<NUM>:<NUM> obj=unconfined_u:object_r:ld_so_cache_t:s0 objtype=NORMAL cap_fp=<NUM> cap_fi=<NUM> cap_fe=<NUM> cap_fver=<NUM> type=PROCTITLE msg=audit(<NUM>.<NUM>:<NUM>): proctitle=<NUM>                                                                                                                                                                                                                                                                                                                                                   \n",
       "472951  type=SYSCALL msg=audit(<NUM>.<NUM>:<NUM>): arch=<NUM> syscall=<NUM> success=yes exit=<NUM> a0=<NUM> a1=<NUM> a2=<NUM> a3=<NUM> items=<NUM> ppid=<NUM> pid=<NUM> auid=<NUM> uid=<NUM> gid=<NUM> euid=<NUM> suid=<NUM> fsuid=<NUM> egid=<NUM> sgid=<NUM> fsgid=<NUM> tty=(none) ses=<NUM> comm=\"ossec-syscheckd\" exe=\"/var/esild/bin/ossec-syscheckd\" subj=system_u:system_r:unconfined_service_t:s0 key=\"audit-wazuh-r\" type=CWD msg=audit(<NUM>.<NUM>:<NUM>): cwd=\"/\" type=PATH msg=audit(<NUM>.<NUM>:<NUM>): item=<NUM> name=\"/boot/grub2/i386-pc/cpio.mod\" inode=<NUM> dev=<NUM>:<NUM> mode=<NUM> ouid=<NUM> ogid=<NUM> rdev=<NUM>:<NUM> obj=system_u:object_r:boot_t:s0 objtype=NORMAL cap_fp=<NUM> cap_fi=<NUM> cap_fe=<NUM> cap_fver=<NUM> type=PROCTITLE msg=audit(<NUM>.<NUM>:<NUM>): proctitle=\"/var/esild/bin/ossec-syscheckd\"                                                                                                                                                                                                                                                                                       \n",
       "472953  type=SYSCALL msg=audit(<NUM>.<NUM>:<NUM>): arch=<NUM> syscall=<NUM> success=yes exit=<NUM> a0=<NUM> a1=<NUM> a2=<NUM> a3=<NUM> items=<NUM> ppid=<NUM> pid=<NUM> auid=<NUM> uid=<NUM> gid=<NUM> euid=<NUM> suid=<NUM> fsuid=<NUM> egid=<NUM> sgid=<NUM> fsgid=<NUM> tty=(none) ses=<NUM> comm=\"sh\" exe=\"/usr/bin/bash\" subj=system_u:system_r:unconfined_service_t:s0 key=\"audit-wazuh-r\" type=CWD msg=audit(<NUM>.<NUM>:<NUM>): cwd=\"/\" type=PATH msg=audit(<NUM>.<NUM>:<NUM>): item=<NUM> name=\"/etc/nsswitch.conf\" inode=<NUM> dev=<NUM>:<NUM> mode=<NUM> ouid=<NUM> ogid=<NUM> rdev=<NUM>:<NUM> obj=system_u:object_r:etc_t:s0 objtype=NORMAL cap_fp=<NUM> cap_fi=<NUM> cap_fe=<NUM> cap_fver=<NUM> type=PROCTITLE msg=audit(<NUM>.<NUM>:<NUM>): proctitle=<NUM>                                                                                                                                                                                                                                                                                                                                                           \n",
       "472966  type=SYSCALL msg=audit(<NUM>.<NUM>:<NUM>): arch=<NUM> syscall=<NUM> success=yes exit=<NUM> a0=<NUM> a1=<NUM> a2=<NUM> a3=<NUM> items=<NUM> ppid=<NUM> pid=<NUM> auid=<NUM> uid=<NUM> gid=<NUM> euid=<NUM> suid=<NUM> fsuid=<NUM> egid=<NUM> sgid=<NUM> fsgid=<NUM> tty=(none) ses=<NUM> comm=\"ossec-syscheckd\" exe=\"/var/esild/bin/ossec-syscheckd\" subj=system_u:system_r:unconfined_service_t:s0 key=\"audit-wazuh-r\" type=CWD msg=audit(<NUM>.<NUM>:<NUM>): cwd=\"/\" type=PATH msg=audit(<NUM>.<NUM>:<NUM>): item=<NUM> name=\"/boot/grub\" inode=<NUM> dev=<NUM>:<NUM> mode=<NUM> ouid=<NUM> ogid=<NUM> rdev=<NUM>:<NUM> obj=system_u:object_r:boot_t:s0 objtype=NORMAL cap_fp=<NUM> cap_fi=<NUM> cap_fe=<NUM> cap_fver=<NUM> type=PROCTITLE msg=audit(<NUM>.<NUM>:<NUM>): proctitle=\"/var/esild/bin/ossec-syscheckd\"                                                                                                                                                                                                                                                                                                         \n",
       "\n",
       "[116841 rows x 3 columns]"
      ]
     },
     "execution_count": 40,
     "metadata": {},
     "output_type": "execute_result"
    }
   ],
   "source": [
    "train[train['full_log'].str.contains('SYSCALL')]"
   ]
  },
  {
   "cell_type": "code",
   "execution_count": 41,
   "id": "b20f4368",
   "metadata": {
    "scrolled": true
   },
   "outputs": [
    {
     "data": {
      "text/plain": [
       "0    334020\n",
       "1    132182\n",
       "3    4139  \n",
       "5    2180  \n",
       "2    11    \n",
       "4    10    \n",
       "6    8     \n",
       "Name: level, dtype: int64"
      ]
     },
     "execution_count": 41,
     "metadata": {},
     "output_type": "execute_result"
    }
   ],
   "source": [
    "train['level'].value_counts()"
   ]
  },
  {
   "cell_type": "code",
   "execution_count": 42,
   "id": "d5b6813c",
   "metadata": {},
   "outputs": [],
   "source": [
    "X_data = train['full_log']\n",
    "y_data = train['level']"
   ]
  },
  {
   "cell_type": "markdown",
   "id": "4e6ed886",
   "metadata": {},
   "source": [
    "# Vectorize"
   ]
  },
  {
   "cell_type": "code",
   "execution_count": 43,
   "id": "0a47901f",
   "metadata": {},
   "outputs": [],
   "source": [
    "VOCAB_SIZE = 10000\n",
    "\n",
    "vectorizer = TfidfVectorizer(analyzer='word', max_features=VOCAB_SIZE)\n",
    "X_features = vectorizer.fit_transform(X_data)"
   ]
  },
  {
   "cell_type": "code",
   "execution_count": 44,
   "id": "5bfeadc0",
   "metadata": {},
   "outputs": [
    {
     "data": {
      "text/plain": [
       "<472550x9980 sparse matrix of type '<class 'numpy.float64'>'\n",
       "\twith 17482703 stored elements in Compressed Sparse Row format>"
      ]
     },
     "execution_count": 44,
     "metadata": {},
     "output_type": "execute_result"
    }
   ],
   "source": [
    "X_features"
   ]
  },
  {
   "cell_type": "markdown",
   "id": "55a002c7",
   "metadata": {},
   "source": [
    "# Train"
   ]
  },
  {
   "cell_type": "markdown",
   "id": "35090e63",
   "metadata": {},
   "source": [
    "## Split"
   ]
  },
  {
   "cell_type": "code",
   "execution_count": 45,
   "id": "68330e13",
   "metadata": {},
   "outputs": [
    {
     "data": {
      "text/plain": [
       "((434746, 9980), (434746,), (37804, 9980), (37804,))"
      ]
     },
     "execution_count": 45,
     "metadata": {},
     "output_type": "execute_result"
    }
   ],
   "source": [
    "X_train, X_eval, y_train, y_eval = train_test_split(X_features, y_data, test_size=0.08, random_state=100, stratify=y_data)\n",
    "\n",
    "X_train.shape, y_train.shape, X_eval.shape, y_eval.shape"
   ]
  },
  {
   "cell_type": "code",
   "execution_count": 46,
   "id": "376aa5c9",
   "metadata": {},
   "outputs": [
    {
     "data": {
      "text/plain": [
       "0    307298\n",
       "1    121608\n",
       "3    3808  \n",
       "5    2006  \n",
       "2    10    \n",
       "4    9     \n",
       "6    7     \n",
       "Name: level, dtype: int64"
      ]
     },
     "execution_count": 46,
     "metadata": {},
     "output_type": "execute_result"
    }
   ],
   "source": [
    "y_train.value_counts()"
   ]
  },
  {
   "cell_type": "code",
   "execution_count": 47,
   "id": "608b4de8",
   "metadata": {},
   "outputs": [
    {
     "data": {
      "text/plain": [
       "0    26722\n",
       "1    10574\n",
       "3    331  \n",
       "5    174  \n",
       "2    1    \n",
       "4    1    \n",
       "6    1    \n",
       "Name: level, dtype: int64"
      ]
     },
     "execution_count": 47,
     "metadata": {},
     "output_type": "execute_result"
    }
   ],
   "source": [
    "y_eval.value_counts()"
   ]
  },
  {
   "cell_type": "markdown",
   "id": "5f662d63",
   "metadata": {},
   "source": [
    "## Extra"
   ]
  },
  {
   "cell_type": "code",
   "execution_count": 48,
   "id": "72c56866",
   "metadata": {},
   "outputs": [
    {
     "data": {
      "text/plain": [
       "ExtraTreesClassifier(n_jobs=-1)"
      ]
     },
     "execution_count": 48,
     "metadata": {},
     "output_type": "execute_result"
    }
   ],
   "source": [
    "clf = ExtraTreesClassifier(n_estimators=100, n_jobs=-1)\n",
    "clf.fit(X_train, y_train)"
   ]
  },
  {
   "cell_type": "code",
   "execution_count": 49,
   "id": "cfbe2bdd",
   "metadata": {},
   "outputs": [],
   "source": [
    "proba = clf.predict_proba(X_eval)"
   ]
  },
  {
   "cell_type": "code",
   "execution_count": 50,
   "id": "4076e709",
   "metadata": {},
   "outputs": [
    {
     "name": "stdout",
     "output_type": "stream",
     "text": [
      "0.9983030090558923\n"
     ]
    },
    {
     "data": {
      "text/html": [
       "<div>\n",
       "<style scoped>\n",
       "    .dataframe tbody tr th:only-of-type {\n",
       "        vertical-align: middle;\n",
       "    }\n",
       "\n",
       "    .dataframe tbody tr th {\n",
       "        vertical-align: top;\n",
       "    }\n",
       "\n",
       "    .dataframe thead th {\n",
       "        text-align: right;\n",
       "    }\n",
       "</style>\n",
       "<table border=\"1\" class=\"dataframe\">\n",
       "  <thead>\n",
       "    <tr style=\"text-align: right;\">\n",
       "      <th>pred</th>\n",
       "      <th>0</th>\n",
       "      <th>1</th>\n",
       "      <th>2</th>\n",
       "      <th>3</th>\n",
       "      <th>4</th>\n",
       "      <th>5</th>\n",
       "      <th>6</th>\n",
       "    </tr>\n",
       "    <tr>\n",
       "      <th>real</th>\n",
       "      <th></th>\n",
       "      <th></th>\n",
       "      <th></th>\n",
       "      <th></th>\n",
       "      <th></th>\n",
       "      <th></th>\n",
       "      <th></th>\n",
       "    </tr>\n",
       "  </thead>\n",
       "  <tbody>\n",
       "    <tr>\n",
       "      <th>0</th>\n",
       "      <td>26721</td>\n",
       "      <td>1</td>\n",
       "      <td>0</td>\n",
       "      <td>0</td>\n",
       "      <td>0</td>\n",
       "      <td>0</td>\n",
       "      <td>0</td>\n",
       "    </tr>\n",
       "    <tr>\n",
       "      <th>1</th>\n",
       "      <td>21</td>\n",
       "      <td>10553</td>\n",
       "      <td>0</td>\n",
       "      <td>0</td>\n",
       "      <td>0</td>\n",
       "      <td>0</td>\n",
       "      <td>0</td>\n",
       "    </tr>\n",
       "    <tr>\n",
       "      <th>2</th>\n",
       "      <td>0</td>\n",
       "      <td>0</td>\n",
       "      <td>1</td>\n",
       "      <td>0</td>\n",
       "      <td>0</td>\n",
       "      <td>0</td>\n",
       "      <td>0</td>\n",
       "    </tr>\n",
       "    <tr>\n",
       "      <th>3</th>\n",
       "      <td>3</td>\n",
       "      <td>0</td>\n",
       "      <td>0</td>\n",
       "      <td>328</td>\n",
       "      <td>0</td>\n",
       "      <td>0</td>\n",
       "      <td>0</td>\n",
       "    </tr>\n",
       "    <tr>\n",
       "      <th>4</th>\n",
       "      <td>0</td>\n",
       "      <td>0</td>\n",
       "      <td>0</td>\n",
       "      <td>0</td>\n",
       "      <td>1</td>\n",
       "      <td>0</td>\n",
       "      <td>0</td>\n",
       "    </tr>\n",
       "    <tr>\n",
       "      <th>5</th>\n",
       "      <td>2</td>\n",
       "      <td>0</td>\n",
       "      <td>0</td>\n",
       "      <td>0</td>\n",
       "      <td>0</td>\n",
       "      <td>172</td>\n",
       "      <td>0</td>\n",
       "    </tr>\n",
       "    <tr>\n",
       "      <th>6</th>\n",
       "      <td>0</td>\n",
       "      <td>0</td>\n",
       "      <td>0</td>\n",
       "      <td>0</td>\n",
       "      <td>0</td>\n",
       "      <td>0</td>\n",
       "      <td>1</td>\n",
       "    </tr>\n",
       "  </tbody>\n",
       "</table>\n",
       "</div>"
      ],
      "text/plain": [
       "pred      0      1  2    3  4    5  6\n",
       "real                                 \n",
       "0     26721  1      0  0    0  0    0\n",
       "1     21     10553  0  0    0  0    0\n",
       "2     0      0      1  0    0  0    0\n",
       "3     3      0      0  328  0  0    0\n",
       "4     0      0      0  0    1  0    0\n",
       "5     2      0      0  0    0  172  0\n",
       "6     0      0      0  0    0  0    1"
      ]
     },
     "execution_count": 50,
     "metadata": {},
     "output_type": "execute_result"
    }
   ],
   "source": [
    "pred = np.argmax(proba, axis=-1)\n",
    "crosstab = pd.crosstab(y_eval, pred, rownames=['real'], colnames=['pred'])\n",
    "\n",
    "print(f1_score(y_eval, pred, average='macro'))\n",
    "crosstab"
   ]
  },
  {
   "cell_type": "code",
   "execution_count": 51,
   "id": "64cd08b6",
   "metadata": {},
   "outputs": [],
   "source": [
    "THRESHOLD = 0.9"
   ]
  },
  {
   "cell_type": "code",
   "execution_count": 52,
   "id": "2bbfcfea",
   "metadata": {},
   "outputs": [
    {
     "name": "stdout",
     "output_type": "stream",
     "text": [
      "0.8726583249476694\n"
     ]
    },
    {
     "data": {
      "text/html": [
       "<div>\n",
       "<style scoped>\n",
       "    .dataframe tbody tr th:only-of-type {\n",
       "        vertical-align: middle;\n",
       "    }\n",
       "\n",
       "    .dataframe tbody tr th {\n",
       "        vertical-align: top;\n",
       "    }\n",
       "\n",
       "    .dataframe thead th {\n",
       "        text-align: right;\n",
       "    }\n",
       "</style>\n",
       "<table border=\"1\" class=\"dataframe\">\n",
       "  <thead>\n",
       "    <tr style=\"text-align: right;\">\n",
       "      <th>pred</th>\n",
       "      <th>0</th>\n",
       "      <th>1</th>\n",
       "      <th>2</th>\n",
       "      <th>3</th>\n",
       "      <th>4</th>\n",
       "      <th>5</th>\n",
       "      <th>6</th>\n",
       "      <th>7</th>\n",
       "    </tr>\n",
       "    <tr>\n",
       "      <th>real</th>\n",
       "      <th></th>\n",
       "      <th></th>\n",
       "      <th></th>\n",
       "      <th></th>\n",
       "      <th></th>\n",
       "      <th></th>\n",
       "      <th></th>\n",
       "      <th></th>\n",
       "    </tr>\n",
       "  </thead>\n",
       "  <tbody>\n",
       "    <tr>\n",
       "      <th>0</th>\n",
       "      <td>26658</td>\n",
       "      <td>0</td>\n",
       "      <td>0</td>\n",
       "      <td>0</td>\n",
       "      <td>0</td>\n",
       "      <td>0</td>\n",
       "      <td>0</td>\n",
       "      <td>64</td>\n",
       "    </tr>\n",
       "    <tr>\n",
       "      <th>1</th>\n",
       "      <td>7</td>\n",
       "      <td>10552</td>\n",
       "      <td>0</td>\n",
       "      <td>0</td>\n",
       "      <td>0</td>\n",
       "      <td>0</td>\n",
       "      <td>0</td>\n",
       "      <td>15</td>\n",
       "    </tr>\n",
       "    <tr>\n",
       "      <th>2</th>\n",
       "      <td>0</td>\n",
       "      <td>0</td>\n",
       "      <td>1</td>\n",
       "      <td>0</td>\n",
       "      <td>0</td>\n",
       "      <td>0</td>\n",
       "      <td>0</td>\n",
       "      <td>0</td>\n",
       "    </tr>\n",
       "    <tr>\n",
       "      <th>3</th>\n",
       "      <td>2</td>\n",
       "      <td>0</td>\n",
       "      <td>0</td>\n",
       "      <td>326</td>\n",
       "      <td>0</td>\n",
       "      <td>0</td>\n",
       "      <td>0</td>\n",
       "      <td>3</td>\n",
       "    </tr>\n",
       "    <tr>\n",
       "      <th>4</th>\n",
       "      <td>0</td>\n",
       "      <td>0</td>\n",
       "      <td>0</td>\n",
       "      <td>0</td>\n",
       "      <td>1</td>\n",
       "      <td>0</td>\n",
       "      <td>0</td>\n",
       "      <td>0</td>\n",
       "    </tr>\n",
       "    <tr>\n",
       "      <th>5</th>\n",
       "      <td>1</td>\n",
       "      <td>0</td>\n",
       "      <td>0</td>\n",
       "      <td>0</td>\n",
       "      <td>0</td>\n",
       "      <td>171</td>\n",
       "      <td>0</td>\n",
       "      <td>2</td>\n",
       "    </tr>\n",
       "    <tr>\n",
       "      <th>6</th>\n",
       "      <td>0</td>\n",
       "      <td>0</td>\n",
       "      <td>0</td>\n",
       "      <td>0</td>\n",
       "      <td>0</td>\n",
       "      <td>0</td>\n",
       "      <td>1</td>\n",
       "      <td>0</td>\n",
       "    </tr>\n",
       "  </tbody>\n",
       "</table>\n",
       "</div>"
      ],
      "text/plain": [
       "pred      0      1  2    3  4    5  6   7\n",
       "real                                     \n",
       "0     26658  0      0  0    0  0    0  64\n",
       "1     7      10552  0  0    0  0    0  15\n",
       "2     0      0      1  0    0  0    0  0 \n",
       "3     2      0      0  326  0  0    0  3 \n",
       "4     0      0      0  0    1  0    0  0 \n",
       "5     1      0      0  0    0  171  0  2 \n",
       "6     0      0      0  0    0  0    1  0 "
      ]
     },
     "execution_count": 52,
     "metadata": {},
     "output_type": "execute_result"
    }
   ],
   "source": [
    "pred_open = pred.copy()\n",
    "pred_open[np.where(np.max(proba, axis=1) < THRESHOLD)] = 7\n",
    "new_crosstab = pd.crosstab(y_eval, pred_open, rownames=['real'], colnames=['pred'])\n",
    "\n",
    "print(f1_score(y_eval, pred_open, average='macro'))\n",
    "new_crosstab"
   ]
  },
  {
   "cell_type": "code",
   "execution_count": 53,
   "id": "6664165c",
   "metadata": {},
   "outputs": [],
   "source": [
    "proba_all = clf.predict_proba(X_features)"
   ]
  },
  {
   "cell_type": "code",
   "execution_count": 54,
   "id": "137525e4",
   "metadata": {},
   "outputs": [
    {
     "name": "stdout",
     "output_type": "stream",
     "text": [
      "0.9998634765468999\n"
     ]
    },
    {
     "data": {
      "text/html": [
       "<div>\n",
       "<style scoped>\n",
       "    .dataframe tbody tr th:only-of-type {\n",
       "        vertical-align: middle;\n",
       "    }\n",
       "\n",
       "    .dataframe tbody tr th {\n",
       "        vertical-align: top;\n",
       "    }\n",
       "\n",
       "    .dataframe thead th {\n",
       "        text-align: right;\n",
       "    }\n",
       "</style>\n",
       "<table border=\"1\" class=\"dataframe\">\n",
       "  <thead>\n",
       "    <tr style=\"text-align: right;\">\n",
       "      <th>pred</th>\n",
       "      <th>0</th>\n",
       "      <th>1</th>\n",
       "      <th>2</th>\n",
       "      <th>3</th>\n",
       "      <th>4</th>\n",
       "      <th>5</th>\n",
       "      <th>6</th>\n",
       "    </tr>\n",
       "    <tr>\n",
       "      <th>real</th>\n",
       "      <th></th>\n",
       "      <th></th>\n",
       "      <th></th>\n",
       "      <th></th>\n",
       "      <th></th>\n",
       "      <th></th>\n",
       "      <th></th>\n",
       "    </tr>\n",
       "  </thead>\n",
       "  <tbody>\n",
       "    <tr>\n",
       "      <th>0</th>\n",
       "      <td>334019</td>\n",
       "      <td>1</td>\n",
       "      <td>0</td>\n",
       "      <td>0</td>\n",
       "      <td>0</td>\n",
       "      <td>0</td>\n",
       "      <td>0</td>\n",
       "    </tr>\n",
       "    <tr>\n",
       "      <th>1</th>\n",
       "      <td>23</td>\n",
       "      <td>132159</td>\n",
       "      <td>0</td>\n",
       "      <td>0</td>\n",
       "      <td>0</td>\n",
       "      <td>0</td>\n",
       "      <td>0</td>\n",
       "    </tr>\n",
       "    <tr>\n",
       "      <th>2</th>\n",
       "      <td>0</td>\n",
       "      <td>0</td>\n",
       "      <td>11</td>\n",
       "      <td>0</td>\n",
       "      <td>0</td>\n",
       "      <td>0</td>\n",
       "      <td>0</td>\n",
       "    </tr>\n",
       "    <tr>\n",
       "      <th>3</th>\n",
       "      <td>3</td>\n",
       "      <td>0</td>\n",
       "      <td>0</td>\n",
       "      <td>4136</td>\n",
       "      <td>0</td>\n",
       "      <td>0</td>\n",
       "      <td>0</td>\n",
       "    </tr>\n",
       "    <tr>\n",
       "      <th>4</th>\n",
       "      <td>0</td>\n",
       "      <td>0</td>\n",
       "      <td>0</td>\n",
       "      <td>0</td>\n",
       "      <td>10</td>\n",
       "      <td>0</td>\n",
       "      <td>0</td>\n",
       "    </tr>\n",
       "    <tr>\n",
       "      <th>5</th>\n",
       "      <td>2</td>\n",
       "      <td>0</td>\n",
       "      <td>0</td>\n",
       "      <td>0</td>\n",
       "      <td>0</td>\n",
       "      <td>2178</td>\n",
       "      <td>0</td>\n",
       "    </tr>\n",
       "    <tr>\n",
       "      <th>6</th>\n",
       "      <td>0</td>\n",
       "      <td>0</td>\n",
       "      <td>0</td>\n",
       "      <td>0</td>\n",
       "      <td>0</td>\n",
       "      <td>0</td>\n",
       "      <td>8</td>\n",
       "    </tr>\n",
       "  </tbody>\n",
       "</table>\n",
       "</div>"
      ],
      "text/plain": [
       "pred       0       1   2     3   4     5  6\n",
       "real                                       \n",
       "0     334019  1       0   0     0   0     0\n",
       "1     23      132159  0   0     0   0     0\n",
       "2     0       0       11  0     0   0     0\n",
       "3     3       0       0   4136  0   0     0\n",
       "4     0       0       0   0     10  0     0\n",
       "5     2       0       0   0     0   2178  0\n",
       "6     0       0       0   0     0   0     8"
      ]
     },
     "execution_count": 54,
     "metadata": {},
     "output_type": "execute_result"
    }
   ],
   "source": [
    "pred_all = np.argmax(proba_all, axis=-1)\n",
    "crosstab = pd.crosstab(y_data, pred_all, rownames=['real'], colnames=['pred'])\n",
    "\n",
    "print(f1_score(y_data, pred_all, average='macro'))\n",
    "crosstab"
   ]
  },
  {
   "cell_type": "code",
   "execution_count": 55,
   "id": "188177ea",
   "metadata": {},
   "outputs": [
    {
     "name": "stdout",
     "output_type": "stream",
     "text": [
      "0.874812626617933\n"
     ]
    },
    {
     "data": {
      "text/html": [
       "<div>\n",
       "<style scoped>\n",
       "    .dataframe tbody tr th:only-of-type {\n",
       "        vertical-align: middle;\n",
       "    }\n",
       "\n",
       "    .dataframe tbody tr th {\n",
       "        vertical-align: top;\n",
       "    }\n",
       "\n",
       "    .dataframe thead th {\n",
       "        text-align: right;\n",
       "    }\n",
       "</style>\n",
       "<table border=\"1\" class=\"dataframe\">\n",
       "  <thead>\n",
       "    <tr style=\"text-align: right;\">\n",
       "      <th>pred</th>\n",
       "      <th>0</th>\n",
       "      <th>1</th>\n",
       "      <th>2</th>\n",
       "      <th>3</th>\n",
       "      <th>4</th>\n",
       "      <th>5</th>\n",
       "      <th>6</th>\n",
       "      <th>7</th>\n",
       "    </tr>\n",
       "    <tr>\n",
       "      <th>real</th>\n",
       "      <th></th>\n",
       "      <th></th>\n",
       "      <th></th>\n",
       "      <th></th>\n",
       "      <th></th>\n",
       "      <th></th>\n",
       "      <th></th>\n",
       "      <th></th>\n",
       "    </tr>\n",
       "  </thead>\n",
       "  <tbody>\n",
       "    <tr>\n",
       "      <th>0</th>\n",
       "      <td>333954</td>\n",
       "      <td>0</td>\n",
       "      <td>0</td>\n",
       "      <td>0</td>\n",
       "      <td>0</td>\n",
       "      <td>0</td>\n",
       "      <td>0</td>\n",
       "      <td>66</td>\n",
       "    </tr>\n",
       "    <tr>\n",
       "      <th>1</th>\n",
       "      <td>8</td>\n",
       "      <td>132158</td>\n",
       "      <td>0</td>\n",
       "      <td>0</td>\n",
       "      <td>0</td>\n",
       "      <td>0</td>\n",
       "      <td>0</td>\n",
       "      <td>16</td>\n",
       "    </tr>\n",
       "    <tr>\n",
       "      <th>2</th>\n",
       "      <td>0</td>\n",
       "      <td>0</td>\n",
       "      <td>11</td>\n",
       "      <td>0</td>\n",
       "      <td>0</td>\n",
       "      <td>0</td>\n",
       "      <td>0</td>\n",
       "      <td>0</td>\n",
       "    </tr>\n",
       "    <tr>\n",
       "      <th>3</th>\n",
       "      <td>2</td>\n",
       "      <td>0</td>\n",
       "      <td>0</td>\n",
       "      <td>4134</td>\n",
       "      <td>0</td>\n",
       "      <td>0</td>\n",
       "      <td>0</td>\n",
       "      <td>3</td>\n",
       "    </tr>\n",
       "    <tr>\n",
       "      <th>4</th>\n",
       "      <td>0</td>\n",
       "      <td>0</td>\n",
       "      <td>0</td>\n",
       "      <td>0</td>\n",
       "      <td>10</td>\n",
       "      <td>0</td>\n",
       "      <td>0</td>\n",
       "      <td>0</td>\n",
       "    </tr>\n",
       "    <tr>\n",
       "      <th>5</th>\n",
       "      <td>1</td>\n",
       "      <td>0</td>\n",
       "      <td>0</td>\n",
       "      <td>0</td>\n",
       "      <td>0</td>\n",
       "      <td>2177</td>\n",
       "      <td>0</td>\n",
       "      <td>2</td>\n",
       "    </tr>\n",
       "    <tr>\n",
       "      <th>6</th>\n",
       "      <td>0</td>\n",
       "      <td>0</td>\n",
       "      <td>0</td>\n",
       "      <td>0</td>\n",
       "      <td>0</td>\n",
       "      <td>0</td>\n",
       "      <td>8</td>\n",
       "      <td>0</td>\n",
       "    </tr>\n",
       "  </tbody>\n",
       "</table>\n",
       "</div>"
      ],
      "text/plain": [
       "pred       0       1   2     3   4     5  6   7\n",
       "real                                           \n",
       "0     333954  0       0   0     0   0     0  66\n",
       "1     8       132158  0   0     0   0     0  16\n",
       "2     0       0       11  0     0   0     0  0 \n",
       "3     2       0       0   4134  0   0     0  3 \n",
       "4     0       0       0   0     10  0     0  0 \n",
       "5     1       0       0   0     0   2177  0  2 \n",
       "6     0       0       0   0     0   0     8  0 "
      ]
     },
     "execution_count": 55,
     "metadata": {},
     "output_type": "execute_result"
    }
   ],
   "source": [
    "pred_open_all = pred_all.copy()\n",
    "pred_open_all[np.where(np.max(proba_all, axis=1) < THRESHOLD)] = 7\n",
    "new_crosstab = pd.crosstab(y_data, pred_open_all, rownames=['real'], colnames=['pred'])\n",
    "\n",
    "print(f1_score(y_data, pred_open_all, average='macro'))\n",
    "new_crosstab"
   ]
  },
  {
   "cell_type": "markdown",
   "id": "f57e585a",
   "metadata": {},
   "source": [
    "## validate"
   ]
  },
  {
   "cell_type": "code",
   "execution_count": 56,
   "id": "5d169ee1",
   "metadata": {},
   "outputs": [],
   "source": [
    "X_valid = validation['full_log']\n",
    "X_valid = vectorizer.transform(X_valid)\n",
    "valid_proba = clf.predict_proba(X_valid)"
   ]
  },
  {
   "cell_type": "code",
   "execution_count": 57,
   "id": "814b2044",
   "metadata": {
    "scrolled": true
   },
   "outputs": [
    {
     "name": "stdout",
     "output_type": "stream",
     "text": [
      "[[0.01 0.99 0.   0.   0.   0.   0.  ]\n",
      " [0.01 0.   0.   0.22 0.   0.77 0.  ]\n",
      " [0.74 0.16 0.   0.01 0.   0.08 0.01]]\n"
     ]
    },
    {
     "data": {
      "text/plain": [
       "array([1, 7, 7], dtype=int64)"
      ]
     },
     "execution_count": 57,
     "metadata": {},
     "output_type": "execute_result"
    }
   ],
   "source": [
    "results = np.argmax(valid_proba, axis=-1)\n",
    "results[np.where(np.max(valid_proba, axis=1) < THRESHOLD)] = 7\n",
    "\n",
    "print(valid_proba)\n",
    "results"
   ]
  },
  {
   "cell_type": "code",
   "execution_count": 58,
   "id": "a9b78964",
   "metadata": {},
   "outputs": [],
   "source": [
    "# validation = pd.read_csv(f'{DIR}/validation_{MASKING_VER}.csv', index_col=0)"
   ]
  },
  {
   "cell_type": "code",
   "execution_count": 59,
   "id": "a7323a64",
   "metadata": {},
   "outputs": [],
   "source": [
    "# validation['full_log'] = validation.full_log.str.replace('PROMISCUOUS', '[PROMISCUOUS]', regex=True) # 줄바꿈 공백"
   ]
  },
  {
   "cell_type": "code",
   "execution_count": 60,
   "id": "06365710",
   "metadata": {
    "scrolled": true
   },
   "outputs": [
    {
     "data": {
      "text/plain": [
       "'type=ANOM_PROMISCUOUS msg=audit(<NUM>.<NUM>:<NUM>): dev=enp2s0 prom=<NUM> old_prom=<NUM> auid=<NUM> uid=<NUM> gid=<NUM> ses=<NUM> type=SYSCALL msg=audit(<NUM>.<NUM>:<NUM>): arch=<NUM> syscall=<NUM> success=yes exit=<NUM> a0=<NUM> a1=<NUM> a2=<NUM> a3=<NUM> items=<NUM> ppid=<NUM> pid=<NUM> auid=<NUM> uid=<NUM> gid=<NUM> euid=<NUM> suid=<NUM> fsuid=<NUM> egid=<NUM> sgid=<NUM> fsgid=<NUM> tty=(none) ses=<NUM> comm=\"W#<NUM>-enp2s0\" exe=\"/usr/sbin/suricata\" subj=system_u:system_r:unconfined_service_t:s0 key=(null) type=PROCTITLE msg=audit(<NUM>.<NUM>:<NUM>): proctitle=<NUM>'"
      ]
     },
     "execution_count": 60,
     "metadata": {},
     "output_type": "execute_result"
    }
   ],
   "source": [
    "validation['full_log'][0]"
   ]
  },
  {
   "cell_type": "markdown",
   "id": "a8b5d11f",
   "metadata": {},
   "source": [
    "# 3. Predict"
   ]
  },
  {
   "cell_type": "code",
   "execution_count": 61,
   "id": "6f891271",
   "metadata": {},
   "outputs": [],
   "source": [
    "X_test = test['full_log']\n",
    "X_test = vectorizer.transform(X_test)\n",
    "results_proba = clf.predict_proba(X_test)"
   ]
  },
  {
   "cell_type": "code",
   "execution_count": 62,
   "id": "09acb8df",
   "metadata": {},
   "outputs": [],
   "source": [
    "results = np.argmax(results_proba, axis=-1)\n",
    "results[np.where(np.max(results_proba, axis=1) < THRESHOLD)] = 7"
   ]
  },
  {
   "cell_type": "code",
   "execution_count": 63,
   "id": "7b5de530",
   "metadata": {
    "scrolled": true
   },
   "outputs": [
    {
     "data": {
      "text/plain": [
       "0    1001107\n",
       "1    396030 \n",
       "2    34     \n",
       "3    12908  \n",
       "4    34     \n",
       "5    6419   \n",
       "6    25     \n",
       "7    2359   \n",
       "Name: level, dtype: int64"
      ]
     },
     "execution_count": 63,
     "metadata": {},
     "output_type": "execute_result"
    }
   ],
   "source": [
    "submission['level'] = results\n",
    "submission['level'].value_counts().sort_index()"
   ]
  }
 ],
 "metadata": {
  "kernelspec": {
   "display_name": "Python 3",
   "language": "python",
   "name": "python3"
  },
  "language_info": {
   "codemirror_mode": {
    "name": "ipython",
    "version": 3
   },
   "file_extension": ".py",
   "mimetype": "text/x-python",
   "name": "python",
   "nbconvert_exporter": "python",
   "pygments_lexer": "ipython3",
   "version": "3.8.8"
  }
 },
 "nbformat": 4,
 "nbformat_minor": 5
}
