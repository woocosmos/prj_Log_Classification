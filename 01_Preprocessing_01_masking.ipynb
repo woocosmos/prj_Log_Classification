{
 "cells": [
  {
   "cell_type": "markdown",
   "id": "bb7e44fd",
   "metadata": {},
   "source": [
    "# 전처리"
   ]
  },
  {
   "cell_type": "code",
   "execution_count": 1,
   "id": "ec307fe4",
   "metadata": {},
   "outputs": [],
   "source": [
    "import numpy as np\n",
    "import pandas as pd"
   ]
  },
  {
   "cell_type": "code",
   "execution_count": 4,
   "id": "284d7b5b",
   "metadata": {},
   "outputs": [
    {
     "name": "stdout",
     "output_type": "stream",
     "text": [
      "(472972, 2)\n"
     ]
    },
    {
     "data": {
      "text/plain": [
       "'Sep 24 10:02:22 localhost kibana: {\"type\":\"error\",\"@timestamp\":\"2020-09-24T01:02:22Z\",\"tags\":[\"warning\",\"stats-collection\"],\"pid\":6458,\"level\":\"error\",\"error\":{\"message\":\"No Living connections\",\"name\":\"Error\",\"stack\":\"Error: No Living connections\\\\n    at sendReqWithConnection (/usr/share/kibana/node_modules/elasticsearch/src/lib/transport.js:226:15)\\\\n    at next (/usr/share/kibana/node_modules/elasticsearch/src/lib/connection_pool.js:214:7)\\\\n    at process._tickCallback (internal/process/next_tick.js:61:11)\"},\"message\":\"No Living connections\"}'"
      ]
     },
     "execution_count": 4,
     "metadata": {},
     "output_type": "execute_result"
    }
   ],
   "source": [
    "train = pd.read_csv('../data/train.csv', index_col=0)\n",
    "\n",
    "print(train.shape)\n",
    "train.full_log.loc[0]"
   ]
  },
  {
   "cell_type": "code",
   "execution_count": 3,
   "id": "45b8249b",
   "metadata": {},
   "outputs": [
    {
     "data": {
      "text/plain": [
       "0    334065\n",
       "1    132517\n",
       "3      4141\n",
       "5      2219\n",
       "2        12\n",
       "4        10\n",
       "6         8\n",
       "Name: level, dtype: int64"
      ]
     },
     "execution_count": 3,
     "metadata": {},
     "output_type": "execute_result"
    }
   ],
   "source": [
    "train['level'].value_counts()"
   ]
  },
  {
   "cell_type": "markdown",
   "id": "145785d1",
   "metadata": {},
   "source": [
    "### 첫번째 단어 위주로 로그 유형 파악"
   ]
  },
  {
   "cell_type": "code",
   "execution_count": 4,
   "id": "ccfb2e3d",
   "metadata": {},
   "outputs": [],
   "source": [
    "train['first_word'] = train['full_log'].str.extract('^([^ ]+)(?: |$)')"
   ]
  },
  {
   "cell_type": "code",
   "execution_count": 5,
   "id": "41d7af01",
   "metadata": {},
   "outputs": [],
   "source": [
    "def show_contains(target, *, col='full_log', first_words=None, cnt=None):\n",
    "    condition = train[col].str.contains(target)\n",
    "    if first_words is not None:\n",
    "        condition &= train['first_word'].isin(first_words)\n",
    "    \n",
    "    logs = train[condition][col][:cnt] if cnt is not None else train[condition][col]\n",
    "    for log in logs:\n",
    "        print(log, '\\n')"
   ]
  },
  {
   "cell_type": "code",
   "execution_count": 6,
   "id": "8c72e64e",
   "metadata": {},
   "outputs": [
    {
     "data": {
      "text/plain": [
       "Jan             207025\n",
       "Feb              35544\n",
       "Dec              25882\n",
       "Oct              23883\n",
       "Sep              23193\n",
       "Nov              21875\n",
       "Mar              12174\n",
       "type=SYSCALL       152\n",
       "File                72\n",
       "2021                22\n",
       "2020                 9\n",
       "Name: first_word, dtype: int64"
      ]
     },
     "execution_count": 6,
     "metadata": {},
     "output_type": "execute_result"
    }
   ],
   "source": [
    "train[train['full_log'].str.contains('\\d{2}:\\d{2}:\\d{2}')]['first_word'].value_counts()"
   ]
  },
  {
   "cell_type": "code",
   "execution_count": 7,
   "id": "94450477",
   "metadata": {
    "scrolled": true
   },
   "outputs": [
    {
     "data": {
      "text/plain": [
       "Jan             171098\n",
       "Dec              23428\n",
       "Sep              22389\n",
       "Feb              20855\n",
       "Oct              14669\n",
       "Nov               3722\n",
       "Mar               3285\n",
       "type=SYSCALL       152\n",
       "Name: first_word, dtype: int64"
      ]
     },
     "execution_count": 7,
     "metadata": {},
     "output_type": "execute_result"
    }
   ],
   "source": [
    "train[train['full_log'].str.contains('\\d{4}-\\d{2}-\\d{2}')]['first_word'].value_counts()"
   ]
  },
  {
   "cell_type": "markdown",
   "id": "a8bbeff7",
   "metadata": {},
   "source": [
    "# 1. 마스킹 처리\n",
    "- 날짜 및 시간  \n",
    "`2020 Oct 30 08:39:31`  \n",
    "`Fri Sep 18 13:36:11 2020`  \n",
    "`2021-01-12T07:22:32Z`\n",
    "\n",
    " \n",
    "- IP 주소  \n",
    "`211.253.243.71`  \n",
    "(단, `127.0.0.1`는 `localhost`로 대체)\n",
    "\n",
    "\n",
    "- 헥사, 시리얼 넘버, 숫자"
   ]
  },
  {
   "cell_type": "code",
   "execution_count": 5,
   "id": "1fd9ec3c",
   "metadata": {},
   "outputs": [],
   "source": [
    "TARGET_COLUMN = 'full_log'\n",
    "PATTERNS = [('\\d{4}-\\d{2}-\\d{2}T\\d{2}:\\d{2}:\\d{2}Z?', '<TS>'), \n",
    "            # YEAR, MON, DAY, TIME\n",
    "            ('\\d{4}(?= (Jan|Feb|Mar|Apr|May|Jun|Jul|Aug|Sep|Oct|Nov|Dec))', '<YEAR>'), \n",
    "            ('(?:Jan|Feb|Mar|Apr|May|Jun|Jul|Aug|Sep|Oct|Nov|Dec)\\s+\\d{1,2}\\s+\\d{2}:\\d{2}:\\d{2}', '<DATE> <TIME>'), \n",
    "            ('[A-Za-z]{3}\\s+<DATE> <TIME>\\s+\\d{4}', '<DAY> <DATE> <TIME> <YEAR>'), \n",
    "            # IP\n",
    "            ('127.0.0.1', 'localhost'),\n",
    "            ('\\d+\\.\\d+\\.\\d+\\.\\d+(?:\\.\\d+)?', '<IP>'), \n",
    "            # HEX, NUM\n",
    "            ('(?<![0-9a-fA-F])0x[0-9a-fA-F]+(?=\\W|$)', '<HEX>'), \n",
    "            ('(?<=\\W)(?=[a-fA-F0-9\\-]*[0-9])(?=[a-fA-F0-9\\-]*[a-fA-F])[a-fA-F0-9]{3,}(?:-[a-fA-F0-9]{3,})+(?=\\W|$)', '<SN>'),\n",
    "            ('(?<==)[a-fA-F0-9]+(?=\\W|$)', '<NUM>'),\n",
    "            ('(?<=:)[a-fA-F0-9]+(?=\\s|$)', '<NUM>'),\n",
    "            ('(?<=\\')[a-fA-F0-9]+(?=\\')', '<NUM>'),\n",
    "            ('(?<= )(?=[a-fA-F0-9]*[0-9])[a-fA-F0-9]{4,}(?=\\W|$)', '<NUM>'), \n",
    "            ('(?<=[^a-zA-Z0-9])(\\d+)(?=[^a-zA-Z0-9]|$)', '<NUM>')]\n",
    "\n",
    "def apply_masking(df):\n",
    "    for pat, repl in PATTERNS:\n",
    "        df[TARGET_COLUMN] = df[TARGET_COLUMN].str.replace(pat, repl, regex=True)"
   ]
  },
  {
   "cell_type": "code",
   "execution_count": 12,
   "id": "afb4b792",
   "metadata": {},
   "outputs": [],
   "source": [
    "example = 'Sep 24 10:02:22 localhost kibana: {\"type\":\"error\",\"@timestamp\":\"2020-09-24T01:02:22Z\",\"tags\":[\"warning\",\"stats-collection\"],\"pid\":6458,\"level\":\"error\",\"error\":{\"message\":\"No Living connections\",\"name\":\"Error\",\"stack\":\"Error: No Living connections\\\\n    at sendReqWithConnection (/usr/share/kibana/node_modules/elasticsearch/src/lib/transport.js:226:15)\\\\n    at next (/usr/share/kibana/node_modules/elasticsearch/src/lib/connection_pool.js:214:7)\\\\n    at process._tickCallback (internal/process/next_tick.js:61:11)\"},\"message\":\"No Living connections\"}'"
   ]
  },
  {
   "cell_type": "code",
   "execution_count": 16,
   "id": "4a135256",
   "metadata": {},
   "outputs": [],
   "source": [
    "import re\n",
    "\n",
    "for pat, repl in PATTERNS:\n",
    "    example = re.sub(pat, repl, example)"
   ]
  },
  {
   "cell_type": "code",
   "execution_count": 17,
   "id": "f23a3164",
   "metadata": {},
   "outputs": [
    {
     "data": {
      "text/plain": [
       "'<DATE> <TIME> localhost kibana: {\"type\":\"error\",\"@timestamp\":\"<TS>\",\"tags\":[\"warning\",\"stats-collection\"],\"pid\":<NUM>,\"level\":\"error\",\"error\":{\"message\":\"No Living connections\",\"name\":\"Error\",\"stack\":\"Error: No Living connections\\\\n    at sendReqWithConnection (/usr/share/kibana/node_modules/elasticsearch/src/lib/transport.js:<NUM>:<NUM>)\\\\n    at next (/usr/share/kibana/node_modules/elasticsearch/src/lib/connection_pool.js:<NUM>:<NUM>)\\\\n    at process._tickCallback (internal/process/next_tick.js:<NUM>:<NUM>)\"},\"message\":\"No Living connections\"}'"
      ]
     },
     "execution_count": 17,
     "metadata": {},
     "output_type": "execute_result"
    }
   ],
   "source": [
    "example"
   ]
  },
  {
   "cell_type": "code",
   "execution_count": 46,
   "id": "53c33000",
   "metadata": {},
   "outputs": [],
   "source": [
    "FILES = {'train': train, 'validation': validation, 'test': test}\n",
    "\n",
    "for file, df in FILES.items():\n",
    "    apply_masking(df)\n",
    "    df.to_csv(f'./data/{file}_masked_02.csv')"
   ]
  },
  {
   "cell_type": "code",
   "execution_count": 43,
   "id": "f02b540d",
   "metadata": {},
   "outputs": [
    {
     "data": {
      "text/html": [
       "<div>\n",
       "<style scoped>\n",
       "    .dataframe tbody tr th:only-of-type {\n",
       "        vertical-align: middle;\n",
       "    }\n",
       "\n",
       "    .dataframe tbody tr th {\n",
       "        vertical-align: top;\n",
       "    }\n",
       "\n",
       "    .dataframe thead th {\n",
       "        text-align: right;\n",
       "    }\n",
       "</style>\n",
       "<table border=\"1\" class=\"dataframe\">\n",
       "  <thead>\n",
       "    <tr style=\"text-align: right;\">\n",
       "      <th></th>\n",
       "      <th>level</th>\n",
       "      <th>full_log</th>\n",
       "    </tr>\n",
       "    <tr>\n",
       "      <th>id</th>\n",
       "      <th></th>\n",
       "      <th></th>\n",
       "    </tr>\n",
       "  </thead>\n",
       "  <tbody>\n",
       "    <tr>\n",
       "      <th>0</th>\n",
       "      <td>0</td>\n",
       "      <td>Sep 24 10:02:22 localhost kibana: {\"type\":\"err...</td>\n",
       "    </tr>\n",
       "    <tr>\n",
       "      <th>1</th>\n",
       "      <td>0</td>\n",
       "      <td>Feb  8 16:21:00 localhost logstash: [2021-02-0...</td>\n",
       "    </tr>\n",
       "    <tr>\n",
       "      <th>2</th>\n",
       "      <td>0</td>\n",
       "      <td>Jan 13 01:50:40 localhost kibana: {\"type\":\"err...</td>\n",
       "    </tr>\n",
       "    <tr>\n",
       "      <th>3</th>\n",
       "      <td>0</td>\n",
       "      <td>Jan  4 10:18:31 localhost kibana: {\"type\":\"err...</td>\n",
       "    </tr>\n",
       "    <tr>\n",
       "      <th>4</th>\n",
       "      <td>1</td>\n",
       "      <td>type=SYSCALL msg=audit(1603094402.016:52981): ...</td>\n",
       "    </tr>\n",
       "  </tbody>\n",
       "</table>\n",
       "</div>"
      ],
      "text/plain": [
       "    level                                           full_log\n",
       "id                                                          \n",
       "0       0  Sep 24 10:02:22 localhost kibana: {\"type\":\"err...\n",
       "1       0  Feb  8 16:21:00 localhost logstash: [2021-02-0...\n",
       "2       0  Jan 13 01:50:40 localhost kibana: {\"type\":\"err...\n",
       "3       0  Jan  4 10:18:31 localhost kibana: {\"type\":\"err...\n",
       "4       1  type=SYSCALL msg=audit(1603094402.016:52981): ..."
      ]
     },
     "execution_count": 43,
     "metadata": {},
     "output_type": "execute_result"
    }
   ],
   "source": [
    "train.head()"
   ]
  },
  {
   "cell_type": "code",
   "execution_count": 44,
   "id": "8123ca30",
   "metadata": {},
   "outputs": [
    {
     "data": {
      "text/html": [
       "<div>\n",
       "<style scoped>\n",
       "    .dataframe tbody tr th:only-of-type {\n",
       "        vertical-align: middle;\n",
       "    }\n",
       "\n",
       "    .dataframe tbody tr th {\n",
       "        vertical-align: top;\n",
       "    }\n",
       "\n",
       "    .dataframe thead th {\n",
       "        text-align: right;\n",
       "    }\n",
       "</style>\n",
       "<table border=\"1\" class=\"dataframe\">\n",
       "  <thead>\n",
       "    <tr style=\"text-align: right;\">\n",
       "      <th></th>\n",
       "      <th>full_log</th>\n",
       "    </tr>\n",
       "  </thead>\n",
       "  <tbody>\n",
       "    <tr>\n",
       "      <th>0</th>\n",
       "      <td>type=ANOM_PROMISCUOUS msg=audit(1600402733.466...</td>\n",
       "    </tr>\n",
       "    <tr>\n",
       "      <th>1</th>\n",
       "      <td>oscap: msg: \"xccdf-result\", scan-id: \"00016007...</td>\n",
       "    </tr>\n",
       "    <tr>\n",
       "      <th>2</th>\n",
       "      <td>Sep 22 10:56:19 localhost kernel: Out of memor...</td>\n",
       "    </tr>\n",
       "  </tbody>\n",
       "</table>\n",
       "</div>"
      ],
      "text/plain": [
       "                                            full_log\n",
       "0  type=ANOM_PROMISCUOUS msg=audit(1600402733.466...\n",
       "1  oscap: msg: \"xccdf-result\", scan-id: \"00016007...\n",
       "2  Sep 22 10:56:19 localhost kernel: Out of memor..."
      ]
     },
     "execution_count": 44,
     "metadata": {},
     "output_type": "execute_result"
    }
   ],
   "source": [
    "validation.head()"
   ]
  },
  {
   "cell_type": "code",
   "execution_count": 45,
   "id": "f79d9af1",
   "metadata": {},
   "outputs": [
    {
     "data": {
      "text/html": [
       "<div>\n",
       "<style scoped>\n",
       "    .dataframe tbody tr th:only-of-type {\n",
       "        vertical-align: middle;\n",
       "    }\n",
       "\n",
       "    .dataframe tbody tr th {\n",
       "        vertical-align: top;\n",
       "    }\n",
       "\n",
       "    .dataframe thead th {\n",
       "        text-align: right;\n",
       "    }\n",
       "</style>\n",
       "<table border=\"1\" class=\"dataframe\">\n",
       "  <thead>\n",
       "    <tr style=\"text-align: right;\">\n",
       "      <th></th>\n",
       "      <th>full_log</th>\n",
       "    </tr>\n",
       "    <tr>\n",
       "      <th>id</th>\n",
       "      <th></th>\n",
       "    </tr>\n",
       "  </thead>\n",
       "  <tbody>\n",
       "    <tr>\n",
       "      <th>1000000</th>\n",
       "      <td>Feb  8 15:47:26 localhost kibana: {\"type\":\"err...</td>\n",
       "    </tr>\n",
       "    <tr>\n",
       "      <th>1000001</th>\n",
       "      <td>Sep 24 03:46:39 localhost kibana: {\"type\":\"err...</td>\n",
       "    </tr>\n",
       "    <tr>\n",
       "      <th>1000002</th>\n",
       "      <td>type=SYSCALL msg=audit(1611888200.428:210563):...</td>\n",
       "    </tr>\n",
       "    <tr>\n",
       "      <th>1000003</th>\n",
       "      <td>Jan 18 11:24:06 localhost kibana: {\"type\":\"err...</td>\n",
       "    </tr>\n",
       "    <tr>\n",
       "      <th>1000004</th>\n",
       "      <td>type=SYSCALL msg=audit(1603081202.050:46851): ...</td>\n",
       "    </tr>\n",
       "  </tbody>\n",
       "</table>\n",
       "</div>"
      ],
      "text/plain": [
       "                                                  full_log\n",
       "id                                                        \n",
       "1000000  Feb  8 15:47:26 localhost kibana: {\"type\":\"err...\n",
       "1000001  Sep 24 03:46:39 localhost kibana: {\"type\":\"err...\n",
       "1000002  type=SYSCALL msg=audit(1611888200.428:210563):...\n",
       "1000003  Jan 18 11:24:06 localhost kibana: {\"type\":\"err...\n",
       "1000004  type=SYSCALL msg=audit(1603081202.050:46851): ..."
      ]
     },
     "execution_count": 45,
     "metadata": {},
     "output_type": "execute_result"
    }
   ],
   "source": [
    "test.head()"
   ]
  }
 ],
 "metadata": {
  "kernelspec": {
   "display_name": "Python 3",
   "language": "python",
   "name": "python3"
  },
  "language_info": {
   "codemirror_mode": {
    "name": "ipython",
    "version": 3
   },
   "file_extension": ".py",
   "mimetype": "text/x-python",
   "name": "python",
   "nbconvert_exporter": "python",
   "pygments_lexer": "ipython3",
   "version": "3.8.8"
  }
 },
 "nbformat": 4,
 "nbformat_minor": 5
}
