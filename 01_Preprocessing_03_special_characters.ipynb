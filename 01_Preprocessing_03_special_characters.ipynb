{
 "cells": [
  {
   "cell_type": "markdown",
   "id": "d87eb699",
   "metadata": {},
   "source": [
    "# 3. 특수문자 처리"
   ]
  },
  {
   "cell_type": "markdown",
   "id": "73ef4c4d",
   "metadata": {},
   "source": [
    "- `][`\n",
    "- `,`  \n",
    "    -> 앞뒤 띄어쓰기 추가\n",
    "- `\\s`  \n",
    "    -> 공백 한 칸으로"
   ]
  },
  {
   "cell_type": "code",
   "execution_count": 19,
   "id": "06e281b9",
   "metadata": {},
   "outputs": [],
   "source": [
    "TARGET_COLUMN = 'full_log'\n",
    "PATTERNS = [('\\]\\[', '] ['), \n",
    "            (',', ' , '), \n",
    "            ('\\s+', ' ')]\n",
    "\n",
    "def apply_masking(df):\n",
    "    for pat, repl in PATTERNS:\n",
    "        df[TARGET_COLUMN] = df[TARGET_COLUMN].str.replace(pat, repl, regex=True)"
   ]
  },
  {
   "cell_type": "code",
   "execution_count": 21,
   "id": "516afd29",
   "metadata": {},
   "outputs": [],
   "source": [
    "FILES = {'train': train, 'validation': validation, 'test': test}\n",
    "\n",
    "for file, df in FILES.items():\n",
    "    apply_masking(df)"
   ]
  }
 ],
 "metadata": {
  "kernelspec": {
   "display_name": "Python 3",
   "language": "python",
   "name": "python3"
  },
  "language_info": {
   "codemirror_mode": {
    "name": "ipython",
    "version": 3
   },
   "file_extension": ".py",
   "mimetype": "text/x-python",
   "name": "python",
   "nbconvert_exporter": "python",
   "pygments_lexer": "ipython3",
   "version": "3.8.8"
  }
 },
 "nbformat": 4,
 "nbformat_minor": 5
}
