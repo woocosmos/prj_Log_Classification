{
 "cells": [
  {
   "cell_type": "markdown",
   "id": "97ccca8a",
   "metadata": {},
   "source": [
    "# 2. 이상치 제거\n",
    "\n",
    "위험도 2, 3에 존재하는 이상치를 제거합니다"
   ]
  },
  {
   "cell_type": "code",
   "execution_count": 4,
   "id": "a57e8409",
   "metadata": {},
   "outputs": [
    {
     "data": {
      "text/plain": [
       "0    334065\n",
       "1    132517\n",
       "3      4141\n",
       "5      2219\n",
       "2        12\n",
       "4        10\n",
       "6         8\n",
       "Name: level, dtype: int64"
      ]
     },
     "execution_count": 4,
     "metadata": {},
     "output_type": "execute_result"
    }
   ],
   "source": [
    "train['level'].value_counts()"
   ]
  },
  {
   "cell_type": "code",
   "execution_count": 5,
   "id": "f6ec136d",
   "metadata": {},
   "outputs": [
    {
     "data": {
      "text/html": [
       "<div>\n",
       "<style scoped>\n",
       "    .dataframe tbody tr th:only-of-type {\n",
       "        vertical-align: middle;\n",
       "    }\n",
       "\n",
       "    .dataframe tbody tr th {\n",
       "        vertical-align: top;\n",
       "    }\n",
       "\n",
       "    .dataframe thead th {\n",
       "        text-align: right;\n",
       "    }\n",
       "</style>\n",
       "<table border=\"1\" class=\"dataframe\">\n",
       "  <thead>\n",
       "    <tr style=\"text-align: right;\">\n",
       "      <th></th>\n",
       "      <th>level</th>\n",
       "      <th>full_log</th>\n",
       "    </tr>\n",
       "    <tr>\n",
       "      <th>id</th>\n",
       "      <th></th>\n",
       "      <th></th>\n",
       "    </tr>\n",
       "  </thead>\n",
       "  <tbody>\n",
       "    <tr>\n",
       "      <th>39057</th>\n",
       "      <td>2</td>\n",
       "      <td>The average number of logs between &lt;NUM&gt;:&lt;NUM&gt;...</td>\n",
       "    </tr>\n",
       "    <tr>\n",
       "      <th>87600</th>\n",
       "      <td>2</td>\n",
       "      <td>The average number of logs between &lt;NUM&gt;:&lt;NUM&gt;...</td>\n",
       "    </tr>\n",
       "    <tr>\n",
       "      <th>109510</th>\n",
       "      <td>2</td>\n",
       "      <td>The average number of logs between &lt;NUM&gt;:&lt;NUM&gt;...</td>\n",
       "    </tr>\n",
       "    <tr>\n",
       "      <th>262892</th>\n",
       "      <td>2</td>\n",
       "      <td>The average number of logs between &lt;NUM&gt;:&lt;NUM&gt;...</td>\n",
       "    </tr>\n",
       "    <tr>\n",
       "      <th>294072</th>\n",
       "      <td>2</td>\n",
       "      <td>The average number of logs between &lt;NUM&gt;:&lt;NUM&gt;...</td>\n",
       "    </tr>\n",
       "    <tr>\n",
       "      <th>294127</th>\n",
       "      <td>2</td>\n",
       "      <td>The average number of logs between &lt;NUM&gt;:&lt;NUM&gt;...</td>\n",
       "    </tr>\n",
       "    <tr>\n",
       "      <th>343011</th>\n",
       "      <td>2</td>\n",
       "      <td>The average number of logs between &lt;NUM&gt;:&lt;NUM&gt;...</td>\n",
       "    </tr>\n",
       "    <tr>\n",
       "      <th>345903</th>\n",
       "      <td>2</td>\n",
       "      <td>The average number of logs between &lt;NUM&gt;:&lt;NUM&gt;...</td>\n",
       "    </tr>\n",
       "    <tr>\n",
       "      <th>365348</th>\n",
       "      <td>2</td>\n",
       "      <td>&lt;DATE&gt; &lt;TIME&gt; localhost sudo:  apache : TTY=un...</td>\n",
       "    </tr>\n",
       "    <tr>\n",
       "      <th>376681</th>\n",
       "      <td>2</td>\n",
       "      <td>The average number of logs between &lt;NUM&gt;:&lt;NUM&gt;...</td>\n",
       "    </tr>\n",
       "    <tr>\n",
       "      <th>380583</th>\n",
       "      <td>2</td>\n",
       "      <td>The average number of logs between &lt;NUM&gt;:&lt;NUM&gt;...</td>\n",
       "    </tr>\n",
       "    <tr>\n",
       "      <th>400735</th>\n",
       "      <td>2</td>\n",
       "      <td>The average number of logs between &lt;NUM&gt;:&lt;NUM&gt;...</td>\n",
       "    </tr>\n",
       "  </tbody>\n",
       "</table>\n",
       "</div>"
      ],
      "text/plain": [
       "        level                                           full_log\n",
       "id                                                              \n",
       "39057       2  The average number of logs between <NUM>:<NUM>...\n",
       "87600       2  The average number of logs between <NUM>:<NUM>...\n",
       "109510      2  The average number of logs between <NUM>:<NUM>...\n",
       "262892      2  The average number of logs between <NUM>:<NUM>...\n",
       "294072      2  The average number of logs between <NUM>:<NUM>...\n",
       "294127      2  The average number of logs between <NUM>:<NUM>...\n",
       "343011      2  The average number of logs between <NUM>:<NUM>...\n",
       "345903      2  The average number of logs between <NUM>:<NUM>...\n",
       "365348      2  <DATE> <TIME> localhost sudo:  apache : TTY=un...\n",
       "376681      2  The average number of logs between <NUM>:<NUM>...\n",
       "380583      2  The average number of logs between <NUM>:<NUM>...\n",
       "400735      2  The average number of logs between <NUM>:<NUM>..."
      ]
     },
     "execution_count": 5,
     "metadata": {},
     "output_type": "execute_result"
    }
   ],
   "source": [
    "train[train['level']==2]"
   ]
  },
  {
   "cell_type": "code",
   "execution_count": 6,
   "id": "e2aa0117",
   "metadata": {
    "scrolled": true
   },
   "outputs": [
    {
     "name": "stdout",
     "output_type": "stream",
     "text": [
      "(472972, 2)\n"
     ]
    },
    {
     "data": {
      "text/plain": [
       "(472971, 2)"
      ]
     },
     "execution_count": 6,
     "metadata": {},
     "output_type": "execute_result"
    }
   ],
   "source": [
    "print(train.shape)\n",
    "\n",
    "train.drop(index=365348, inplace=True)\n",
    "train.shape"
   ]
  },
  {
   "cell_type": "code",
   "execution_count": 7,
   "id": "314d137d",
   "metadata": {},
   "outputs": [
    {
     "data": {
      "text/html": [
       "<div>\n",
       "<style scoped>\n",
       "    .dataframe tbody tr th:only-of-type {\n",
       "        vertical-align: middle;\n",
       "    }\n",
       "\n",
       "    .dataframe tbody tr th {\n",
       "        vertical-align: top;\n",
       "    }\n",
       "\n",
       "    .dataframe thead th {\n",
       "        text-align: right;\n",
       "    }\n",
       "</style>\n",
       "<table border=\"1\" class=\"dataframe\">\n",
       "  <thead>\n",
       "    <tr style=\"text-align: right;\">\n",
       "      <th></th>\n",
       "      <th>level</th>\n",
       "      <th>full_log</th>\n",
       "    </tr>\n",
       "    <tr>\n",
       "      <th>id</th>\n",
       "      <th></th>\n",
       "      <th></th>\n",
       "    </tr>\n",
       "  </thead>\n",
       "  <tbody>\n",
       "    <tr>\n",
       "      <th>5144</th>\n",
       "      <td>0</td>\n",
       "      <td>juniper</td>\n",
       "    </tr>\n",
       "    <tr>\n",
       "      <th>108472</th>\n",
       "      <td>0</td>\n",
       "      <td>juniper</td>\n",
       "    </tr>\n",
       "    <tr>\n",
       "      <th>170195</th>\n",
       "      <td>3</td>\n",
       "      <td>juniper</td>\n",
       "    </tr>\n",
       "    <tr>\n",
       "      <th>207811</th>\n",
       "      <td>0</td>\n",
       "      <td>juniper</td>\n",
       "    </tr>\n",
       "    <tr>\n",
       "      <th>470486</th>\n",
       "      <td>0</td>\n",
       "      <td>juniper</td>\n",
       "    </tr>\n",
       "  </tbody>\n",
       "</table>\n",
       "</div>"
      ],
      "text/plain": [
       "        level full_log\n",
       "id                    \n",
       "5144        0  juniper\n",
       "108472      0  juniper\n",
       "170195      3  juniper\n",
       "207811      0  juniper\n",
       "470486      0  juniper"
      ]
     },
     "execution_count": 7,
     "metadata": {},
     "output_type": "execute_result"
    }
   ],
   "source": [
    "train[train['full_log']=='juniper']"
   ]
  },
  {
   "cell_type": "code",
   "execution_count": 8,
   "id": "77b6b59a",
   "metadata": {
    "scrolled": true
   },
   "outputs": [
    {
     "name": "stdout",
     "output_type": "stream",
     "text": [
      "(472971, 2)\n"
     ]
    },
    {
     "data": {
      "text/plain": [
       "(472970, 2)"
      ]
     },
     "execution_count": 8,
     "metadata": {},
     "output_type": "execute_result"
    }
   ],
   "source": [
    "print(train.shape)\n",
    "\n",
    "train.drop(index=170195, inplace=True)\n",
    "train.shape"
   ]
  }
 ],
 "metadata": {
  "kernelspec": {
   "display_name": "Python 3",
   "language": "python",
   "name": "python3"
  },
  "language_info": {
   "codemirror_mode": {
    "name": "ipython",
    "version": 3
   },
   "file_extension": ".py",
   "mimetype": "text/x-python",
   "name": "python",
   "nbconvert_exporter": "python",
   "pygments_lexer": "ipython3",
   "version": "3.8.8"
  }
 },
 "nbformat": 4,
 "nbformat_minor": 5
}
