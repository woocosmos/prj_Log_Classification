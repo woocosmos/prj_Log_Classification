{
 "cells": [
  {
   "cell_type": "code",
   "execution_count": 65,
   "id": "e68e1a9d",
   "metadata": {},
   "outputs": [],
   "source": [
    "import numpy as np\n",
    "import pandas as pd\n",
    "import re\n",
    "import matplotlib.pyplot as plt\n",
    "import tensorflow as tf\n",
    "import tensorflow_datasets as tfds\n",
    "from tensorflow.keras.models import load_model\n",
    "from tensorflow.keras.utils import to_categorical\n",
    "from sklearn.model_selection import train_test_split\n",
    "import warnings\n",
    "\n",
    "warnings.filterwarnings(action='ignore')"
   ]
  },
  {
   "cell_type": "markdown",
   "id": "dc7dd093",
   "metadata": {},
   "source": [
    "# 전처리된 데이터 읽어오기"
   ]
  },
  {
   "cell_type": "code",
   "execution_count": 66,
   "id": "4ab1a13d",
   "metadata": {},
   "outputs": [],
   "source": [
    "train = pd.read_csv('./data/cleaned_train_special.csv', index_col = 0)\n",
    "test = pd.read_csv('./data/cleaned_test_special.csv', index_col = 0)\n",
    "validation = pd.read_csv('./data/cleaned_validation_special.csv')\n",
    "submission = pd.read_csv('./data/sample_submission.csv', index_col = 0)"
   ]
  },
  {
   "cell_type": "code",
   "execution_count": 67,
   "id": "13cc5479",
   "metadata": {},
   "outputs": [],
   "source": [
    "# 위험도 2에 있는 이상치를 제거\n",
    "train = train.drop(365348)"
   ]
  },
  {
   "cell_type": "code",
   "execution_count": 68,
   "id": "d5aa9938",
   "metadata": {},
   "outputs": [],
   "source": [
    "train_text=list(train['full_log'])\n",
    "train_level=np.array(train['level'])\n",
    "\n",
    "test_text = list(test['full_log'])\n",
    "\n",
    "valid_text = list(validation['full_log'])"
   ]
  },
  {
   "cell_type": "markdown",
   "id": "46a7f881",
   "metadata": {},
   "source": [
    "# Tokenizer"
   ]
  },
  {
   "cell_type": "code",
   "execution_count": 69,
   "id": "625fa841",
   "metadata": {
    "scrolled": false
   },
   "outputs": [
    {
     "name": "stdout",
     "output_type": "stream",
     "text": [
      "8945\n"
     ]
    }
   ],
   "source": [
    "from tensorflow.keras.preprocessing.text import Tokenizer\n",
    "\n",
    "MAX_SEQUENCE_LENGTH = 250\n",
    "EMBEDDING_DIM = 200\n",
    "\n",
    "tokenizer = Tokenizer()\n",
    "tokenizer.fit_on_texts(train_text)\n",
    "print(len(tokenizer.word_index))"
   ]
  },
  {
   "cell_type": "code",
   "execution_count": 70,
   "id": "12f3f5ed",
   "metadata": {
    "scrolled": true
   },
   "outputs": [
    {
     "name": "stdout",
     "output_type": "stream",
     "text": [
      "(472971, 250)\n"
     ]
    }
   ],
   "source": [
    "from tensorflow.keras.preprocessing.sequence import pad_sequences\n",
    "\n",
    "X = tokenizer.texts_to_sequences(train_text)\n",
    "X = pad_sequences(X, maxlen=MAX_SEQUENCE_LENGTH)\n",
    "print(X.shape)"
   ]
  },
  {
   "cell_type": "code",
   "execution_count": 71,
   "id": "af38f1f0",
   "metadata": {},
   "outputs": [],
   "source": [
    "Y = train_level"
   ]
  },
  {
   "cell_type": "markdown",
   "id": "05675527",
   "metadata": {},
   "source": [
    "# 모델 학습"
   ]
  },
  {
   "cell_type": "code",
   "execution_count": 72,
   "id": "caf2b930",
   "metadata": {},
   "outputs": [],
   "source": [
    "X_train, X_eval, Y_train, Y_eval = train_test_split(X, Y, test_size=0.3, random_state=42, stratify=train_level)"
   ]
  },
  {
   "cell_type": "code",
   "execution_count": 73,
   "id": "7d096a7b",
   "metadata": {},
   "outputs": [],
   "source": [
    "Y_train = to_categorical(Y_train)\n",
    "Y_eval = to_categorical(Y_eval)"
   ]
  },
  {
   "cell_type": "code",
   "execution_count": 74,
   "id": "f5150d39",
   "metadata": {},
   "outputs": [
    {
     "name": "stdout",
     "output_type": "stream",
     "text": [
      "(331079, 250)\n",
      "(331079, 7)\n",
      "(141892, 250)\n",
      "(141892, 7)\n"
     ]
    }
   ],
   "source": [
    "print(X_train.shape)\n",
    "print(Y_train.shape)\n",
    "print(X_eval.shape)\n",
    "print(Y_eval.shape)"
   ]
  },
  {
   "cell_type": "code",
   "execution_count": 75,
   "id": "027b88d1",
   "metadata": {
    "scrolled": true
   },
   "outputs": [],
   "source": [
    "import tensorflow_addons as tfa\n",
    "F1_MACRO = tfa.metrics.F1Score(num_classes=7, average='macro')"
   ]
  },
  {
   "cell_type": "markdown",
   "id": "a77e9559",
   "metadata": {},
   "source": [
    "- 훈련 데이터의 label(target)이 one-hot vector 이면 CategoricalCrossentropy\n",
    "- 훈련 데이터의 label(target)이 정수이면 SparseCategoricalCrossentropy\n",
    "\n",
    "\n",
    "- Embedding()의 입력으로 각 단어는 이미 정수 인코딩이 된 상태여야 한다. Embedding()은 정수 인코딩이 된 상태의 입력을 받아서 임베딩을 수행한다.\n",
    "- ```Embedding(7, 2, input_length=5)```\n",
    "- (vocab size, embedding dimension, sequence length)"
   ]
  },
  {
   "cell_type": "markdown",
   "id": "071c206e",
   "metadata": {},
   "source": [
    "Lr Scheduler는 미리 학습 일정을 정해두고, 그 일정에 따라 학습률을 조정하는 방법입니다. 일반적으로는 warmup이라는 파라미터를 정하고 현재 step이 warmup보다 낮을 경우는 learning rate를 linear하게 증가 시키고, warmup 후에는 각 Lr Scheduler에서 정한 방법대로 learning rate를 update합니다.\n",
    "https://ai4nlp.tistory.com/8"
   ]
  },
  {
   "cell_type": "code",
   "execution_count": 76,
   "id": "1739d614",
   "metadata": {},
   "outputs": [],
   "source": [
    "from tensorflow.keras.optimizers import SGD, Adam\n",
    "\n",
    "# optimizer = tf.keras.optimizers.SGD(lr=1e-4, momentum=0.9)\n",
    "opt = tf.keras.optimizers.Adam(learning_rate=1e-4)"
   ]
  },
  {
   "cell_type": "code",
   "execution_count": 77,
   "id": "3c8af76f",
   "metadata": {},
   "outputs": [],
   "source": [
    "from keras.callbacks import ReduceLROnPlateau, LearningRateScheduler, EarlyStopping, ModelCheckpoint\n",
    "\n",
    "# callbacks\n",
    "\n",
    "cb_checkpoint = ModelCheckpoint('model05_RNN_relu.h5', monitor='val_f1_score', mode='max', verbose=1, save_best_only=True)\n",
    "cb_early_stopping = EarlyStopping(monitor='val_f1_score', mode='max', patience=10)\n",
    "cb_reduceLR = ReduceLROnPlateau(monitor='val_f1_score', factor=0.1, patience=3)\n",
    "# cb_lr_schedule = tf.keras.callbacks.LearningRateScheduler(lambda epoch: 1e-8 * 10**(epoch / 20))"
   ]
  },
  {
   "cell_type": "code",
   "execution_count": 79,
   "id": "fcbd7332",
   "metadata": {
    "scrolled": false
   },
   "outputs": [
    {
     "name": "stdout",
     "output_type": "stream",
     "text": [
      "Epoch 1/30\n",
      "2070/2070 [==============================] - 226s 109ms/step - loss: 1.9009 - f1_score: 0.1189 - val_loss: 1.8402 - val_f1_score: 0.1046\n",
      "\n",
      "Epoch 00001: val_f1_score did not improve from 0.18840\n",
      "Epoch 2/30\n",
      "2070/2070 [==============================] - 176s 85ms/step - loss: 1.8246 - f1_score: 0.1086 - val_loss: 1.7763 - val_f1_score: 0.1751\n",
      "\n",
      "Epoch 00002: val_f1_score did not improve from 0.18840\n",
      "Epoch 3/30\n",
      "2070/2070 [==============================] - 160s 77ms/step - loss: 1.7608 - f1_score: 0.1787 - val_loss: 1.7114 - val_f1_score: 0.2046\n",
      "\n",
      "Epoch 00003: val_f1_score improved from 0.18840 to 0.20462, saving model to model05_RNN_relu.h5\n",
      "Epoch 4/30\n",
      "2070/2070 [==============================] - 170s 82ms/step - loss: 1.6929 - f1_score: 0.2178 - val_loss: 1.6340 - val_f1_score: 0.2364\n",
      "\n",
      "Epoch 00004: val_f1_score improved from 0.20462 to 0.23639, saving model to model05_RNN_relu.h5\n",
      "Epoch 5/30\n",
      "2070/2070 [==============================] - 173s 84ms/step - loss: 1.6315 - f1_score: 0.2337 - val_loss: 1.6257 - val_f1_score: 0.2366\n",
      "\n",
      "Epoch 00005: val_f1_score improved from 0.23639 to 0.23657, saving model to model05_RNN_relu.h5\n",
      "Epoch 6/30\n",
      "2070/2070 [==============================] - 166s 80ms/step - loss: 1.6235 - f1_score: 0.2365 - val_loss: 1.6175 - val_f1_score: 0.2393\n",
      "\n",
      "Epoch 00006: val_f1_score improved from 0.23657 to 0.23934, saving model to model05_RNN_relu.h5\n",
      "Epoch 7/30\n",
      "2070/2070 [==============================] - 168s 81ms/step - loss: 1.6159 - f1_score: 0.2375 - val_loss: 1.6092 - val_f1_score: 0.2395\n",
      "\n",
      "Epoch 00007: val_f1_score improved from 0.23934 to 0.23947, saving model to model05_RNN_relu.h5\n",
      "Epoch 8/30\n",
      "2070/2070 [==============================] - 168s 81ms/step - loss: 1.6089 - f1_score: 0.2381 - val_loss: 1.6088 - val_f1_score: 0.2395\n",
      "\n",
      "Epoch 00008: val_f1_score improved from 0.23947 to 0.23954, saving model to model05_RNN_relu.h5\n",
      "Epoch 9/30\n",
      "2070/2070 [==============================] - 166s 80ms/step - loss: 1.6085 - f1_score: 0.2378 - val_loss: 1.6084 - val_f1_score: 0.2396\n",
      "\n",
      "Epoch 00009: val_f1_score improved from 0.23954 to 0.23960, saving model to model05_RNN_relu.h5\n",
      "Epoch 10/30\n",
      "2070/2070 [==============================] - 173s 83ms/step - loss: 1.6083 - f1_score: 0.2389 - val_loss: 1.6080 - val_f1_score: 0.2397\n",
      "\n",
      "Epoch 00010: val_f1_score improved from 0.23960 to 0.23972, saving model to model05_RNN_relu.h5\n",
      "Epoch 11/30\n",
      "2070/2070 [==============================] - 164s 79ms/step - loss: 1.6082 - f1_score: 0.2375 - val_loss: 1.6080 - val_f1_score: 0.2397\n",
      "\n",
      "Epoch 00011: val_f1_score improved from 0.23972 to 0.23973, saving model to model05_RNN_relu.h5\n",
      "Epoch 12/30\n",
      "2070/2070 [==============================] - 170s 82ms/step - loss: 1.6079 - f1_score: 0.2380 - val_loss: 1.6080 - val_f1_score: 0.2397\n",
      "\n",
      "Epoch 00012: val_f1_score did not improve from 0.23973\n",
      "Epoch 13/30\n",
      "2070/2070 [==============================] - 174s 84ms/step - loss: 1.6084 - f1_score: 0.2370 - val_loss: 1.6080 - val_f1_score: 0.2397\n",
      "\n",
      "Epoch 00013: val_f1_score did not improve from 0.23973\n",
      "Epoch 14/30\n",
      "2070/2070 [==============================] - 175s 85ms/step - loss: 1.6084 - f1_score: 0.2378 - val_loss: 1.6080 - val_f1_score: 0.2397\n",
      "\n",
      "Epoch 00014: val_f1_score did not improve from 0.23973\n",
      "Epoch 15/30\n",
      "2070/2070 [==============================] - 175s 85ms/step - loss: 1.6086 - f1_score: 0.2377 - val_loss: 1.6080 - val_f1_score: 0.2397\n",
      "\n",
      "Epoch 00015: val_f1_score did not improve from 0.23973\n",
      "Epoch 16/30\n",
      " 879/2070 [===========>..................] - ETA: 1:39 - loss: 1.6109 - f1_score: 0.2387"
     ]
    },
    {
     "ename": "KeyboardInterrupt",
     "evalue": "",
     "output_type": "error",
     "traceback": [
      "\u001b[0;31m---------------------------------------------------------------------------\u001b[0m",
      "\u001b[0;31mKeyboardInterrupt\u001b[0m                         Traceback (most recent call last)",
      "\u001b[0;32m<ipython-input-79-95098bd1d8aa>\u001b[0m in \u001b[0;36m<module>\u001b[0;34m\u001b[0m\n\u001b[1;32m     11\u001b[0m \u001b[0;34m\u001b[0m\u001b[0m\n\u001b[1;32m     12\u001b[0m \u001b[0mmodel\u001b[0m\u001b[0;34m.\u001b[0m\u001b[0mcompile\u001b[0m\u001b[0;34m(\u001b[0m\u001b[0moptimizer\u001b[0m\u001b[0;34m=\u001b[0m\u001b[0mopt\u001b[0m\u001b[0;34m,\u001b[0m \u001b[0mloss\u001b[0m\u001b[0;34m=\u001b[0m\u001b[0;34m'categorical_crossentropy'\u001b[0m\u001b[0;34m,\u001b[0m \u001b[0mmetrics\u001b[0m\u001b[0;34m=\u001b[0m\u001b[0;34m[\u001b[0m\u001b[0mF1_MACRO\u001b[0m\u001b[0;34m]\u001b[0m\u001b[0;34m)\u001b[0m\u001b[0;34m\u001b[0m\u001b[0;34m\u001b[0m\u001b[0m\n\u001b[0;32m---> 13\u001b[0;31m \u001b[0mhistory\u001b[0m \u001b[0;34m=\u001b[0m \u001b[0mmodel\u001b[0m\u001b[0;34m.\u001b[0m\u001b[0mfit\u001b[0m\u001b[0;34m(\u001b[0m\u001b[0mX_train\u001b[0m\u001b[0;34m,\u001b[0m \u001b[0mY_train\u001b[0m\u001b[0;34m,\u001b[0m \u001b[0mepochs\u001b[0m\u001b[0;34m=\u001b[0m\u001b[0;36m30\u001b[0m\u001b[0;34m,\u001b[0m \u001b[0mbatch_size\u001b[0m\u001b[0;34m=\u001b[0m\u001b[0;36m128\u001b[0m\u001b[0;34m,\u001b[0m \u001b[0mvalidation_split\u001b[0m\u001b[0;34m=\u001b[0m\u001b[0;36m0.2\u001b[0m\u001b[0;34m,\u001b[0m \u001b[0mcallbacks\u001b[0m\u001b[0;34m=\u001b[0m\u001b[0;34m[\u001b[0m\u001b[0mcb_early_stopping\u001b[0m\u001b[0;34m,\u001b[0m \u001b[0mcb_checkpoint\u001b[0m\u001b[0;34m,\u001b[0m \u001b[0mcb_reduceLR\u001b[0m\u001b[0;34m]\u001b[0m\u001b[0;34m)\u001b[0m\u001b[0;34m\u001b[0m\u001b[0;34m\u001b[0m\u001b[0m\n\u001b[0m",
      "\u001b[0;32m~/miniforge3/envs/prj_final/lib/python3.8/site-packages/tensorflow/python/keras/engine/training.py\u001b[0m in \u001b[0;36mfit\u001b[0;34m(self, x, y, batch_size, epochs, verbose, callbacks, validation_split, validation_data, shuffle, class_weight, sample_weight, initial_epoch, steps_per_epoch, validation_steps, validation_batch_size, validation_freq, max_queue_size, workers, use_multiprocessing)\u001b[0m\n\u001b[1;32m   1098\u001b[0m                 _r=1):\n\u001b[1;32m   1099\u001b[0m               \u001b[0mcallbacks\u001b[0m\u001b[0;34m.\u001b[0m\u001b[0mon_train_batch_begin\u001b[0m\u001b[0;34m(\u001b[0m\u001b[0mstep\u001b[0m\u001b[0;34m)\u001b[0m\u001b[0;34m\u001b[0m\u001b[0;34m\u001b[0m\u001b[0m\n\u001b[0;32m-> 1100\u001b[0;31m               \u001b[0mtmp_logs\u001b[0m \u001b[0;34m=\u001b[0m \u001b[0mself\u001b[0m\u001b[0;34m.\u001b[0m\u001b[0mtrain_function\u001b[0m\u001b[0;34m(\u001b[0m\u001b[0miterator\u001b[0m\u001b[0;34m)\u001b[0m\u001b[0;34m\u001b[0m\u001b[0;34m\u001b[0m\u001b[0m\n\u001b[0m\u001b[1;32m   1101\u001b[0m               \u001b[0;32mif\u001b[0m \u001b[0mdata_handler\u001b[0m\u001b[0;34m.\u001b[0m\u001b[0mshould_sync\u001b[0m\u001b[0;34m:\u001b[0m\u001b[0;34m\u001b[0m\u001b[0;34m\u001b[0m\u001b[0m\n\u001b[1;32m   1102\u001b[0m                 \u001b[0mcontext\u001b[0m\u001b[0;34m.\u001b[0m\u001b[0masync_wait\u001b[0m\u001b[0;34m(\u001b[0m\u001b[0;34m)\u001b[0m\u001b[0;34m\u001b[0m\u001b[0;34m\u001b[0m\u001b[0m\n",
      "\u001b[0;32m~/miniforge3/envs/prj_final/lib/python3.8/site-packages/tensorflow/python/eager/def_function.py\u001b[0m in \u001b[0;36m__call__\u001b[0;34m(self, *args, **kwds)\u001b[0m\n\u001b[1;32m    826\u001b[0m     \u001b[0mtracing_count\u001b[0m \u001b[0;34m=\u001b[0m \u001b[0mself\u001b[0m\u001b[0;34m.\u001b[0m\u001b[0mexperimental_get_tracing_count\u001b[0m\u001b[0;34m(\u001b[0m\u001b[0;34m)\u001b[0m\u001b[0;34m\u001b[0m\u001b[0;34m\u001b[0m\u001b[0m\n\u001b[1;32m    827\u001b[0m     \u001b[0;32mwith\u001b[0m \u001b[0mtrace\u001b[0m\u001b[0;34m.\u001b[0m\u001b[0mTrace\u001b[0m\u001b[0;34m(\u001b[0m\u001b[0mself\u001b[0m\u001b[0;34m.\u001b[0m\u001b[0m_name\u001b[0m\u001b[0;34m)\u001b[0m \u001b[0;32mas\u001b[0m \u001b[0mtm\u001b[0m\u001b[0;34m:\u001b[0m\u001b[0;34m\u001b[0m\u001b[0;34m\u001b[0m\u001b[0m\n\u001b[0;32m--> 828\u001b[0;31m       \u001b[0mresult\u001b[0m \u001b[0;34m=\u001b[0m \u001b[0mself\u001b[0m\u001b[0;34m.\u001b[0m\u001b[0m_call\u001b[0m\u001b[0;34m(\u001b[0m\u001b[0;34m*\u001b[0m\u001b[0margs\u001b[0m\u001b[0;34m,\u001b[0m \u001b[0;34m**\u001b[0m\u001b[0mkwds\u001b[0m\u001b[0;34m)\u001b[0m\u001b[0;34m\u001b[0m\u001b[0;34m\u001b[0m\u001b[0m\n\u001b[0m\u001b[1;32m    829\u001b[0m       \u001b[0mcompiler\u001b[0m \u001b[0;34m=\u001b[0m \u001b[0;34m\"xla\"\u001b[0m \u001b[0;32mif\u001b[0m \u001b[0mself\u001b[0m\u001b[0;34m.\u001b[0m\u001b[0m_experimental_compile\u001b[0m \u001b[0;32melse\u001b[0m \u001b[0;34m\"nonXla\"\u001b[0m\u001b[0;34m\u001b[0m\u001b[0;34m\u001b[0m\u001b[0m\n\u001b[1;32m    830\u001b[0m       \u001b[0mnew_tracing_count\u001b[0m \u001b[0;34m=\u001b[0m \u001b[0mself\u001b[0m\u001b[0;34m.\u001b[0m\u001b[0mexperimental_get_tracing_count\u001b[0m\u001b[0;34m(\u001b[0m\u001b[0;34m)\u001b[0m\u001b[0;34m\u001b[0m\u001b[0;34m\u001b[0m\u001b[0m\n",
      "\u001b[0;32m~/miniforge3/envs/prj_final/lib/python3.8/site-packages/tensorflow/python/eager/def_function.py\u001b[0m in \u001b[0;36m_call\u001b[0;34m(self, *args, **kwds)\u001b[0m\n\u001b[1;32m    853\u001b[0m       \u001b[0;31m# In this case we have created variables on the first call, so we run the\u001b[0m\u001b[0;34m\u001b[0m\u001b[0;34m\u001b[0m\u001b[0;34m\u001b[0m\u001b[0m\n\u001b[1;32m    854\u001b[0m       \u001b[0;31m# defunned version which is guaranteed to never create variables.\u001b[0m\u001b[0;34m\u001b[0m\u001b[0;34m\u001b[0m\u001b[0;34m\u001b[0m\u001b[0m\n\u001b[0;32m--> 855\u001b[0;31m       \u001b[0;32mreturn\u001b[0m \u001b[0mself\u001b[0m\u001b[0;34m.\u001b[0m\u001b[0m_stateless_fn\u001b[0m\u001b[0;34m(\u001b[0m\u001b[0;34m*\u001b[0m\u001b[0margs\u001b[0m\u001b[0;34m,\u001b[0m \u001b[0;34m**\u001b[0m\u001b[0mkwds\u001b[0m\u001b[0;34m)\u001b[0m  \u001b[0;31m# pylint: disable=not-callable\u001b[0m\u001b[0;34m\u001b[0m\u001b[0;34m\u001b[0m\u001b[0m\n\u001b[0m\u001b[1;32m    856\u001b[0m     \u001b[0;32melif\u001b[0m \u001b[0mself\u001b[0m\u001b[0;34m.\u001b[0m\u001b[0m_stateful_fn\u001b[0m \u001b[0;32mis\u001b[0m \u001b[0;32mnot\u001b[0m \u001b[0;32mNone\u001b[0m\u001b[0;34m:\u001b[0m\u001b[0;34m\u001b[0m\u001b[0;34m\u001b[0m\u001b[0m\n\u001b[1;32m    857\u001b[0m       \u001b[0;31m# Release the lock early so that multiple threads can perform the call\u001b[0m\u001b[0;34m\u001b[0m\u001b[0;34m\u001b[0m\u001b[0;34m\u001b[0m\u001b[0m\n",
      "\u001b[0;32m~/miniforge3/envs/prj_final/lib/python3.8/site-packages/tensorflow/python/eager/function.py\u001b[0m in \u001b[0;36m__call__\u001b[0;34m(self, *args, **kwargs)\u001b[0m\n\u001b[1;32m   2940\u001b[0m       (graph_function,\n\u001b[1;32m   2941\u001b[0m        filtered_flat_args) = self._maybe_define_function(args, kwargs)\n\u001b[0;32m-> 2942\u001b[0;31m     return graph_function._call_flat(\n\u001b[0m\u001b[1;32m   2943\u001b[0m         filtered_flat_args, captured_inputs=graph_function.captured_inputs)  # pylint: disable=protected-access\n\u001b[1;32m   2944\u001b[0m \u001b[0;34m\u001b[0m\u001b[0m\n",
      "\u001b[0;32m~/miniforge3/envs/prj_final/lib/python3.8/site-packages/tensorflow/python/eager/function.py\u001b[0m in \u001b[0;36m_call_flat\u001b[0;34m(self, args, captured_inputs, cancellation_manager)\u001b[0m\n\u001b[1;32m   1916\u001b[0m         and executing_eagerly):\n\u001b[1;32m   1917\u001b[0m       \u001b[0;31m# No tape is watching; skip to running the function.\u001b[0m\u001b[0;34m\u001b[0m\u001b[0;34m\u001b[0m\u001b[0;34m\u001b[0m\u001b[0m\n\u001b[0;32m-> 1918\u001b[0;31m       return self._build_call_outputs(self._inference_function.call(\n\u001b[0m\u001b[1;32m   1919\u001b[0m           ctx, args, cancellation_manager=cancellation_manager))\n\u001b[1;32m   1920\u001b[0m     forward_backward = self._select_forward_and_backward_functions(\n",
      "\u001b[0;32m~/miniforge3/envs/prj_final/lib/python3.8/site-packages/tensorflow/python/eager/function.py\u001b[0m in \u001b[0;36mcall\u001b[0;34m(self, ctx, args, cancellation_manager)\u001b[0m\n\u001b[1;32m    553\u001b[0m       \u001b[0;32mwith\u001b[0m \u001b[0m_InterpolateFunctionError\u001b[0m\u001b[0;34m(\u001b[0m\u001b[0mself\u001b[0m\u001b[0;34m)\u001b[0m\u001b[0;34m:\u001b[0m\u001b[0;34m\u001b[0m\u001b[0;34m\u001b[0m\u001b[0m\n\u001b[1;32m    554\u001b[0m         \u001b[0;32mif\u001b[0m \u001b[0mcancellation_manager\u001b[0m \u001b[0;32mis\u001b[0m \u001b[0;32mNone\u001b[0m\u001b[0;34m:\u001b[0m\u001b[0;34m\u001b[0m\u001b[0;34m\u001b[0m\u001b[0m\n\u001b[0;32m--> 555\u001b[0;31m           outputs = execute.execute(\n\u001b[0m\u001b[1;32m    556\u001b[0m               \u001b[0mstr\u001b[0m\u001b[0;34m(\u001b[0m\u001b[0mself\u001b[0m\u001b[0;34m.\u001b[0m\u001b[0msignature\u001b[0m\u001b[0;34m.\u001b[0m\u001b[0mname\u001b[0m\u001b[0;34m)\u001b[0m\u001b[0;34m,\u001b[0m\u001b[0;34m\u001b[0m\u001b[0;34m\u001b[0m\u001b[0m\n\u001b[1;32m    557\u001b[0m               \u001b[0mnum_outputs\u001b[0m\u001b[0;34m=\u001b[0m\u001b[0mself\u001b[0m\u001b[0;34m.\u001b[0m\u001b[0m_num_outputs\u001b[0m\u001b[0;34m,\u001b[0m\u001b[0;34m\u001b[0m\u001b[0;34m\u001b[0m\u001b[0m\n",
      "\u001b[0;32m~/miniforge3/envs/prj_final/lib/python3.8/site-packages/tensorflow/python/eager/execute.py\u001b[0m in \u001b[0;36mquick_execute\u001b[0;34m(op_name, num_outputs, inputs, attrs, ctx, name)\u001b[0m\n\u001b[1;32m     57\u001b[0m   \u001b[0;32mtry\u001b[0m\u001b[0;34m:\u001b[0m\u001b[0;34m\u001b[0m\u001b[0;34m\u001b[0m\u001b[0m\n\u001b[1;32m     58\u001b[0m     \u001b[0mctx\u001b[0m\u001b[0;34m.\u001b[0m\u001b[0mensure_initialized\u001b[0m\u001b[0;34m(\u001b[0m\u001b[0;34m)\u001b[0m\u001b[0;34m\u001b[0m\u001b[0;34m\u001b[0m\u001b[0m\n\u001b[0;32m---> 59\u001b[0;31m     tensors = pywrap_tfe.TFE_Py_Execute(ctx._handle, device_name, op_name,\n\u001b[0m\u001b[1;32m     60\u001b[0m                                         inputs, attrs, num_outputs)\n\u001b[1;32m     61\u001b[0m   \u001b[0;32mexcept\u001b[0m \u001b[0mcore\u001b[0m\u001b[0;34m.\u001b[0m\u001b[0m_NotOkStatusException\u001b[0m \u001b[0;32mas\u001b[0m \u001b[0me\u001b[0m\u001b[0;34m:\u001b[0m\u001b[0;34m\u001b[0m\u001b[0;34m\u001b[0m\u001b[0m\n",
      "\u001b[0;31mKeyboardInterrupt\u001b[0m: "
     ]
    }
   ],
   "source": [
    "from tensorflow.keras.layers import SimpleRNN, Embedding, Dense, Dropout\n",
    "from tensorflow.keras.models import Sequential\n",
    "from tensorflow.keras.callbacks import EarlyStopping, ModelCheckpoint\n",
    "\n",
    "vocab_size = len(tokenizer.word_index) + 1    # padding\n",
    "\n",
    "model = Sequential()\n",
    "model.add(Embedding(vocab_size, EMBEDDING_DIM, input_length=X.shape[1]))\n",
    "model.add(SimpleRNN(32))\n",
    "model.add(Dense(7, activation='softmax'))\n",
    "\n",
    "model.compile(optimizer=opt, loss='categorical_crossentropy', metrics=[F1_MACRO])\n",
    "history = model.fit(X_train, Y_train, epochs=30, batch_size=128, validation_split=0.2, callbacks=[cb_early_stopping, cb_checkpoint, cb_reduceLR])"
   ]
  },
  {
   "cell_type": "code",
   "execution_count": null,
   "id": "93ea9c8c",
   "metadata": {
    "scrolled": true
   },
   "outputs": [],
   "source": [
    "plt.title('F1 SCORE')\n",
    "plt.plot(history.history['f1_score'], label='training')\n",
    "plt.plot(history.history['val_f1_score'], label='evaluation')\n",
    "plt.legend()\n",
    "plt.show()"
   ]
  },
  {
   "cell_type": "code",
   "execution_count": null,
   "id": "ff77510e",
   "metadata": {
    "scrolled": true
   },
   "outputs": [],
   "source": [
    "plt.title('val loss')\n",
    "plt.plot(history.history['loss'], label='training')\n",
    "plt.plot(history.history['val_loss'], label='evaluation')\n",
    "plt.legend()\n",
    "plt.show()"
   ]
  },
  {
   "cell_type": "code",
   "execution_count": null,
   "id": "cfed41e1",
   "metadata": {},
   "outputs": [],
   "source": [
    "model = load_model(\"model05_RNN.h5\")"
   ]
  },
  {
   "cell_type": "code",
   "execution_count": null,
   "id": "6d5a23e4",
   "metadata": {},
   "outputs": [],
   "source": [
    "accr = model.evaluate(X_eval, Y_eval)\n",
    "print('Test set\\n  Loss: {:0.3f}\\n  Accuracy: {:0.3f}'.format(accr[0], accr[1]))"
   ]
  },
  {
   "cell_type": "markdown",
   "id": "727de90e",
   "metadata": {},
   "source": [
    "전처리 방식에 따라 ... (모델은 SimpleRNN)\n",
    "- 현주님 전처리 : 0.891\n",
    "- 현주님 전처리 & 내 전처리 \n",
    "    + 특수문자 있음 : 0.939 (아까보다 조금 떨어졌다?)\n",
    "    + 특수문자 없음 : 0.937"
   ]
  },
  {
   "cell_type": "markdown",
   "id": "50617afc",
   "metadata": {},
   "source": [
    "현주님 전처리 + 내 전처리\n",
    "- 기본 RNN\n",
    "- 기본 RNN + decay learning rate : 너무 미미하게 바뀐다\n",
    "- 기본 RNN + ReduceLROnPlateau : **(patience 4: score 0.944)**\n",
    "- 기본 RNN + ReduceLROnPlateau + Attention All You Need lr scheduler : 자꾸 오류 나서 보류\n",
    "- 기본 RNN + ReduceLROnPlateau + Exponential Lr Scheduler : 충돌 발생(float() argument must be a string or a number, not 'ExponentialDecay')\n",
    "- word2vec + RNN \n",
    "- CNN"
   ]
  },
  {
   "cell_type": "markdown",
   "id": "4c3e9f6c",
   "metadata": {},
   "source": [
    "- 기본 RNN + smaller embedding dim(100) : 0.946 (근데 성능은 그 전이 나은 것 같기도. test/validation 예측 결과가 심상치 않음)\n",
    "- 기본 RNN + smaller embedding dim(100) + SGD : f1 스코어가 엄청 작게 시작하고 (0.07) 너무 조금씩 올라간다\n",
    "- 기본 RNN + smaller embedding dim(100) + adam(0.0001) : 한 여덟번째 epoch부터 과적합 낌새가 나타남 -> score 0.946, 예측 완전 별로임"
   ]
  },
  {
   "cell_type": "markdown",
   "id": "dd4540ae",
   "metadata": {},
   "source": [
    "- 기본 RNN + Dense + adam(0.0001) + ReduceLROnPlateau"
   ]
  },
  {
   "cell_type": "markdown",
   "id": "4829ad42",
   "metadata": {},
   "source": [
    "# 예측"
   ]
  },
  {
   "cell_type": "code",
   "execution_count": null,
   "id": "fac6e2c8",
   "metadata": {
    "scrolled": true
   },
   "outputs": [],
   "source": [
    "seq = tokenizer.texts_to_sequences(test_text)\n",
    "padded = pad_sequences(seq, maxlen=MAX_SEQUENCE_LENGTH)"
   ]
  },
  {
   "cell_type": "code",
   "execution_count": null,
   "id": "8cc289b3",
   "metadata": {},
   "outputs": [],
   "source": [
    "pred = model.predict(padded)"
   ]
  },
  {
   "cell_type": "code",
   "execution_count": null,
   "id": "01565df8",
   "metadata": {
    "scrolled": true
   },
   "outputs": [],
   "source": [
    "temp = [np.argmax(i) for i in pred]"
   ]
  },
  {
   "cell_type": "code",
   "execution_count": null,
   "id": "a12aa343",
   "metadata": {},
   "outputs": [],
   "source": [
    "results = np.reshape(temp, (test.shape[0], ))"
   ]
  },
  {
   "cell_type": "code",
   "execution_count": null,
   "id": "229a5f3c",
   "metadata": {},
   "outputs": [],
   "source": [
    "results[np.where(np.max(pred, axis=1) < 0.9)] = 7"
   ]
  },
  {
   "cell_type": "code",
   "execution_count": null,
   "id": "7495b409",
   "metadata": {},
   "outputs": [],
   "source": [
    "# 기준 0.90\n",
    "submission['level']=results\n",
    "submission.value_counts()"
   ]
  },
  {
   "cell_type": "code",
   "execution_count": null,
   "id": "66959482",
   "metadata": {},
   "outputs": [],
   "source": [
    "# submission.to_csv('./submission/submission_model03_simpleRNN.csv')"
   ]
  },
  {
   "cell_type": "markdown",
   "id": "71482e45",
   "metadata": {},
   "source": [
    "# 위험도 7 검증"
   ]
  },
  {
   "cell_type": "code",
   "execution_count": null,
   "id": "14d574f1",
   "metadata": {},
   "outputs": [],
   "source": [
    "valid_seq = tokenizer.texts_to_sequences(valid_text)\n",
    "valid_padded = pad_sequences(valid_seq, maxlen=MAX_SEQUENCE_LENGTH)"
   ]
  },
  {
   "cell_type": "code",
   "execution_count": null,
   "id": "3733e133",
   "metadata": {},
   "outputs": [],
   "source": [
    "valid_pred = model.predict(valid_padded)"
   ]
  },
  {
   "cell_type": "code",
   "execution_count": null,
   "id": "ea3a5dae",
   "metadata": {
    "scrolled": true
   },
   "outputs": [],
   "source": [
    "valid_pred"
   ]
  },
  {
   "cell_type": "code",
   "execution_count": null,
   "id": "a862ed12",
   "metadata": {},
   "outputs": [],
   "source": [
    "valid_temp = [np.argmax(i) for i in valid_pred]"
   ]
  },
  {
   "cell_type": "code",
   "execution_count": null,
   "id": "a26cc39c",
   "metadata": {},
   "outputs": [],
   "source": [
    "valid_results = np.reshape(valid_temp, (3, ))"
   ]
  },
  {
   "cell_type": "code",
   "execution_count": null,
   "id": "ed038c37",
   "metadata": {},
   "outputs": [],
   "source": [
    "valid_results[np.where(np.max(valid_pred, axis=1) < 0.9)] = 7"
   ]
  },
  {
   "cell_type": "code",
   "execution_count": null,
   "id": "3ea981e1",
   "metadata": {},
   "outputs": [],
   "source": [
    "valid_results"
   ]
  },
  {
   "cell_type": "code",
   "execution_count": null,
   "id": "5f62e5e2",
   "metadata": {
    "scrolled": true
   },
   "outputs": [],
   "source": [
    "valid_pred[0,]"
   ]
  },
  {
   "cell_type": "code",
   "execution_count": null,
   "id": "1f8a01ea",
   "metadata": {},
   "outputs": [],
   "source": [
    "from tensorflow.keras.models import Model\n",
    "\n",
    "new_model = Model(inputs=model.input, outputs=model.layers[-2].output)\n",
    "scores = new_model.predict(padded)\n",
    "scores"
   ]
  },
  {
   "cell_type": "code",
   "execution_count": null,
   "id": "19205f2a",
   "metadata": {},
   "outputs": [],
   "source": [
    "scores[0]"
   ]
  }
 ],
 "metadata": {
  "kernelspec": {
   "display_name": "Python 3",
   "language": "python",
   "name": "python3"
  },
  "language_info": {
   "codemirror_mode": {
    "name": "ipython",
    "version": 3
   },
   "file_extension": ".py",
   "mimetype": "text/x-python",
   "name": "python",
   "nbconvert_exporter": "python",
   "pygments_lexer": "ipython3",
   "version": "3.8.8"
  }
 },
 "nbformat": 4,
 "nbformat_minor": 5
}
