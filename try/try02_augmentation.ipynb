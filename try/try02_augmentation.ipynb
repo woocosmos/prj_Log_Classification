{
 "cells": [
  {
   "cell_type": "code",
   "execution_count": 165,
   "metadata": {
    "executionInfo": {
     "elapsed": 582,
     "status": "ok",
     "timestamp": 1620271330267,
     "user": {
      "displayName": "Yunsoo Woo",
      "photoUrl": "https://lh3.googleusercontent.com/a-/AOh14GiWFotIpAaOkdHrZuGq9VMZLv5Ow3_KvrbzBimZaQ=s64",
      "userId": "11767945514934680645"
     },
     "user_tz": -540
    },
    "id": "ZiHA_xCzjshm"
   },
   "outputs": [],
   "source": [
    "import numpy as np\n",
    "import pandas as pd\n",
    "import re\n",
    "import matplotlib.pyplot as plt\n",
    "import random\n",
    "from random import shuffle\n",
    "random.seed(42)"
   ]
  },
  {
   "cell_type": "code",
   "execution_count": 166,
   "metadata": {
    "id": "hd1gKdatBhXL",
    "scrolled": true
   },
   "outputs": [],
   "source": [
    "train = pd.read_csv('./data/train.csv')\n",
    "test = pd.read_csv('./data/test.csv')\n",
    "validation = pd.read_csv('./data/validation_sample.csv')"
   ]
  },
  {
   "cell_type": "markdown",
   "metadata": {},
   "source": [
    "## ideas\n",
    "- 'level NUM log'을 삭제하기 (뒤 내용에 집중할 수 있도록?)\n",
    "- 'DATE localhost'를 삭제하기 (0, 1에는 별로 안 좋을 수도. localhost 뒤 단어에 따라 갈리는 느낌이 있어서)\n",
    "- 단순 증강"
   ]
  },
  {
   "cell_type": "code",
   "execution_count": 167,
   "metadata": {},
   "outputs": [],
   "source": [
    "def search_by_index(idx):\n",
    "    idx = int(idx)\n",
    "    print(train.full_log.loc[idx])\n",
    "    \n",
    "def search_by_regex(word):\n",
    "    print(train[train.full_log.str.contains(word, regex=True)==True])"
   ]
  },
  {
   "cell_type": "markdown",
   "metadata": {},
   "source": [
    "# 기본 전처리\n",
    "소문자, 줄바꿈 제거"
   ]
  },
  {
   "cell_type": "code",
   "execution_count": 168,
   "metadata": {
    "executionInfo": {
     "elapsed": 3502,
     "status": "ok",
     "timestamp": 1620271361329,
     "user": {
      "displayName": "Yunsoo Woo",
      "photoUrl": "https://lh3.googleusercontent.com/a-/AOh14GiWFotIpAaOkdHrZuGq9VMZLv5Ow3_KvrbzBimZaQ=s64",
      "userId": "11767945514934680645"
     },
     "user_tz": -540
    },
    "id": "lGKlldvDrDK5"
   },
   "outputs": [],
   "source": [
    "train.full_log = train.full_log.apply(lambda x : x.lower())\n",
    "train.full_log = train.full_log.str.replace('\\n',' ', regex=True) \n",
    "train.full_log = train.full_log.str.replace('\\\\n',' ', regex=True) \n",
    "\n",
    "test.full_log = test.full_log.apply(lambda x : x.lower())\n",
    "test.full_log = test.full_log.str.replace('\\n',' ', regex=True) \n",
    "test.full_log = test.full_log.str.replace('\\\\n',' ', regex=True) \n",
    "\n",
    "validation.full_log = validation.full_log.apply(lambda x : x.lower())\n",
    "validation.full_log = validation.full_log.str.replace('\\n',' ', regex=True) \n",
    "validation.full_log = validation.full_log.str.replace('\\\\n',' ', regex=True) "
   ]
  },
  {
   "cell_type": "markdown",
   "metadata": {},
   "source": [
    "# 숫자 전처리"
   ]
  },
  {
   "cell_type": "code",
   "execution_count": null,
   "metadata": {},
   "outputs": [],
   "source": [
    "pattern = [\n",
    "    ('(?<=\\d{4}-\\d{2}-\\d{2}t)\\d{2}:\\d{2}:\\d{2}z?', '<TIME>'), \n",
    "    ('\\d{4}-\\d{2}-\\d{2}t(?= TIME )', '<DATE>'),\n",
    "    ('\\d+\\.\\d+\\.\\d+\\.\\d+(?:\\.\\d+)?', '<IP>')]\n",
    "\n",
    "def masking(df, pattern):\n",
    "    for reg, repl in pattern:\n",
    "        df.full_log = df.full_log.str.replace(reg, repl, regex=True)"
   ]
  },
  {
   "cell_type": "code",
   "execution_count": 169,
   "metadata": {},
   "outputs": [],
   "source": [
    "# TIME & DATE\n",
    "\n",
    "timestamp_pattern = [\n",
    "    # 2020-10-21t17:50:25z\n",
    "    ('(?<=\\d{4}-\\d{2}-\\d{2}t)\\d{2}:\\d{2}:\\d{2}z?', ' TIME '), \n",
    "    ('\\d{4}-\\d{2}-\\d{2}t(?= TIME )', ' DATE'),\n",
    "\n",
    "    # 2020 oct 21 17:50:21\n",
    "    ('\\d{4} (jan|feb|mar|apr|may|jun|jul|aug|sep|oct|nov|dec) \\d{1,2} *', ' DATE '),\n",
    "    ('(?<=DATE )\\d{2}:\\d{2}:\\d{2}', ' TIME '),\n",
    "\n",
    "    # fri jan 22 06:28:59 2021\n",
    "    ('(?:jan|feb|mar|apr|may|jun|jul|aug|sep|oct|nov|dec)\\s+\\d{1,2}\\s+\\d{2}:\\d{2}:\\d{2}', 'DATE TIME'),\n",
    "    ('[a-z]{3}\\s+DATE TIME\\s+\\d{4}', ' DATE TIME '),\n",
    "    \n",
    "    ('DATE t TIME', 'DATE TIME'),\n",
    "\n",
    "    # 혹시 모르니\n",
    "    ('(\\d{1,2}\\:\\d{1,2}\\:\\d{1,2})|(\\D\\d{1,2}\\:\\d{1,2}\\:\\d{1,2})|(\\d{1,2}\\:\\d{1,2})', ' TIME '),\n",
    "    ('((jan|feb|mar|apr|may|jun|jul|aug|dec|oct|sep|nov|mar) +[0-9]{1,2})|((19|20)[0-9]{2}-(0|1)[0-9]{1}-[0-3][0-9]{1})', ' DATE ')]\n"
   ]
  },
  {
   "cell_type": "code",
   "execution_count": 170,
   "metadata": {},
   "outputs": [],
   "source": [
    "# IP\n",
    "\n",
    "ip_pattern = [('127.0.0.1', 'localhost'), ('\\d+\\.\\d+\\.\\d+\\.\\d+(?:\\.\\d+)?', ' IP ')]\n"
   ]
  },
  {
   "cell_type": "code",
   "execution_count": 171,
   "metadata": {},
   "outputs": [],
   "source": [
    "# NUMBER\n",
    "\n",
    "number_pattern = [\n",
    "    # '0x'로 시작하는 것\n",
    "    ('(?<![0-9a-f])0x[0-9a-f]+(?=\\W|$)', ' NUM '), \n",
    "    \n",
    "    # '\": = 뒤에 오는 헥사 \n",
    "    ('(?<=[=\\'\" :])(?=[a-f0-9]*[a-f])(?=[a-f0-9]*[0-9])[a-f0-9]{4,}(?=\\W|$)', ' NUM '), \n",
    "    \n",
    "    # 숫자 뭉텅이\n",
    "    ('(?<=[^a-z0-9])(\\d+)(?=[^a-z0-9]|$)', ' NUM '),\n",
    "    \n",
    "    # 시리얼 넘버\n",
    "    ('(?<=\\W)(?=[a-f0-9\\-]*[0-9])(?=[a-f0-9\\-]*[a-f])[a-f0-9]{3,}(?:-[a-f0-9]{3,})+(?=\\W|$)', ' SERIAL '),\n",
    "\n",
    "    # 5/13 추가 (id 444014)\n",
    "    ('(?<=\\<)f{1,}[a-z0-9]+(?=\\>)', ' NUM ')]\n"
   ]
  },
  {
   "cell_type": "code",
   "execution_count": 172,
   "metadata": {},
   "outputs": [],
   "source": [
    "def masking(df, pattern):\n",
    "    for reg, repl in pattern:\n",
    "        df.full_log = df.full_log.str.replace(reg, repl, regex=True)"
   ]
  },
  {
   "cell_type": "code",
   "execution_count": 173,
   "metadata": {
    "scrolled": true
   },
   "outputs": [
    {
     "name": "stdout",
     "output_type": "stream",
     "text": [
      "   id  level                                           full_log\n",
      "0   0      0  DATE TIME localhost kibana: {\"type\":\"error\",\"@...\n",
      "1   1      0  DATE TIME localhost logstash: [ DATE TIME , NU...\n",
      "2   2      0  DATE TIME localhost kibana: {\"type\":\"error\",\"@...\n",
      "3   3      0  DATE TIME localhost kibana: {\"type\":\"error\",\"@...\n",
      "4   4      1  type=syscall msg=audit( NUM . NUM  TIME  NUM )...\n",
      "        id                                           full_log\n",
      "0  1000000  DATE TIME localhost kibana: {\"type\":\"error\",\"@...\n",
      "1  1000001  DATE TIME localhost kibana: {\"type\":\"error\",\"@...\n",
      "2  1000002  type=syscall msg=audit( NUM . NUM  TIME  NUM )...\n",
      "3  1000003  DATE TIME localhost kibana: {\"type\":\"error\",\"@...\n",
      "4  1000004  type=syscall msg=audit( NUM . NUM  TIME  NUM )...\n",
      "                                            full_log\n",
      "0  type=anom_promiscuous msg=audit( NUM . NUM  TI...\n",
      "1  oscap: msg: \"xccdf-result\", scan-id: \" NUM \", ...\n",
      "2  DATE TIME localhost kernel: out of memory: kil...\n"
     ]
    }
   ],
   "source": [
    "for df in [train, test, validation]:\n",
    "    masking(df, timestamp_pattern)\n",
    "    masking(df, ip_pattern)\n",
    "    masking(df, number_pattern)\n",
    "    print(df.head())"
   ]
  },
  {
   "cell_type": "markdown",
   "metadata": {},
   "source": [
    "# 특수문자"
   ]
  },
  {
   "cell_type": "code",
   "execution_count": 174,
   "metadata": {},
   "outputs": [],
   "source": [
    "# 모두 삭제\n",
    "train.full_log = train.full_log.str.replace('[^a-zA-Zㄱ-ㅣ가-힣0-9]', ' ', regex=True)\n",
    "test.full_log = test.full_log.str.replace('[^a-zA-Zㄱ-ㅣ가-힣0-9]', ' ', regex=True)\n",
    "validation.full_log = validation.full_log.str.replace('[^a-zA-Zㄱ-ㅣ가-힣0-9]', ' ', regex=True)"
   ]
  },
  {
   "cell_type": "code",
   "execution_count": 175,
   "metadata": {},
   "outputs": [
    {
     "name": "stdout",
     "output_type": "stream",
     "text": [
      "   id  level                                           full_log\n",
      "0   0      0  DATE TIME localhost kibana    type   error    ...\n",
      "1   1      0  DATE TIME localhost logstash    DATE TIME   NU...\n",
      "2   2      0  DATE TIME localhost kibana    type   error    ...\n",
      "3   3      0  DATE TIME localhost kibana    type   error    ...\n",
      "4   4      1  type syscall msg audit  NUM   NUM  TIME  NUM  ...\n",
      "        id                                           full_log\n",
      "0  1000000  DATE TIME localhost kibana    type   error    ...\n",
      "1  1000001  DATE TIME localhost kibana    type   error    ...\n",
      "2  1000002  type syscall msg audit  NUM   NUM  TIME  NUM  ...\n",
      "3  1000003  DATE TIME localhost kibana    type   error    ...\n",
      "4  1000004  type syscall msg audit  NUM   NUM  TIME  NUM  ...\n",
      "                                            full_log\n",
      "0  type anom promiscuous msg audit  NUM   NUM  TI...\n",
      "1  oscap  msg   xccdf result   scan id    NUM    ...\n",
      "2  DATE TIME localhost kernel  out of memory  kil...\n"
     ]
    }
   ],
   "source": [
    "# 모두 냅두고 앞뒤 공백\n",
    "# train.full_log = train.full_log.str.replace(' ?(?P<note>[^a-zA-Z0-9ㄱ-ㅣ가-힣]) ?', ' \\g<note> ', regex=True)\n",
    "# test.full_log = test.full_log.str.replace(' ?(?P<note>[^a-zA-Z0-9ㄱ-ㅣ가-힣]) ?', ' \\g<note> ', regex=True)\n",
    "# validation.full_log = validation.full_log.str.replace(' ?(?P<note>[^a-zA-Z0-9ㄱ-ㅣ가-힣]) ?', ' \\g<note> ', regex=True)\n",
    "\n",
    "for df in [train, test, validation]:\n",
    "    print(df.head())"
   ]
  },
  {
   "cell_type": "markdown",
   "metadata": {},
   "source": [
    "# 숫자 여러개 하나로, 공백 한 칸으로"
   ]
  },
  {
   "cell_type": "code",
   "execution_count": 176,
   "metadata": {},
   "outputs": [],
   "source": [
    "train.full_log = train.full_log.str.replace(' +', ' ', regex=True)\n",
    "train.full_log = train.full_log.str.replace('NUM (NUM ?)+', ' NUM ', regex=True)\n",
    "train.full_log = train.full_log.str.replace(' +', ' ', regex=True)\n",
    "\n",
    "test.full_log = test.full_log.str.replace(' +', ' ', regex=True)\n",
    "test.full_log = test.full_log.str.replace('NUM (NUM ?)+', ' NUM ', regex=True)\n",
    "test.full_log = test.full_log.str.replace(' +', ' ', regex=True)\n",
    "\n",
    "validation.full_log = validation.full_log.str.replace(' +', ' ', regex=True)\n",
    "validation.full_log = validation.full_log.str.replace('NUM (NUM ?)+', ' NUM ', regex=True)\n",
    "validation.full_log = validation.full_log.str.replace(' +', ' ', regex=True)"
   ]
  },
  {
   "cell_type": "code",
   "execution_count": 177,
   "metadata": {
    "scrolled": false
   },
   "outputs": [
    {
     "name": "stdout",
     "output_type": "stream",
     "text": [
      "DATE TIME localhost kibana type log timestamp DATE TIME tags license warning xpack pid NUM message license information from the x pack plugin could not be obtained from elasticsearch for the monitoring cluster error no living connections \n"
     ]
    }
   ],
   "source": [
    "search_by_index(random.randrange(1, train.shape[0]+1))"
   ]
  },
  {
   "cell_type": "code",
   "execution_count": 178,
   "metadata": {},
   "outputs": [],
   "source": [
    "# save\n",
    "\n",
    "train.to_csv('./data/cleaned_train_special.csv')\n",
    "test.to_csv('./data/cleaned_test_special.csv')\n",
    "validation.to_csv('./data/cleaned_validation_special.csv')"
   ]
  },
  {
   "cell_type": "markdown",
   "metadata": {},
   "source": [
    "# train 위험도 중복 제거\n",
    "+ 전처리 모두 끝낸 파일로 확인하는 게 좋겠다"
   ]
  },
  {
   "cell_type": "code",
   "execution_count": 179,
   "metadata": {},
   "outputs": [],
   "source": [
    "def count_level(df):\n",
    "    columns = df.columns\n",
    "    count = 0\n",
    "    for col in columns:\n",
    "        count += (df[col] > 0)\n",
    "    return count"
   ]
  },
  {
   "cell_type": "code",
   "execution_count": 180,
   "metadata": {},
   "outputs": [],
   "source": [
    "pivot = train.pivot_table(values='id', index='full_log', columns='level', aggfunc='count', fill_value=0)\n",
    "pivot['count'] = count_level(pivot)"
   ]
  },
  {
   "cell_type": "code",
   "execution_count": 181,
   "metadata": {},
   "outputs": [
    {
     "data": {
      "text/html": [
       "<div>\n",
       "<style scoped>\n",
       "    .dataframe tbody tr th:only-of-type {\n",
       "        vertical-align: middle;\n",
       "    }\n",
       "\n",
       "    .dataframe tbody tr th {\n",
       "        vertical-align: top;\n",
       "    }\n",
       "\n",
       "    .dataframe thead th {\n",
       "        text-align: right;\n",
       "    }\n",
       "</style>\n",
       "<table border=\"1\" class=\"dataframe\">\n",
       "  <thead>\n",
       "    <tr style=\"text-align: right;\">\n",
       "      <th>level</th>\n",
       "      <th>0</th>\n",
       "      <th>1</th>\n",
       "      <th>2</th>\n",
       "      <th>3</th>\n",
       "      <th>4</th>\n",
       "      <th>5</th>\n",
       "      <th>6</th>\n",
       "      <th>count</th>\n",
       "    </tr>\n",
       "    <tr>\n",
       "      <th>full_log</th>\n",
       "      <th></th>\n",
       "      <th></th>\n",
       "      <th></th>\n",
       "      <th></th>\n",
       "      <th></th>\n",
       "      <th></th>\n",
       "      <th></th>\n",
       "      <th></th>\n",
       "    </tr>\n",
       "  </thead>\n",
       "  <tbody>\n",
       "    <tr>\n",
       "      <th>DATE TIME localhost sudo apache tty unknown pwd var www html management user root command bin curl xget localhost NUM cat snapshots esild backup</th>\n",
       "      <td>0</td>\n",
       "      <td>4</td>\n",
       "      <td>1</td>\n",
       "      <td>0</td>\n",
       "      <td>0</td>\n",
       "      <td>0</td>\n",
       "      <td>0</td>\n",
       "      <td>2</td>\n",
       "    </tr>\n",
       "    <tr>\n",
       "      <th>juniper</th>\n",
       "      <td>4</td>\n",
       "      <td>0</td>\n",
       "      <td>0</td>\n",
       "      <td>1</td>\n",
       "      <td>0</td>\n",
       "      <td>0</td>\n",
       "      <td>0</td>\n",
       "      <td>2</td>\n",
       "    </tr>\n",
       "    <tr>\n",
       "      <th>level NUM log abort executable name pid version version built by builder on date error message</th>\n",
       "      <td>1</td>\n",
       "      <td>1</td>\n",
       "      <td>0</td>\n",
       "      <td>0</td>\n",
       "      <td>0</td>\n",
       "      <td>0</td>\n",
       "      <td>0</td>\n",
       "      <td>2</td>\n",
       "    </tr>\n",
       "    <tr>\n",
       "      <th>level NUM log aborting unable to run in the background as a daemon error message</th>\n",
       "      <td>1</td>\n",
       "      <td>4</td>\n",
       "      <td>0</td>\n",
       "      <td>0</td>\n",
       "      <td>0</td>\n",
       "      <td>0</td>\n",
       "      <td>0</td>\n",
       "      <td>2</td>\n",
       "    </tr>\n",
       "    <tr>\n",
       "      <th>level NUM log action error code error message</th>\n",
       "      <td>1</td>\n",
       "      <td>1</td>\n",
       "      <td>0</td>\n",
       "      <td>0</td>\n",
       "      <td>0</td>\n",
       "      <td>1</td>\n",
       "      <td>0</td>\n",
       "      <td>3</td>\n",
       "    </tr>\n",
       "    <tr>\n",
       "      <th>...</th>\n",
       "      <td>...</td>\n",
       "      <td>...</td>\n",
       "      <td>...</td>\n",
       "      <td>...</td>\n",
       "      <td>...</td>\n",
       "      <td>...</td>\n",
       "      <td>...</td>\n",
       "      <td>...</td>\n",
       "    </tr>\n",
       "    <tr>\n",
       "      <th>level NUM log versions of rpd and librpd did not match not retrying</th>\n",
       "      <td>1</td>\n",
       "      <td>1</td>\n",
       "      <td>0</td>\n",
       "      <td>0</td>\n",
       "      <td>0</td>\n",
       "      <td>0</td>\n",
       "      <td>0</td>\n",
       "      <td>2</td>\n",
       "    </tr>\n",
       "    <tr>\n",
       "      <th>level NUM log vpn vpn name from remote address is down</th>\n",
       "      <td>2</td>\n",
       "      <td>1</td>\n",
       "      <td>0</td>\n",
       "      <td>0</td>\n",
       "      <td>0</td>\n",
       "      <td>0</td>\n",
       "      <td>0</td>\n",
       "      <td>2</td>\n",
       "    </tr>\n",
       "    <tr>\n",
       "      <th>level NUM log vpn vpn name from remote address is up</th>\n",
       "      <td>1</td>\n",
       "      <td>1</td>\n",
       "      <td>0</td>\n",
       "      <td>0</td>\n",
       "      <td>0</td>\n",
       "      <td>0</td>\n",
       "      <td>0</td>\n",
       "      <td>2</td>\n",
       "    </tr>\n",
       "    <tr>\n",
       "      <th>level NUM log write error on pipe to client name</th>\n",
       "      <td>1</td>\n",
       "      <td>0</td>\n",
       "      <td>0</td>\n",
       "      <td>0</td>\n",
       "      <td>0</td>\n",
       "      <td>1</td>\n",
       "      <td>0</td>\n",
       "      <td>2</td>\n",
       "    </tr>\n",
       "    <tr>\n",
       "      <th>level rule level log log</th>\n",
       "      <td>10</td>\n",
       "      <td>8</td>\n",
       "      <td>0</td>\n",
       "      <td>0</td>\n",
       "      <td>0</td>\n",
       "      <td>0</td>\n",
       "      <td>0</td>\n",
       "      <td>2</td>\n",
       "    </tr>\n",
       "  </tbody>\n",
       "</table>\n",
       "<p>338 rows × 8 columns</p>\n",
       "</div>"
      ],
      "text/plain": [
       "level                                                0  1  2  3  4  5  6  \\\n",
       "full_log                                                                   \n",
       "DATE TIME localhost sudo apache tty unknown pwd...   0  4  1  0  0  0  0   \n",
       "juniper                                              4  0  0  1  0  0  0   \n",
       "level NUM log abort executable name pid version...   1  1  0  0  0  0  0   \n",
       "level NUM log aborting unable to run in the bac...   1  4  0  0  0  0  0   \n",
       "level NUM log action error code error message        1  1  0  0  0  1  0   \n",
       "...                                                 .. .. .. .. .. .. ..   \n",
       "level NUM log versions of rpd and librpd did no...   1  1  0  0  0  0  0   \n",
       "level NUM log vpn vpn name from remote address ...   2  1  0  0  0  0  0   \n",
       "level NUM log vpn vpn name from remote address ...   1  1  0  0  0  0  0   \n",
       "level NUM log write error on pipe to client name     1  0  0  0  0  1  0   \n",
       "level rule level log log                            10  8  0  0  0  0  0   \n",
       "\n",
       "level                                               count  \n",
       "full_log                                                   \n",
       "DATE TIME localhost sudo apache tty unknown pwd...      2  \n",
       "juniper                                                 2  \n",
       "level NUM log abort executable name pid version...      2  \n",
       "level NUM log aborting unable to run in the bac...      2  \n",
       "level NUM log action error code error message           3  \n",
       "...                                                   ...  \n",
       "level NUM log versions of rpd and librpd did no...      2  \n",
       "level NUM log vpn vpn name from remote address ...      2  \n",
       "level NUM log vpn vpn name from remote address ...      2  \n",
       "level NUM log write error on pipe to client name        2  \n",
       "level rule level log log                                2  \n",
       "\n",
       "[338 rows x 8 columns]"
      ]
     },
     "execution_count": 181,
     "metadata": {},
     "output_type": "execute_result"
    }
   ],
   "source": [
    "dupl = pivot[pivot['count'] > 1].copy()\n",
    "dupl"
   ]
  },
  {
   "cell_type": "code",
   "execution_count": 182,
   "metadata": {},
   "outputs": [
    {
     "data": {
      "text/plain": [
       "0    289\n",
       "1     48\n",
       "3      1\n",
       "dtype: int64"
      ]
     },
     "execution_count": 182,
     "metadata": {},
     "output_type": "execute_result"
    }
   ],
   "source": [
    "pd.Series(np.argmax(dupl.iloc[:, :-1].values, axis=-1)).value_counts()"
   ]
  },
  {
   "cell_type": "code",
   "execution_count": 183,
   "metadata": {},
   "outputs": [
    {
     "data": {
      "text/html": [
       "<div>\n",
       "<style scoped>\n",
       "    .dataframe tbody tr th:only-of-type {\n",
       "        vertical-align: middle;\n",
       "    }\n",
       "\n",
       "    .dataframe tbody tr th {\n",
       "        vertical-align: top;\n",
       "    }\n",
       "\n",
       "    .dataframe thead th {\n",
       "        text-align: right;\n",
       "    }\n",
       "</style>\n",
       "<table border=\"1\" class=\"dataframe\">\n",
       "  <thead>\n",
       "    <tr style=\"text-align: right;\">\n",
       "      <th>level</th>\n",
       "      <th>0</th>\n",
       "      <th>1</th>\n",
       "      <th>2</th>\n",
       "      <th>3</th>\n",
       "      <th>4</th>\n",
       "      <th>5</th>\n",
       "      <th>6</th>\n",
       "      <th>count</th>\n",
       "      <th>level</th>\n",
       "    </tr>\n",
       "    <tr>\n",
       "      <th>full_log</th>\n",
       "      <th></th>\n",
       "      <th></th>\n",
       "      <th></th>\n",
       "      <th></th>\n",
       "      <th></th>\n",
       "      <th></th>\n",
       "      <th></th>\n",
       "      <th></th>\n",
       "      <th></th>\n",
       "    </tr>\n",
       "  </thead>\n",
       "  <tbody>\n",
       "    <tr>\n",
       "      <th>DATE TIME localhost sudo apache tty unknown pwd var www html management user root command bin curl xget localhost NUM cat snapshots esild backup</th>\n",
       "      <td>0</td>\n",
       "      <td>4</td>\n",
       "      <td>1</td>\n",
       "      <td>0</td>\n",
       "      <td>0</td>\n",
       "      <td>0</td>\n",
       "      <td>0</td>\n",
       "      <td>2</td>\n",
       "      <td>1</td>\n",
       "    </tr>\n",
       "    <tr>\n",
       "      <th>juniper</th>\n",
       "      <td>4</td>\n",
       "      <td>0</td>\n",
       "      <td>0</td>\n",
       "      <td>1</td>\n",
       "      <td>0</td>\n",
       "      <td>0</td>\n",
       "      <td>0</td>\n",
       "      <td>2</td>\n",
       "      <td>0</td>\n",
       "    </tr>\n",
       "    <tr>\n",
       "      <th>level NUM log abort executable name pid version version built by builder on date error message</th>\n",
       "      <td>1</td>\n",
       "      <td>1</td>\n",
       "      <td>0</td>\n",
       "      <td>0</td>\n",
       "      <td>0</td>\n",
       "      <td>0</td>\n",
       "      <td>0</td>\n",
       "      <td>2</td>\n",
       "      <td>0</td>\n",
       "    </tr>\n",
       "    <tr>\n",
       "      <th>level NUM log aborting unable to run in the background as a daemon error message</th>\n",
       "      <td>1</td>\n",
       "      <td>4</td>\n",
       "      <td>0</td>\n",
       "      <td>0</td>\n",
       "      <td>0</td>\n",
       "      <td>0</td>\n",
       "      <td>0</td>\n",
       "      <td>2</td>\n",
       "      <td>1</td>\n",
       "    </tr>\n",
       "    <tr>\n",
       "      <th>level NUM log action error code error message</th>\n",
       "      <td>1</td>\n",
       "      <td>1</td>\n",
       "      <td>0</td>\n",
       "      <td>0</td>\n",
       "      <td>0</td>\n",
       "      <td>1</td>\n",
       "      <td>0</td>\n",
       "      <td>3</td>\n",
       "      <td>0</td>\n",
       "    </tr>\n",
       "    <tr>\n",
       "      <th>...</th>\n",
       "      <td>...</td>\n",
       "      <td>...</td>\n",
       "      <td>...</td>\n",
       "      <td>...</td>\n",
       "      <td>...</td>\n",
       "      <td>...</td>\n",
       "      <td>...</td>\n",
       "      <td>...</td>\n",
       "      <td>...</td>\n",
       "    </tr>\n",
       "    <tr>\n",
       "      <th>level NUM log versions of rpd and librpd did not match not retrying</th>\n",
       "      <td>1</td>\n",
       "      <td>1</td>\n",
       "      <td>0</td>\n",
       "      <td>0</td>\n",
       "      <td>0</td>\n",
       "      <td>0</td>\n",
       "      <td>0</td>\n",
       "      <td>2</td>\n",
       "      <td>0</td>\n",
       "    </tr>\n",
       "    <tr>\n",
       "      <th>level NUM log vpn vpn name from remote address is down</th>\n",
       "      <td>2</td>\n",
       "      <td>1</td>\n",
       "      <td>0</td>\n",
       "      <td>0</td>\n",
       "      <td>0</td>\n",
       "      <td>0</td>\n",
       "      <td>0</td>\n",
       "      <td>2</td>\n",
       "      <td>0</td>\n",
       "    </tr>\n",
       "    <tr>\n",
       "      <th>level NUM log vpn vpn name from remote address is up</th>\n",
       "      <td>1</td>\n",
       "      <td>1</td>\n",
       "      <td>0</td>\n",
       "      <td>0</td>\n",
       "      <td>0</td>\n",
       "      <td>0</td>\n",
       "      <td>0</td>\n",
       "      <td>2</td>\n",
       "      <td>0</td>\n",
       "    </tr>\n",
       "    <tr>\n",
       "      <th>level NUM log write error on pipe to client name</th>\n",
       "      <td>1</td>\n",
       "      <td>0</td>\n",
       "      <td>0</td>\n",
       "      <td>0</td>\n",
       "      <td>0</td>\n",
       "      <td>1</td>\n",
       "      <td>0</td>\n",
       "      <td>2</td>\n",
       "      <td>0</td>\n",
       "    </tr>\n",
       "    <tr>\n",
       "      <th>level rule level log log</th>\n",
       "      <td>10</td>\n",
       "      <td>8</td>\n",
       "      <td>0</td>\n",
       "      <td>0</td>\n",
       "      <td>0</td>\n",
       "      <td>0</td>\n",
       "      <td>0</td>\n",
       "      <td>2</td>\n",
       "      <td>0</td>\n",
       "    </tr>\n",
       "  </tbody>\n",
       "</table>\n",
       "<p>338 rows × 9 columns</p>\n",
       "</div>"
      ],
      "text/plain": [
       "level                                                0  1  2  3  4  5  6  \\\n",
       "full_log                                                                   \n",
       "DATE TIME localhost sudo apache tty unknown pwd...   0  4  1  0  0  0  0   \n",
       "juniper                                              4  0  0  1  0  0  0   \n",
       "level NUM log abort executable name pid version...   1  1  0  0  0  0  0   \n",
       "level NUM log aborting unable to run in the bac...   1  4  0  0  0  0  0   \n",
       "level NUM log action error code error message        1  1  0  0  0  1  0   \n",
       "...                                                 .. .. .. .. .. .. ..   \n",
       "level NUM log versions of rpd and librpd did no...   1  1  0  0  0  0  0   \n",
       "level NUM log vpn vpn name from remote address ...   2  1  0  0  0  0  0   \n",
       "level NUM log vpn vpn name from remote address ...   1  1  0  0  0  0  0   \n",
       "level NUM log write error on pipe to client name     1  0  0  0  0  1  0   \n",
       "level rule level log log                            10  8  0  0  0  0  0   \n",
       "\n",
       "level                                               count  level  \n",
       "full_log                                                          \n",
       "DATE TIME localhost sudo apache tty unknown pwd...      2      1  \n",
       "juniper                                                 2      0  \n",
       "level NUM log abort executable name pid version...      2      0  \n",
       "level NUM log aborting unable to run in the bac...      2      1  \n",
       "level NUM log action error code error message           3      0  \n",
       "...                                                   ...    ...  \n",
       "level NUM log versions of rpd and librpd did no...      2      0  \n",
       "level NUM log vpn vpn name from remote address ...      2      0  \n",
       "level NUM log vpn vpn name from remote address ...      2      0  \n",
       "level NUM log write error on pipe to client name        2      0  \n",
       "level rule level log log                                2      0  \n",
       "\n",
       "[338 rows x 9 columns]"
      ]
     },
     "execution_count": 183,
     "metadata": {},
     "output_type": "execute_result"
    }
   ],
   "source": [
    "dupl['level'] = np.argmax(dupl.iloc[:, :-1].values, axis=-1)\n",
    "dupl"
   ]
  },
  {
   "cell_type": "code",
   "execution_count": 184,
   "metadata": {},
   "outputs": [
    {
     "name": "stdout",
     "output_type": "stream",
     "text": [
      "Int64Index([365348], dtype='int64')\n",
      "Int64Index([170195], dtype='int64')\n",
      "Int64Index([250804], dtype='int64')\n",
      "Int64Index([240078], dtype='int64')\n",
      "Int64Index([298133, 453023], dtype='int64')\n",
      "Int64Index([105740], dtype='int64')\n",
      "Int64Index([339593], dtype='int64')\n",
      "Int64Index([316815], dtype='int64')\n",
      "Int64Index([175756], dtype='int64')\n",
      "Int64Index([139455], dtype='int64')\n",
      "Int64Index([98809], dtype='int64')\n",
      "Int64Index([168990], dtype='int64')\n",
      "Int64Index([357230], dtype='int64')\n",
      "Int64Index([29302, 205309], dtype='int64')\n",
      "Int64Index([201612], dtype='int64')\n",
      "Int64Index([112330], dtype='int64')\n",
      "Int64Index([161686, 205196], dtype='int64')\n",
      "Int64Index([437568], dtype='int64')\n",
      "Int64Index([19711, 108574], dtype='int64')\n",
      "Int64Index([105732], dtype='int64')\n",
      "Int64Index([390321], dtype='int64')\n",
      "Int64Index([283912], dtype='int64')\n",
      "Int64Index([97446], dtype='int64')\n",
      "Int64Index([292296], dtype='int64')\n",
      "Int64Index([241377, 255263], dtype='int64')\n",
      "Int64Index([367165], dtype='int64')\n",
      "Int64Index([325913], dtype='int64')\n",
      "Int64Index([78817, 117226], dtype='int64')\n",
      "Int64Index([316027], dtype='int64')\n",
      "Int64Index([466184], dtype='int64')\n",
      "Int64Index([15089], dtype='int64')\n",
      "Int64Index([370301], dtype='int64')\n",
      "Int64Index([343354], dtype='int64')\n",
      "Int64Index([413355], dtype='int64')\n",
      "Int64Index([462160], dtype='int64')\n",
      "Int64Index([193045], dtype='int64')\n",
      "Int64Index([439627], dtype='int64')\n",
      "Int64Index([85470], dtype='int64')\n",
      "Int64Index([323045], dtype='int64')\n",
      "Int64Index([395103], dtype='int64')\n",
      "Int64Index([416311], dtype='int64')\n",
      "Int64Index([111843], dtype='int64')\n",
      "Int64Index([447939], dtype='int64')\n",
      "Int64Index([345636], dtype='int64')\n",
      "Int64Index([416708], dtype='int64')\n",
      "Int64Index([422938], dtype='int64')\n",
      "Int64Index([426004], dtype='int64')\n",
      "Int64Index([76537], dtype='int64')\n",
      "Int64Index([70983], dtype='int64')\n",
      "Int64Index([384950], dtype='int64')\n",
      "Int64Index([256568, 266683, 374770, 443025], dtype='int64')\n",
      "Int64Index([127475], dtype='int64')\n",
      "Int64Index([454164], dtype='int64')\n",
      "Int64Index([269731], dtype='int64')\n",
      "Int64Index([94997, 460259], dtype='int64')\n",
      "Int64Index([1390], dtype='int64')\n",
      "Int64Index([227604], dtype='int64')\n",
      "Int64Index([378602], dtype='int64')\n",
      "Int64Index([57641], dtype='int64')\n",
      "Int64Index([288244], dtype='int64')\n",
      "Int64Index([304002], dtype='int64')\n",
      "Int64Index([353694, 438501], dtype='int64')\n",
      "Int64Index([8708, 336787], dtype='int64')\n",
      "Int64Index([143383], dtype='int64')\n",
      "Int64Index([251609], dtype='int64')\n",
      "Int64Index([245286], dtype='int64')\n",
      "Int64Index([164052], dtype='int64')\n",
      "Int64Index([452903], dtype='int64')\n",
      "Int64Index([395920], dtype='int64')\n",
      "Int64Index([37130, 182428], dtype='int64')\n",
      "Int64Index([203400], dtype='int64')\n",
      "Int64Index([250757], dtype='int64')\n",
      "Int64Index([119817], dtype='int64')\n",
      "Int64Index([118426], dtype='int64')\n",
      "Int64Index([393040], dtype='int64')\n",
      "Int64Index([458546], dtype='int64')\n",
      "Int64Index([154354], dtype='int64')\n",
      "Int64Index([355550], dtype='int64')\n",
      "Int64Index([323795], dtype='int64')\n",
      "Int64Index([230917, 449759], dtype='int64')\n",
      "Int64Index([198344], dtype='int64')\n",
      "Int64Index([140806], dtype='int64')\n",
      "Int64Index([314904], dtype='int64')\n",
      "Int64Index([244038], dtype='int64')\n",
      "Int64Index([143157], dtype='int64')\n",
      "Int64Index([366745], dtype='int64')\n",
      "Int64Index([403102], dtype='int64')\n",
      "Int64Index([320202], dtype='int64')\n",
      "Int64Index([380077], dtype='int64')\n",
      "Int64Index([72693], dtype='int64')\n",
      "Int64Index([71472], dtype='int64')\n",
      "Int64Index([145697], dtype='int64')\n",
      "Int64Index([110369], dtype='int64')\n",
      "Int64Index([88611], dtype='int64')\n",
      "Int64Index([30749, 47383, 158388, 303260, 324485, 407295, 420973, 446201], dtype='int64')\n",
      "Int64Index([250859], dtype='int64')\n",
      "Int64Index([319643], dtype='int64')\n",
      "Int64Index([88191], dtype='int64')\n",
      "Int64Index([136085], dtype='int64')\n",
      "Int64Index([371789], dtype='int64')\n",
      "Int64Index([468206], dtype='int64')\n",
      "Int64Index([145841], dtype='int64')\n",
      "Int64Index([10045, 441294], dtype='int64')\n",
      "Int64Index([202996], dtype='int64')\n",
      "Int64Index([31090], dtype='int64')\n",
      "Int64Index([14547], dtype='int64')\n",
      "Int64Index([427736], dtype='int64')\n",
      "Int64Index([414305], dtype='int64')\n",
      "Int64Index([207203, 292304], dtype='int64')\n",
      "Int64Index([171161], dtype='int64')\n",
      "Int64Index([334161], dtype='int64')\n",
      "Int64Index([262874], dtype='int64')\n",
      "Int64Index([402055], dtype='int64')\n",
      "Int64Index([69570], dtype='int64')\n",
      "Int64Index([65630], dtype='int64')\n",
      "Int64Index([425443], dtype='int64')\n",
      "Int64Index([61949, 368656], dtype='int64')\n",
      "Int64Index([346440], dtype='int64')\n",
      "Int64Index([340005], dtype='int64')\n",
      "Int64Index([51150], dtype='int64')\n",
      "Int64Index([272579], dtype='int64')\n",
      "Int64Index([245703, 466741], dtype='int64')\n",
      "Int64Index([178878], dtype='int64')\n",
      "Int64Index([446442], dtype='int64')\n",
      "Int64Index([439523], dtype='int64')\n",
      "Int64Index([334263], dtype='int64')\n",
      "Int64Index([97283], dtype='int64')\n",
      "Int64Index([105178, 254217, 437157], dtype='int64')\n",
      "Int64Index([329372], dtype='int64')\n",
      "Int64Index([325461], dtype='int64')\n",
      "Int64Index([54477], dtype='int64')\n",
      "Int64Index([430679], dtype='int64')\n",
      "Int64Index([297288], dtype='int64')\n",
      "Int64Index([135308], dtype='int64')\n",
      "Int64Index([29894], dtype='int64')\n",
      "Int64Index([46770], dtype='int64')\n",
      "Int64Index([333830], dtype='int64')\n",
      "Int64Index([95823], dtype='int64')\n",
      "Int64Index([382769], dtype='int64')\n",
      "Int64Index([208434], dtype='int64')\n",
      "Int64Index([77236], dtype='int64')\n",
      "Int64Index([116273, 356461], dtype='int64')\n",
      "Int64Index([231263], dtype='int64')\n",
      "Int64Index([103398], dtype='int64')\n",
      "Int64Index([124866, 157118], dtype='int64')\n",
      "Int64Index([397805], dtype='int64')\n",
      "Int64Index([308766], dtype='int64')\n",
      "Int64Index([88169], dtype='int64')\n",
      "Int64Index([100925], dtype='int64')\n",
      "Int64Index([342097], dtype='int64')\n",
      "Int64Index([471722], dtype='int64')\n",
      "Int64Index([95181], dtype='int64')\n",
      "Int64Index([15736], dtype='int64')\n",
      "Int64Index([462599], dtype='int64')\n",
      "Int64Index([20890], dtype='int64')\n",
      "Int64Index([12395], dtype='int64')\n",
      "Int64Index([412301], dtype='int64')\n",
      "Int64Index([141400], dtype='int64')\n",
      "Int64Index([391099], dtype='int64')\n",
      "Int64Index([330035], dtype='int64')\n",
      "Int64Index([450831], dtype='int64')\n",
      "Int64Index([396846], dtype='int64')\n",
      "Int64Index([61648], dtype='int64')\n",
      "Int64Index([286379], dtype='int64')\n",
      "Int64Index([239997, 447657], dtype='int64')\n",
      "Int64Index([410714], dtype='int64')\n",
      "Int64Index([307252], dtype='int64')\n",
      "Int64Index([372267], dtype='int64')\n",
      "Int64Index([248937, 458217], dtype='int64')\n",
      "Int64Index([382755], dtype='int64')\n",
      "Int64Index([359871], dtype='int64')\n",
      "Int64Index([57316], dtype='int64')\n",
      "Int64Index([243070, 441724], dtype='int64')\n",
      "Int64Index([38637], dtype='int64')\n",
      "Int64Index([287653], dtype='int64')\n",
      "Int64Index([470502], dtype='int64')\n",
      "Int64Index([203082], dtype='int64')\n",
      "Int64Index([562], dtype='int64')\n",
      "Int64Index([394809], dtype='int64')\n",
      "Int64Index([123950], dtype='int64')\n",
      "Int64Index([190707, 313952], dtype='int64')\n",
      "Int64Index([218575], dtype='int64')\n",
      "Int64Index([258998], dtype='int64')\n",
      "Int64Index([346442], dtype='int64')\n",
      "Int64Index([165377], dtype='int64')\n",
      "Int64Index([94978], dtype='int64')\n",
      "Int64Index([112263, 292141], dtype='int64')\n",
      "Int64Index([278100], dtype='int64')\n",
      "Int64Index([165376], dtype='int64')\n",
      "Int64Index([55523], dtype='int64')\n",
      "Int64Index([287906], dtype='int64')\n",
      "Int64Index([268447], dtype='int64')\n",
      "Int64Index([213261], dtype='int64')\n",
      "Int64Index([335572], dtype='int64')\n",
      "Int64Index([9556, 107905, 110072], dtype='int64')\n",
      "Int64Index([462680], dtype='int64')\n",
      "Int64Index([14595], dtype='int64')\n",
      "Int64Index([201834], dtype='int64')\n",
      "Int64Index([402605], dtype='int64')\n",
      "Int64Index([284847], dtype='int64')\n",
      "Int64Index([69096], dtype='int64')\n",
      "Int64Index([219061], dtype='int64')\n",
      "Int64Index([133171], dtype='int64')\n",
      "Int64Index([92415, 223899, 240458, 273476, 430256], dtype='int64')\n",
      "Int64Index([75398], dtype='int64')\n",
      "Int64Index([111813], dtype='int64')\n",
      "Int64Index([135267], dtype='int64')\n",
      "Int64Index([449133], dtype='int64')\n",
      "Int64Index([95407], dtype='int64')\n",
      "Int64Index([38415], dtype='int64')\n",
      "Int64Index([87732], dtype='int64')\n",
      "Int64Index([278586], dtype='int64')\n",
      "Int64Index([353361], dtype='int64')\n",
      "Int64Index([250002], dtype='int64')\n",
      "Int64Index([311340], dtype='int64')\n",
      "Int64Index([199057], dtype='int64')\n",
      "Int64Index([34993], dtype='int64')\n",
      "Int64Index([312515], dtype='int64')\n",
      "Int64Index([377484], dtype='int64')\n",
      "Int64Index([285448], dtype='int64')\n",
      "Int64Index([228378], dtype='int64')\n",
      "Int64Index([245914], dtype='int64')\n",
      "Int64Index([252940], dtype='int64')\n",
      "Int64Index([166858], dtype='int64')\n"
     ]
    },
    {
     "name": "stdout",
     "output_type": "stream",
     "text": [
      "Int64Index([155895], dtype='int64')\n",
      "Int64Index([69574, 359974, 404161], dtype='int64')\n",
      "Int64Index([373627], dtype='int64')\n",
      "Int64Index([267642], dtype='int64')\n",
      "Int64Index([302735], dtype='int64')\n",
      "Int64Index([448315], dtype='int64')\n",
      "Int64Index([18139], dtype='int64')\n",
      "Int64Index([167526], dtype='int64')\n",
      "Int64Index([262657], dtype='int64')\n",
      "Int64Index([36415], dtype='int64')\n",
      "Int64Index([206366], dtype='int64')\n",
      "Int64Index([436872], dtype='int64')\n",
      "Int64Index([132623], dtype='int64')\n",
      "Int64Index([391166], dtype='int64')\n",
      "Int64Index([426662], dtype='int64')\n",
      "Int64Index([114910], dtype='int64')\n",
      "Int64Index([198830], dtype='int64')\n",
      "Int64Index([ 10266,  61246,  97932, 110375, 110792, 117107, 170875, 177943,\n",
      "            198652, 203453, 213078, 221135, 223337, 244642, 318387, 392111,\n",
      "            419025, 447472, 460282, 461833],\n",
      "           dtype='int64')\n",
      "Int64Index([18415], dtype='int64')\n",
      "Int64Index([226634], dtype='int64')\n",
      "Int64Index([215724, 410377], dtype='int64')\n",
      "Int64Index([329609, 419697], dtype='int64')\n",
      "Int64Index([192353], dtype='int64')\n",
      "Int64Index([189173], dtype='int64')\n",
      "Int64Index([222773], dtype='int64')\n",
      "Int64Index([180601], dtype='int64')\n",
      "Int64Index([212211], dtype='int64')\n",
      "Int64Index([269448], dtype='int64')\n",
      "Int64Index([310706], dtype='int64')\n",
      "Int64Index([446202], dtype='int64')\n",
      "Int64Index([202403], dtype='int64')\n",
      "Int64Index([2395], dtype='int64')\n",
      "Int64Index([87648], dtype='int64')\n",
      "Int64Index([282785], dtype='int64')\n",
      "Int64Index([96087], dtype='int64')\n",
      "Int64Index([319548], dtype='int64')\n",
      "Int64Index([41780], dtype='int64')\n",
      "Int64Index([129061], dtype='int64')\n",
      "Int64Index([380475], dtype='int64')\n",
      "Int64Index([285029], dtype='int64')\n",
      "Int64Index([329987], dtype='int64')\n",
      "Int64Index([87429], dtype='int64')\n",
      "Int64Index([312569], dtype='int64')\n",
      "Int64Index([207253], dtype='int64')\n",
      "Int64Index([341017], dtype='int64')\n",
      "Int64Index([70416], dtype='int64')\n",
      "Int64Index([239338], dtype='int64')\n",
      "Int64Index([355594], dtype='int64')\n",
      "Int64Index([268826, 400532], dtype='int64')\n",
      "Int64Index([267319, 465000], dtype='int64')\n",
      "Int64Index([217944], dtype='int64')\n",
      "Int64Index([339222], dtype='int64')\n",
      "Int64Index([355416], dtype='int64')\n",
      "Int64Index([233662], dtype='int64')\n",
      "Int64Index([177813], dtype='int64')\n",
      "Int64Index([324005], dtype='int64')\n",
      "Int64Index([11577, 37782, 412395, 438012], dtype='int64')\n",
      "Int64Index([199075], dtype='int64')\n",
      "Int64Index([86053], dtype='int64')\n",
      "Int64Index([53091], dtype='int64')\n",
      "Int64Index([212199], dtype='int64')\n",
      "Int64Index([211796], dtype='int64')\n",
      "Int64Index([18903], dtype='int64')\n",
      "Int64Index([41075, 266686, 389486], dtype='int64')\n",
      "Int64Index([416502], dtype='int64')\n",
      "Int64Index([130947], dtype='int64')\n",
      "Int64Index([414907], dtype='int64')\n",
      "Int64Index([191669, 211433], dtype='int64')\n",
      "Int64Index([453567], dtype='int64')\n",
      "Int64Index([118755], dtype='int64')\n",
      "Int64Index([438221], dtype='int64')\n",
      "Int64Index([264138, 376997, 431782], dtype='int64')\n",
      "Int64Index([362170], dtype='int64')\n",
      "Int64Index([376238, 457011], dtype='int64')\n",
      "Int64Index([232236], dtype='int64')\n",
      "Int64Index([434400], dtype='int64')\n",
      "Int64Index([427647], dtype='int64')\n",
      "Int64Index([304352], dtype='int64')\n",
      "Int64Index([211329], dtype='int64')\n",
      "Int64Index([181546, 212356], dtype='int64')\n",
      "Int64Index([252510], dtype='int64')\n",
      "Int64Index([445724], dtype='int64')\n",
      "Int64Index([248070], dtype='int64')\n",
      "Int64Index([288732], dtype='int64')\n",
      "Int64Index([169726], dtype='int64')\n",
      "Int64Index([22250], dtype='int64')\n",
      "Int64Index([143407], dtype='int64')\n",
      "Int64Index([128684], dtype='int64')\n",
      "Int64Index([434505], dtype='int64')\n",
      "Int64Index([132344], dtype='int64')\n",
      "Int64Index([289948], dtype='int64')\n",
      "Int64Index([91737], dtype='int64')\n",
      "Int64Index([238235, 451380], dtype='int64')\n",
      "Int64Index([222688], dtype='int64')\n",
      "Int64Index([331825], dtype='int64')\n",
      "Int64Index([86051, 263685], dtype='int64')\n",
      "Int64Index([59619], dtype='int64')\n",
      "Int64Index([51187], dtype='int64')\n",
      "Int64Index([322226], dtype='int64')\n",
      "Int64Index([29439], dtype='int64')\n",
      "Int64Index([109960], dtype='int64')\n",
      "Int64Index([332539], dtype='int64')\n",
      "Int64Index([335518], dtype='int64')\n",
      "Int64Index([373027], dtype='int64')\n",
      "Int64Index([127898], dtype='int64')\n",
      "Int64Index([190533, 432260], dtype='int64')\n",
      "Int64Index([115805], dtype='int64')\n",
      "Int64Index([14717], dtype='int64')\n",
      "Int64Index([51589], dtype='int64')\n",
      "Int64Index([171212], dtype='int64')\n",
      "Int64Index([380319], dtype='int64')\n",
      "Int64Index([409664], dtype='int64')\n",
      "Int64Index([246402], dtype='int64')\n",
      "Int64Index([22204, 47450, 98909, 143224, 301414, 315336, 328352, 385942], dtype='int64')\n"
     ]
    }
   ],
   "source": [
    "for index in dupl.index:\n",
    "    targets = train[(train['full_log']==index) & (train['level']!=dupl['level'][index])].index\n",
    "    print(targets)\n",
    "    train.drop(index=targets, inplace=True)"
   ]
  },
  {
   "cell_type": "code",
   "execution_count": 185,
   "metadata": {},
   "outputs": [
    {
     "data": {
      "text/plain": [
       "0    334020\n",
       "1    132181\n",
       "3      4139\n",
       "5      2180\n",
       "2        11\n",
       "4        10\n",
       "6         8\n",
       "Name: level, dtype: int64"
      ]
     },
     "execution_count": 185,
     "metadata": {},
     "output_type": "execute_result"
    }
   ],
   "source": [
    "train['level'].value_counts()"
   ]
  },
  {
   "cell_type": "markdown",
   "metadata": {},
   "source": [
    "# 5/14 추가 전처리 (반복되는 단어 삭제)\n",
    "- DATE localhost\n",
    "- level NUM log"
   ]
  },
  {
   "cell_type": "code",
   "execution_count": 186,
   "metadata": {},
   "outputs": [],
   "source": [
    "train.full_log = train.full_log.apply(lambda x : x.strip())\n",
    "test.full_log = test.full_log.apply(lambda x : x.strip())\n",
    "validation.full_log = validation.full_log.apply(lambda x : x.strip())"
   ]
  },
  {
   "cell_type": "code",
   "execution_count": 187,
   "metadata": {},
   "outputs": [],
   "source": [
    "train.full_log = train.full_log.str.replace('DATE TIME localhost','', regex=True) \n",
    "test.full_log = test.full_log.str.replace('DATE TIME localhost','', regex=True) \n",
    "validation.full_log = validation.full_log.str.replace('DATE TIME localhost','', regex=True) "
   ]
  },
  {
   "cell_type": "code",
   "execution_count": 188,
   "metadata": {},
   "outputs": [],
   "source": [
    "train.full_log = train.full_log.str.replace('level NUM log','', regex=True) \n",
    "test.full_log = test.full_log.str.replace('level NUM log','', regex=True) \n",
    "validation.full_log = validation.full_log.str.replace('level NUM log','', regex=True) "
   ]
  },
  {
   "cell_type": "markdown",
   "metadata": {},
   "source": [
    "### 위험도 2~6"
   ]
  },
  {
   "cell_type": "markdown",
   "metadata": {},
   "source": [
    "- 2, 4, 6은 2000배 늘리고 \n",
    "- 5는 10배 늘리고\n",
    "- 3은 5배 늘려"
   ]
  },
  {
   "cell_type": "code",
   "execution_count": 190,
   "metadata": {},
   "outputs": [],
   "source": [
    "dummy_2000times = train[train.level.isin([2, 4, 6])]\n",
    "dummy_10times = train[train.level.isin([5])]\n",
    "dummy_5times = train[train.level.isin([3])]"
   ]
  },
  {
   "cell_type": "code",
   "execution_count": 191,
   "metadata": {
    "scrolled": true
   },
   "outputs": [
    {
     "data": {
      "text/plain": [
       "level\n",
       "0    334020\n",
       "1    132181\n",
       "3      4139\n",
       "5      2180\n",
       "2        11\n",
       "4        10\n",
       "6         8\n",
       "dtype: int64"
      ]
     },
     "execution_count": 191,
     "metadata": {},
     "output_type": "execute_result"
    }
   ],
   "source": [
    "train.value_counts('level')"
   ]
  },
  {
   "cell_type": "code",
   "execution_count": 192,
   "metadata": {
    "scrolled": false
   },
   "outputs": [
    {
     "name": "stdout",
     "output_type": "stream",
     "text": [
      "증강 전 데이터 개수 :  472549\n"
     ]
    }
   ],
   "source": [
    "print('증강 전 데이터 개수 : ', train.shape[0])"
   ]
  },
  {
   "cell_type": "code",
   "execution_count": 193,
   "metadata": {},
   "outputs": [],
   "source": [
    "dummy_dict = {1999:dummy_2000times, 9:dummy_10times, 4:dummy_5times}"
   ]
  },
  {
   "cell_type": "code",
   "execution_count": 194,
   "metadata": {},
   "outputs": [],
   "source": [
    "def easiest(log, num):\n",
    "    augmented = [log]\n",
    "    augmented = augmented * num\n",
    "    return augmented"
   ]
  },
  {
   "cell_type": "code",
   "execution_count": 197,
   "metadata": {},
   "outputs": [
    {
     "name": "stdout",
     "output_type": "stream",
     "text": [
      ".\n",
      ".\n",
      ".\n"
     ]
    }
   ],
   "source": [
    "for times, df in dummy_dict.items():\n",
    "    print('.')\n",
    "    for idx in range(df.shape[0]):\n",
    "        \n",
    "        level = df.iloc[idx][1]\n",
    "        log = df.iloc[idx][2]\n",
    "        \n",
    "        augmented = easiest(log, times)\n",
    "\n",
    "        for sent in augmented: # 증강된 문장 하나씩 꺼내서 기존 데이터에 추가!!\n",
    "            new_data = {'level':level, 'full_log':sent}\n",
    "            train = train.append(new_data, ignore_index=True)"
   ]
  },
  {
   "cell_type": "code",
   "execution_count": 198,
   "metadata": {},
   "outputs": [
    {
     "data": {
      "text/plain": [
       "level\n",
       "0    334020\n",
       "1    132181\n",
       "2     22000\n",
       "5     21800\n",
       "3     20695\n",
       "4     20000\n",
       "6     16000\n",
       "dtype: int64"
      ]
     },
     "execution_count": 198,
     "metadata": {},
     "output_type": "execute_result"
    }
   ],
   "source": [
    "train.value_counts('level')"
   ]
  },
  {
   "cell_type": "code",
   "execution_count": 199,
   "metadata": {
    "scrolled": true
   },
   "outputs": [
    {
     "name": "stdout",
     "output_type": "stream",
     "text": [
      "증강 후 데이터 개수 :  566696\n"
     ]
    }
   ],
   "source": [
    "print('증강 후 데이터 개수 : ', train.shape[0])"
   ]
  },
  {
   "cell_type": "code",
   "execution_count": 200,
   "metadata": {},
   "outputs": [],
   "source": [
    "train.to_csv('./data/train_firstword_cleaned_simple_augmented.csv')"
   ]
  },
  {
   "cell_type": "markdown",
   "metadata": {},
   "source": [
    "# Easy Data Augmentation\n",
    "https://github.com/jasonwei20/eda_nlp/blob/master/code/eda.py"
   ]
  },
  {
   "cell_type": "markdown",
   "metadata": {},
   "source": [
    "### 랜덤 삭제"
   ]
  },
  {
   "cell_type": "code",
   "execution_count": 93,
   "metadata": {},
   "outputs": [],
   "source": [
    "def random_deletion(words, p):\n",
    "\n",
    "    #obviously, if there's only one word, don't delete it\n",
    "    if len(words) == 1:\n",
    "        return words\n",
    "\n",
    "    #randomly delete words with probability p\n",
    "    new_words = []\n",
    "    for word in words:\n",
    "        r = random.uniform(0, 1)\n",
    "        if r > p:\n",
    "            new_words.append(word)\n",
    "\n",
    "    #if you end up deleting all words, just return a random word\n",
    "    if len(new_words) == 0:\n",
    "        rand_int = random.randint(0, len(words)-1)\n",
    "        return [words[rand_int]]\n",
    "\n",
    "    return new_words\n"
   ]
  },
  {
   "cell_type": "markdown",
   "metadata": {},
   "source": [
    "### 랜덤 스왑"
   ]
  },
  {
   "cell_type": "code",
   "execution_count": 94,
   "metadata": {},
   "outputs": [],
   "source": [
    "def random_swap(words, n):\n",
    "    new_words = words.copy()\n",
    "    for _ in range(n):\n",
    "        new_words = swap_word(new_words)\n",
    "    return new_words\n",
    "\n",
    "def swap_word(new_words):\n",
    "    random_idx_1 = random.randint(0, len(new_words)-1)\n",
    "    random_idx_2 = random_idx_1\n",
    "    counter = 0\n",
    "    while random_idx_2 == random_idx_1:\n",
    "        random_idx_2 = random.randint(0, len(new_words)-1)\n",
    "        counter += 1\n",
    "        if counter > 3:\n",
    "            return new_words\n",
    "    new_words[random_idx_1], new_words[random_idx_2] = new_words[random_idx_2], new_words[random_idx_1] \n",
    "    return new_words"
   ]
  },
  {
   "cell_type": "markdown",
   "metadata": {},
   "source": [
    "### 증강"
   ]
  },
  {
   "cell_type": "code",
   "execution_count": 114,
   "metadata": {
    "scrolled": false
   },
   "outputs": [
    {
     "name": "stderr",
     "output_type": "stream",
     "text": [
      "<>:3: SyntaxWarning: \"is not\" with a literal. Did you mean \"!=\"?\n",
      "<>:3: SyntaxWarning: \"is not\" with a literal. Did you mean \"!=\"?\n",
      "<ipython-input-114-8deb79556aa6>:3: SyntaxWarning: \"is not\" with a literal. Did you mean \"!=\"?\n",
      "  words = [word for word in tokens if word is not '']\n"
     ]
    }
   ],
   "source": [
    "def easy_aug(sentence, alpha_rs=0.1, p_rd=0.1, num_aug=9):\n",
    "    tokens = sentence.split(' ')\n",
    "    words = [word for word in tokens if word is not '']\n",
    "    num_words = len(words)\n",
    "    \n",
    "    augmented_sentences = []\n",
    "    num_new_per_new_technique = int(num_aug/2+1) # 기술마다 몇 문장씩?\n",
    "    \n",
    "    if (p_rd > 0):\n",
    "        for _ in range(num_new_per_new_technique):\n",
    "            a_words = random_deletion(words, p_rd)\n",
    "            augmented_sentences.append(' '.join(a_words))\n",
    "            \n",
    "    if (alpha_rs > 0):\n",
    "        n_rs = max(1, int(alpha_rs * num_words))\n",
    "        for _ in range(num_new_per_new_technique):\n",
    "            a_words = random_swap(words, n_rs)\n",
    "            augmented_sentences.append(' '.join(a_words))\n",
    "    \n",
    "    shuffle(augmented_sentences)\n",
    "    \n",
    "    #trim so that we have the desired number of augmented sentences\n",
    "    if num_aug >= 1:\n",
    "        augmented_sentences = augmented_sentences[:num_aug]\n",
    "    else:\n",
    "        keep_prob = num_aug / len(augmented_sentences)\n",
    "    \n",
    "    #append the original sentence\n",
    "    augmented_sentences.append(sentence)\n",
    "    return augmented_sentences[:-1] # 마지막 요소는 원본 문장이길래 제외해봤음."
   ]
  },
  {
   "cell_type": "code",
   "execution_count": 119,
   "metadata": {
    "scrolled": false
   },
   "outputs": [
    {
     "data": {
      "text/plain": [
       "['is this a test',\n",
       " 'this a test',\n",
       " 'this a is test',\n",
       " 'is a test',\n",
       " 'is a',\n",
       " 'is this a test',\n",
       " 'a is this test',\n",
       " 'this is a test',\n",
       " 'this a test']"
      ]
     },
     "execution_count": 119,
     "metadata": {},
     "output_type": "execute_result"
    }
   ],
   "source": [
    "# test\n",
    "easy_aug('this is a test', alpha_rs=0.3, p_rd=0.2, num_aug=9)"
   ]
  },
  {
   "cell_type": "code",
   "execution_count": 121,
   "metadata": {},
   "outputs": [],
   "source": [
    "for idx in range(dummy_2000times.shape[0]): # 대상 데이터의 개수만큼 반복\n",
    "    \n",
    "    level = dummy_2000times.iloc[idx][1]\n",
    "    log = dummy_2000times.iloc[idx][2]\n",
    "    \n",
    "    augmented = easy_aug(log, alpha_rs=0.2, p_rd=0.1, num_aug=1999)\n",
    "    \n",
    "    for sent in augmented: # 증강된 문장 하나씩 꺼내서 기존 데이터에 추가!!\n",
    "        new_data = {'level':level, 'full_log':sent}\n",
    "        train = train.append(new_data, ignore_index=True)"
   ]
  },
  {
   "cell_type": "code",
   "execution_count": 122,
   "metadata": {},
   "outputs": [],
   "source": [
    "for idx in range(dummy_10times.shape[0]): # 대상 데이터의 개수만큼 반복\n",
    "    \n",
    "    level = dummy_10times.iloc[idx][1]\n",
    "    log = dummy_10times.iloc[idx][2]\n",
    "    \n",
    "    augmented = easy_aug(log, alpha_rs=0.2, p_rd=0.1, num_aug=9)\n",
    "    \n",
    "    for sent in augmented: # 증강된 문장 하나씩 꺼내서 기존 데이터에 추가!!\n",
    "        new_data = {'level':level, 'full_log':sent}\n",
    "        train = train.append(new_data, ignore_index=True)"
   ]
  },
  {
   "cell_type": "code",
   "execution_count": 123,
   "metadata": {},
   "outputs": [],
   "source": [
    "for idx in range(dummy_5times.shape[0]): # 대상 데이터의 개수만큼 반복\n",
    "    \n",
    "    level = dummy_5times.iloc[idx][1]\n",
    "    log = dummy_5times.iloc[idx][2]\n",
    "    \n",
    "    augmented = easy_aug(log, alpha_rs=0.2, p_rd=0.1, num_aug=4)\n",
    "    \n",
    "    for sent in augmented: # 증강된 문장 하나씩 꺼내서 기존 데이터에 추가!!\n",
    "        new_data = {'level':level, 'full_log':sent}\n",
    "        train = train.append(new_data, ignore_index=True)"
   ]
  }
 ],
 "metadata": {
  "accelerator": "GPU",
  "colab": {
   "authorship_tag": "ABX9TyPyUrFzmNPRTQr1w4CsWyKR",
   "collapsed_sections": [],
   "name": "model01",
   "provenance": []
  },
  "kernelspec": {
   "display_name": "Python 3",
   "language": "python",
   "name": "python3"
  },
  "language_info": {
   "codemirror_mode": {
    "name": "ipython",
    "version": 3
   },
   "file_extension": ".py",
   "mimetype": "text/x-python",
   "name": "python",
   "nbconvert_exporter": "python",
   "pygments_lexer": "ipython3",
   "version": "3.8.8"
  }
 },
 "nbformat": 4,
 "nbformat_minor": 1
}
