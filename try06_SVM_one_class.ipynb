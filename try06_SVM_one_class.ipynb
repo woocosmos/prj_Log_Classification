{
 "cells": [
  {
   "cell_type": "code",
   "execution_count": 1,
   "id": "cc0a0bb2",
   "metadata": {},
   "outputs": [],
   "source": [
    "import numpy as np\n",
    "import pandas as pd\n",
    "import os\n",
    "import gc\n",
    "import matplotlib.pyplot as plt\n",
    "import tensorflow as tf\n",
    "from sklearn.model_selection import train_test_split"
   ]
  },
  {
   "cell_type": "code",
   "execution_count": 2,
   "id": "734772d0",
   "metadata": {},
   "outputs": [],
   "source": [
    "train = pd.read_csv('./data/cleaned_train_special.csv', index_col=0)\n",
    "test = pd.read_csv('./data/cleaned_test_special.csv')"
   ]
  },
  {
   "cell_type": "code",
   "execution_count": 3,
   "id": "fa793e09",
   "metadata": {},
   "outputs": [],
   "source": [
    "train_text=list(train['full_log'])\n",
    "train_level=np.array(train['level'])"
   ]
  },
  {
   "cell_type": "code",
   "execution_count": 4,
   "id": "87cc7167",
   "metadata": {},
   "outputs": [],
   "source": [
    "#CountVectorizer로 벡터화\n",
    "from sklearn.feature_extraction.text import CountVectorizer\n",
    "vectorizer=CountVectorizer(analyzer=\"word\", max_features=10000)\n",
    "\n",
    "train_features = vectorizer.fit_transform(train_text)"
   ]
  },
  {
   "cell_type": "code",
   "execution_count": null,
   "id": "864e285a",
   "metadata": {},
   "outputs": [],
   "source": [
    "from sklearn.feature_extraction.text import CountVectorizer\n",
    "from sklearn.feature_extraction.text import TfidfTransformer\n",
    "from sklearn.linear_model import SGDClassifier\n",
    "from sklearn.pipeline import Pipeline\n",
    "from sklearn.svm import OneClassSVM\n",
    "\n",
    "text_clf_svm = Pipeline([('tfidf', TfidfTransformer()),\n",
    "                         ('clf-svm', OneClassSVM(gamma='scale', nu=0.01))])\n",
    "\n",
    "text_clf_svm = text_clf_svm.fit(train_features)"
   ]
  },
  {
   "cell_type": "code",
   "execution_count": null,
   "id": "8eb2ff9c",
   "metadata": {},
   "outputs": [],
   "source": [
    "test_text=list(test['full_log'])\n",
    "yhat = model.predict(test_text)"
   ]
  },
  {
   "cell_type": "code",
   "execution_count": null,
   "id": "185d8e0c",
   "metadata": {},
   "outputs": [],
   "source": []
  },
  {
   "cell_type": "code",
   "execution_count": 14,
   "id": "02365027",
   "metadata": {},
   "outputs": [
    {
     "data": {
      "text/plain": [
       "0.9954824796323964"
      ]
     },
     "execution_count": 14,
     "metadata": {},
     "output_type": "execute_result"
    }
   ],
   "source": [
    "predicted_svm = text_clf_svm.predict(X_eval)\n",
    "np.mean(predicted_svm == y_eval)"
   ]
  },
  {
   "cell_type": "code",
   "execution_count": 18,
   "id": "319e564d",
   "metadata": {},
   "outputs": [],
   "source": [
    "test_text = list(test.full_log)\n",
    "ids = list(test['id'])"
   ]
  },
  {
   "cell_type": "code",
   "execution_count": 19,
   "id": "85bd31e4",
   "metadata": {
    "scrolled": true
   },
   "outputs": [
    {
     "data": {
      "text/plain": [
       "array([0, 0, 1, ..., 1, 0, 0])"
      ]
     },
     "execution_count": 19,
     "metadata": {},
     "output_type": "execute_result"
    }
   ],
   "source": [
    "text_clf_svm.predict(test_text)"
   ]
  },
  {
   "cell_type": "code",
   "execution_count": 27,
   "id": "e05213ab",
   "metadata": {},
   "outputs": [],
   "source": [
    "results = text_clf_svm.predict(test_text)\n",
    "results_proba = text_clf_svm.decision_function(test_text)\n",
    "results[np.where(np.max(results_proba, axis=1) < 0.95)] = 7"
   ]
  },
  {
   "cell_type": "code",
   "execution_count": null,
   "id": "26bbddbb",
   "metadata": {},
   "outputs": [],
   "source": [
    "\n",
    "# calibrator = CalibratedClassifierCV(clf, cv='prefit')\n",
    "# model=calibrator.fit(X_tr, y_train)\n",
    "\n",
    "# y_train_pred = model.predict_proba(X_tr)\n",
    "# y_test_pred = model.predict_proba(X_te)"
   ]
  },
  {
   "cell_type": "code",
   "execution_count": 28,
   "id": "b205c6ef",
   "metadata": {
    "scrolled": true
   },
   "outputs": [
    {
     "name": "stderr",
     "output_type": "stream",
     "text": [
      "/Users/yunsoowoo/miniforge3/envs/prj_final/lib/python3.8/site-packages/numpy/lib/arraysetops.py:580: FutureWarning: elementwise comparison failed; returning scalar instead, but in the future will perform elementwise comparison\n",
      "  mask |= (ar1 == a)\n"
     ]
    },
    {
     "data": {
      "text/plain": [
       "<bound method IndexOpsMixin.value_counts of id\n",
       "1000000    0\n",
       "1000001    0\n",
       "1000002    1\n",
       "1000003    0\n",
       "1000004    1\n",
       "          ..\n",
       "2418911    0\n",
       "2418912    0\n",
       "2418913    1\n",
       "2418914    0\n",
       "2418915    0\n",
       "Name: level, Length: 1418916, dtype: int64>"
      ]
     },
     "execution_count": 28,
     "metadata": {},
     "output_type": "execute_result"
    }
   ],
   "source": [
    "submission = pd.read_csv('./data/sample_submission.csv', index_col=0)\n",
    "submission.level = results\n",
    "submission.level.value_counts"
   ]
  },
  {
   "cell_type": "code",
   "execution_count": 29,
   "id": "4d6f7f1f",
   "metadata": {},
   "outputs": [
    {
     "data": {
      "text/plain": [
       "level\n",
       "0    987977\n",
       "1    385448\n",
       "7     38830\n",
       "3      6661\n",
       "dtype: int64"
      ]
     },
     "execution_count": 29,
     "metadata": {},
     "output_type": "execute_result"
    }
   ],
   "source": [
    "submission.value_counts('level')"
   ]
  }
 ],
 "metadata": {
  "kernelspec": {
   "display_name": "Python 3",
   "language": "python",
   "name": "python3"
  },
  "language_info": {
   "codemirror_mode": {
    "name": "ipython",
    "version": 3
   },
   "file_extension": ".py",
   "mimetype": "text/x-python",
   "name": "python",
   "nbconvert_exporter": "python",
   "pygments_lexer": "ipython3",
   "version": "3.8.8"
  }
 },
 "nbformat": 4,
 "nbformat_minor": 5
}
