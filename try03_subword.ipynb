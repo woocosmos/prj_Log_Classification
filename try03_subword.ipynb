{
 "cells": [
  {
   "cell_type": "code",
   "execution_count": 4,
   "metadata": {
    "executionInfo": {
     "elapsed": 582,
     "status": "ok",
     "timestamp": 1620271330267,
     "user": {
      "displayName": "Yunsoo Woo",
      "photoUrl": "https://lh3.googleusercontent.com/a-/AOh14GiWFotIpAaOkdHrZuGq9VMZLv5Ow3_KvrbzBimZaQ=s64",
      "userId": "11767945514934680645"
     },
     "user_tz": -540
    },
    "id": "ZiHA_xCzjshm"
   },
   "outputs": [],
   "source": [
    "import numpy as np\n",
    "import pandas as pd\n",
    "import re\n",
    "import matplotlib.pyplot as plt\n",
    "import tensorflow as tf\n",
    "import tensorflow_datasets as tfds\n",
    "from sklearn.model_selection import train_test_split\n",
    "from tqdm import tqdm"
   ]
  },
  {
   "cell_type": "code",
   "execution_count": 5,
   "metadata": {
    "id": "hd1gKdatBhXL"
   },
   "outputs": [
    {
     "name": "stderr",
     "output_type": "stream",
     "text": [
      "/Users/yunsoowoo/miniforge3/envs/prj_final/lib/python3.8/site-packages/numpy/lib/arraysetops.py:580: FutureWarning: elementwise comparison failed; returning scalar instead, but in the future will perform elementwise comparison\n",
      "  mask |= (ar1 == a)\n"
     ]
    }
   ],
   "source": [
    "train = pd.read_csv('./data/train.csv', index_col = 0)\n",
    "test = pd.read_csv('./data/test.csv', index_col = 0)\n",
    "submission = pd.read_csv('./data/sample_submission.csv', index_col = 0)\n",
    "validation = pd.read_csv('./data/validation_sample.csv', index_col = 0)"
   ]
  },
  {
   "cell_type": "markdown",
   "metadata": {},
   "source": [
    "# 앞뒤 공백 삭제, 소문자처리, 줄바꿈 제거"
   ]
  },
  {
   "cell_type": "code",
   "execution_count": 63,
   "metadata": {
    "executionInfo": {
     "elapsed": 3502,
     "status": "ok",
     "timestamp": 1620271361329,
     "user": {
      "displayName": "Yunsoo Woo",
      "photoUrl": "https://lh3.googleusercontent.com/a-/AOh14GiWFotIpAaOkdHrZuGq9VMZLv5Ow3_KvrbzBimZaQ=s64",
      "userId": "11767945514934680645"
     },
     "user_tz": -540
    },
    "id": "lGKlldvDrDK5"
   },
   "outputs": [],
   "source": [
    "train.full_log = train.full_log.apply(lambda x : x.strip())\n",
    "train.full_log = train.full_log.apply(lambda x : x.lower())\n",
    "train.full_log = train.full_log.str.replace('\\n',' ', regex=True) \n",
    "train.full_log = train.full_log.str.replace('\\\\n',' ', regex=True) \n",
    "\n",
    "\n",
    "test.full_log = test.full_log.apply(lambda x : x.strip())\n",
    "test.full_log = test.full_log.apply(lambda x : x.lower())\n",
    "test.full_log = test.full_log.str.replace('\\n',' ', regex=True) \n",
    "test.full_log = test.full_log.str.replace('\\\\n',' ', regex=True) "
   ]
  },
  {
   "cell_type": "markdown",
   "metadata": {},
   "source": [
    "# 특수문자"
   ]
  },
  {
   "cell_type": "code",
   "execution_count": 64,
   "metadata": {},
   "outputs": [],
   "source": [
    "# 파일 경로 나타내는 슬래시, 시간 나타내는 콜론, 아이피 주소 나타내는 점, 날짜 나타내는 바 제외하고 모두 삭제\n",
    "\n",
    "train.full_log = train.full_log.str.replace('[^a-zA-Zㄱ-ㅣ가-힣0-9:\\*\\-\\./\\\\\\\\]+',' ', regex=True)\n",
    "train.full_log = train.full_log.str.replace('[/\\\\\\\\]+','/', regex=True) # 역/슬래시 여러개는 슬래시 하나로 처리\n",
    "train.full_log = train.full_log.str.replace(' ?(?P<note>[\\/]) ?', ' \\g<note> ', regex=True) # 앞뒤에 공백 추기\n",
    "\n",
    "test.full_log = test.full_log.str.replace('[^a-zA-Zㄱ-ㅣ가-힣0-9:\\*\\-\\./\\\\\\\\]+',' ', regex=True)\n",
    "test.full_log = test.full_log.str.replace('[/\\\\\\\\]+','/', regex=True) \n",
    "test.full_log = test.full_log.str.replace(' ?(?P<note>[\\/]) ?', ' \\g<note> ', regex=True) "
   ]
  },
  {
   "cell_type": "markdown",
   "metadata": {},
   "source": [
    "# 의미 있는 숫자 마스킹"
   ]
  },
  {
   "cell_type": "code",
   "execution_count": 65,
   "metadata": {
    "executionInfo": {
     "elapsed": 124806,
     "status": "ok",
     "timestamp": 1620271500833,
     "user": {
      "displayName": "Yunsoo Woo",
      "photoUrl": "https://lh3.googleusercontent.com/a-/AOh14GiWFotIpAaOkdHrZuGq9VMZLv5Ow3_KvrbzBimZaQ=s64",
      "userId": "11767945514934680645"
     },
     "user_tz": -540
    },
    "id": "iHFyQ8hOr52e"
   },
   "outputs": [],
   "source": [
    "# IP, TIME, DATE\n",
    "# 바뀐 점 : 용빈님 time mask 적용, 꺽쇠 대신 공백, ip에 와일드마스크(*) 추가\n",
    "\n",
    "train.full_log = train.full_log.str.replace('[0-9\\*]{1,3}\\.[0-9\\*]{1,3}\\.[0-9\\*]{1,3}\\.[0-9\\*]{1,3}', ' IP ', regex=True)\n",
    "train.full_log = train.full_log.str.replace('(\\d{1,2}\\:\\d{1,2}\\:\\d{1,2})|(\\D\\d{1,2}\\:\\d{1,2}\\:\\d{1,2})|(\\d{1,2}\\:\\d{1,2})', ' TIME ', regex=True)\n",
    "train.full_log = train.full_log.str.replace('((jan|feb|mar|apr|may|jun|jul|aug|dec|oct|sep|nov|mar) +[0-9]{1,2})|((19|20)[0-9]{2}-(0|1)[0-9]{1}-[0-3][0-9]{1})', 'DATE', regex=True)\n",
    "\n",
    "\n",
    "test.full_log = test.full_log.str.replace('[0-9\\*]{1,3}\\.[0-9\\*]{1,3}\\.[0-9\\*]{1,3}\\.[0-9\\*]{1,3}', ' IP ', regex=True)\n",
    "test.full_log = test.full_log.str.replace('(\\d{1,2}\\:\\d{1,2}\\:\\d{1,2})|(\\D\\d{1,2}\\:\\d{1,2}\\:\\d{1,2})|(\\d{1,2}\\:\\d{1,2})', ' TIME ', regex=True)\n",
    "test.full_log = test.full_log.str.replace('((jan|feb|mar|apr|may|jun|jul|aug|dec|oct|sep|nov|mar) +[0-9]{1,2})|((19|20)[0-9]{2}-(0|1)[0-9]{1}-[0-3][0-9]{1})', ' DATE ', regex=True)\n"
   ]
  },
  {
   "cell_type": "markdown",
   "metadata": {},
   "source": [
    "# 남은 특수 문자 마저 삭제"
   ]
  },
  {
   "cell_type": "code",
   "execution_count": 66,
   "metadata": {},
   "outputs": [],
   "source": [
    "train.full_log = train.full_log.str.replace('[:\\.\\-\\*]+',' ', regex=True) \n",
    "test.full_log = test.full_log.str.replace('[:\\.\\-\\*]+',' ', regex=True) "
   ]
  },
  {
   "cell_type": "markdown",
   "metadata": {},
   "source": [
    "# 위험도 2, 4, 6 유의"
   ]
  },
  {
   "cell_type": "code",
   "execution_count": 67,
   "metadata": {
    "executionInfo": {
     "elapsed": 7657,
     "status": "ok",
     "timestamp": 1620271587858,
     "user": {
      "displayName": "Yunsoo Woo",
      "photoUrl": "https://lh3.googleusercontent.com/a-/AOh14GiWFotIpAaOkdHrZuGq9VMZLv5Ow3_KvrbzBimZaQ=s64",
      "userId": "11767945514934680645"
     },
     "user_tz": -540
    },
    "id": "FICz0vKstI4y"
   },
   "outputs": [],
   "source": [
    "# 위험도 4, 6에 나오는 주요 단어\n",
    "train.full_log = train.full_log.str.replace('sv260', 'sv_', regex=True)\n",
    "train.full_log = train.full_log.str.replace('virbr0', 'virbr_', regex=True)\n",
    "train.full_log = train.full_log.str.replace('enp2s0', 'enp_s_', regex=True)\n",
    "\n",
    "\n",
    "test.full_log = test.full_log.str.replace('sv260', 'sv_', regex=True)\n",
    "test.full_log = test.full_log.str.replace('virbr0', 'virbr_', regex=True)\n",
    "test.full_log = test.full_log.str.replace('enp2s0', 'enp_s_', regex=True)"
   ]
  },
  {
   "cell_type": "markdown",
   "metadata": {},
   "source": [
    "### 숫자 처리 전 저장"
   ]
  },
  {
   "cell_type": "code",
   "execution_count": 68,
   "metadata": {
    "executionInfo": {
     "elapsed": 20106,
     "status": "ok",
     "timestamp": 1620271728425,
     "user": {
      "displayName": "Yunsoo Woo",
      "photoUrl": "https://lh3.googleusercontent.com/a-/AOh14GiWFotIpAaOkdHrZuGq9VMZLv5Ow3_KvrbzBimZaQ=s64",
      "userId": "11767945514934680645"
     },
     "user_tz": -540
    },
    "id": "mgVVM3aWtx2h"
   },
   "outputs": [],
   "source": [
    "train.to_csv('train_no_special.csv')\n",
    "test.to_csv('test_no_special.csv')"
   ]
  },
  {
   "cell_type": "code",
   "execution_count": 112,
   "metadata": {
    "scrolled": true
   },
   "outputs": [],
   "source": [
    "train = pd.read_csv('./data/train_no_special.csv', index_col=0)\n",
    "test = pd.read_csv('./data/test_no_special.csv', index_col=0)"
   ]
  },
  {
   "cell_type": "markdown",
   "metadata": {},
   "source": [
    "# 숫자 + 영어 혼합"
   ]
  },
  {
   "cell_type": "code",
   "execution_count": 113,
   "metadata": {},
   "outputs": [],
   "source": [
    "train.full_log = train.full_log.str.replace('(?<=\\d)[a-z]+(?=\\d)', '', regex=True)\n",
    "train.full_log = train.full_log.str.replace('\\d+', 'NUM', regex=True)\n",
    "train.full_log = train.full_log.str.replace('(?<=[a-z])NUM', ' NUM', regex=True)\n",
    "train.full_log = train.full_log.str.replace('NUM(?=[a-z])', 'NUM ', regex=True)\n",
    "\n",
    "\n",
    "\n",
    "test.full_log = test.full_log.str.replace('(?<=\\d)[a-z]+(?=\\d)', '', regex=True)\n",
    "test.full_log = test.full_log.str.replace('\\d+', 'NUM', regex=True)\n",
    "test.full_log = test.full_log.str.replace('(?<=[a-z])NUM', ' NUM', regex=True)\n",
    "test.full_log = test.full_log.str.replace('NUM(?=[a-z])', 'NUM ', regex=True)\n"
   ]
  },
  {
   "cell_type": "markdown",
   "metadata": {},
   "source": [
    "# 숫자 여러개 하나로, 공백 한 칸으로"
   ]
  },
  {
   "cell_type": "code",
   "execution_count": 114,
   "metadata": {},
   "outputs": [],
   "source": [
    "train.full_log = train.full_log.str.replace('NUM (NUM ?)+', ' NUM ', regex=True)\n",
    "train.full_log = train.full_log.str.replace(' +', ' ', regex=True)\n",
    "\n",
    "test.full_log = test.full_log.str.replace('NUM (NUM ?)+', ' NUM ', regex=True)\n",
    "test.full_log = test.full_log.str.replace(' +', ' ', regex=True)"
   ]
  },
  {
   "cell_type": "markdown",
   "metadata": {},
   "source": [
    "### 특수문자, 숫자영문 혼합 없음 저장"
   ]
  },
  {
   "cell_type": "code",
   "execution_count": 115,
   "metadata": {},
   "outputs": [],
   "source": [
    "train.to_csv('train_no_special_no_mix.csv')\n",
    "test.to_csv('test_no_special_no_mix.csv')"
   ]
  },
  {
   "cell_type": "code",
   "execution_count": 116,
   "metadata": {
    "scrolled": true
   },
   "outputs": [
    {
     "data": {
      "text/plain": [
       "'DATE TIME localhost logstash DATE TIME NUM info logstash outputs elasticsearch retrying failed action with response code NUM type unavailable shards exception reason wazuh alerts audit NUM x NUM primary shard is not active timeout NUM m request bulkshardrequest wazuh alerts audit NUM x NUM containing NUM requests '"
      ]
     },
     "execution_count": 116,
     "metadata": {},
     "output_type": "execute_result"
    }
   ],
   "source": [
    "train.full_log.loc[1]"
   ]
  },
  {
   "cell_type": "markdown",
   "metadata": {
    "colab": {
     "base_uri": "https://localhost:8080/"
    },
    "executionInfo": {
     "elapsed": 601,
     "status": "ok",
     "timestamp": 1620272287372,
     "user": {
      "displayName": "Yunsoo Woo",
      "photoUrl": "https://lh3.googleusercontent.com/a-/AOh14GiWFotIpAaOkdHrZuGq9VMZLv5Ow3_KvrbzBimZaQ=s64",
      "userId": "11767945514934680645"
     },
     "user_tz": -540
    },
    "id": "V2A4tY57kLbV",
    "outputId": "b18610b3-5f43-43bc-ea18-584b2b55ec90"
   },
   "source": [
    "# 띄어쓰기 토크나이징 및 인코딩"
   ]
  },
  {
   "cell_type": "code",
   "execution_count": 6,
   "metadata": {},
   "outputs": [],
   "source": [
    "train = pd.read_csv('./data/train_no_special_no_mix.csv', index_col=0)\n",
    "test = pd.read_csv('./data/test_no_special_no_mix.csv', index_col=0)"
   ]
  },
  {
   "cell_type": "code",
   "execution_count": 7,
   "metadata": {},
   "outputs": [],
   "source": [
    "# 텍스트 데이터\n",
    "\n",
    "text = []\n",
    "for i in range(train.shape[0]):\n",
    "    text.append(train.full_log.loc[i])\n"
   ]
  },
  {
   "cell_type": "code",
   "execution_count": 8,
   "metadata": {},
   "outputs": [],
   "source": [
    "tokenizer = tfds.deprecated.text.SubwordTextEncoder.build_from_corpus(text, target_vocab_size=2**13)"
   ]
  },
  {
   "cell_type": "code",
   "execution_count": 9,
   "metadata": {},
   "outputs": [
    {
     "name": "stdout",
     "output_type": "stream",
     "text": [
      "['NUM_', ' / ', 'TIME_', 'error_', 'type_', 'audit_', 'DATE_', 'a_', 'msg_', 'localhost_', 'no_', 'living_', 'cap_', 'n_', 'js_', 'at_', 'r_', 'usr', 'message_', 's_']\n",
      "8347\n"
     ]
    }
   ],
   "source": [
    "print(tokenizer.subwords[:20])\n",
    "print(tokenizer.vocab_size)"
   ]
  },
  {
   "cell_type": "code",
   "execution_count": 10,
   "metadata": {
    "scrolled": true
   },
   "outputs": [],
   "source": [
    "# 인코딩\n",
    "tokens = [tokenizer.encode(sentence) for sentence in text]"
   ]
  },
  {
   "cell_type": "code",
   "execution_count": 8,
   "metadata": {},
   "outputs": [
    {
     "data": {
      "image/png": "[encoded data removed]",
      "text/plain": [
       "<Figure size 432x288 with 1 Axes>"
      ]
     },
     "metadata": {
      "needs_background": "light"
     },
     "output_type": "display_data"
    }
   ],
   "source": [
    "lengths = [len(j) for j in tokens]\n",
    "plt.hist(lengths, bins=200)\n",
    "plt.show()"
   ]
  },
  {
   "cell_type": "code",
   "execution_count": 9,
   "metadata": {},
   "outputs": [
    {
     "data": {
      "text/plain": [
       "1893"
      ]
     },
     "execution_count": 9,
     "metadata": {},
     "output_type": "execute_result"
    }
   ],
   "source": [
    "max(lengths)"
   ]
  },
  {
   "cell_type": "code",
   "execution_count": 11,
   "metadata": {},
   "outputs": [],
   "source": [
    "tokens = tf.keras.preprocessing.sequence.pad_sequences(tokens, maxlen=400, padding='post', truncating='post')"
   ]
  },
  {
   "cell_type": "code",
   "execution_count": 12,
   "metadata": {
    "executionInfo": {
     "elapsed": 592,
     "status": "ok",
     "timestamp": 1620274139662,
     "user": {
      "displayName": "Yunsoo Woo",
      "photoUrl": "https://lh3.googleusercontent.com/a-/AOh14GiWFotIpAaOkdHrZuGq9VMZLv5Ow3_KvrbzBimZaQ=s64",
      "userId": "11767945514934680645"
     },
     "user_tz": -540
    },
    "id": "eMCHsv7jkWJV"
   },
   "outputs": [],
   "source": [
    "label = np.array(train.level)"
   ]
  },
  {
   "cell_type": "markdown",
   "metadata": {},
   "source": [
    "# 모델 학습"
   ]
  },
  {
   "cell_type": "code",
   "execution_count": 14,
   "metadata": {
    "executionInfo": {
     "elapsed": 1317,
     "status": "ok",
     "timestamp": 1620274143269,
     "user": {
      "displayName": "Yunsoo Woo",
      "photoUrl": "https://lh3.googleusercontent.com/a-/AOh14GiWFotIpAaOkdHrZuGq9VMZLv5Ow3_KvrbzBimZaQ=s64",
      "userId": "11767945514934680645"
     },
     "user_tz": -540
    },
    "id": "rMmgrTFMkXqo"
   },
   "outputs": [],
   "source": [
    "from sklearn.model_selection import train_test_split\n",
    "\n",
    "X_train, X_test, Y_train, Y_test = train_test_split(tokens, label, test_size=0.3, random_state=42)"
   ]
  },
  {
   "cell_type": "code",
   "execution_count": 10,
   "metadata": {
    "colab": {
     "base_uri": "https://localhost:8080/"
    },
    "executionInfo": {
     "elapsed": 767,
     "status": "ok",
     "timestamp": 1620274145005,
     "user": {
      "displayName": "Yunsoo Woo",
      "photoUrl": "https://lh3.googleusercontent.com/a-/AOh14GiWFotIpAaOkdHrZuGq9VMZLv5Ow3_KvrbzBimZaQ=s64",
      "userId": "11767945514934680645"
     },
     "user_tz": -540
    },
    "id": "3nQe0VwmkZA3",
    "outputId": "ad70d86c-1d23-42e1-d30a-a7f8f8f20e8a"
   },
   "outputs": [
    {
     "name": "stdout",
     "output_type": "stream",
     "text": [
      "(331080, 400)\n",
      "(331080,)\n",
      "(141892, 400)\n",
      "(141892,)\n"
     ]
    }
   ],
   "source": [
    "print(X_train.shape)\n",
    "print(Y_train.shape)\n",
    "print(X_test.shape)\n",
    "print(Y_test.shape)"
   ]
  },
  {
   "cell_type": "code",
   "execution_count": 11,
   "metadata": {
    "colab": {
     "base_uri": "https://localhost:8080/"
    },
    "executionInfo": {
     "elapsed": 4540437,
     "status": "ok",
     "timestamp": 1620278800187,
     "user": {
      "displayName": "Yunsoo Woo",
      "photoUrl": "https://lh3.googleusercontent.com/a-/AOh14GiWFotIpAaOkdHrZuGq9VMZLv5Ow3_KvrbzBimZaQ=s64",
      "userId": "11767945514934680645"
     },
     "user_tz": -540
    },
    "id": "CQwjNRotkapp",
    "outputId": "1bf8c24c-5d35-428c-cded-04d848535429",
    "scrolled": true
   },
   "outputs": [
    {
     "name": "stdout",
     "output_type": "stream",
     "text": [
      "Epoch 1/20\n",
      "2070/2070 [==============================] - 207s 100ms/step - loss: 0.7136 - acc: 0.7043 - val_loss: 0.6787 - val_acc: 0.7031\n",
      "Epoch 2/20\n",
      "2070/2070 [==============================] - 206s 100ms/step - loss: 0.6756 - acc: 0.7057 - val_loss: 0.7504 - val_acc: 0.7116\n",
      "Epoch 3/20\n",
      "2070/2070 [==============================] - 202s 98ms/step - loss: 0.1146 - acc: 0.9715 - val_loss: 2.7773 - val_acc: 0.6923\n",
      "Epoch 4/20\n",
      "2070/2070 [==============================] - 210s 101ms/step - loss: 0.0959 - acc: 0.9844 - val_loss: 2.7160 - val_acc: 0.6991\n",
      "Epoch 5/20\n",
      "2070/2070 [==============================] - 214s 103ms/step - loss: 0.0883 - acc: 0.9846 - val_loss: 3.6225 - val_acc: 0.7174\n",
      "Epoch 6/20\n",
      "2070/2070 [==============================] - 209s 101ms/step - loss: 0.0435 - acc: 0.9884 - val_loss: 3.4826 - val_acc: 0.7093\n",
      "Epoch 7/20\n",
      "2070/2070 [==============================] - 209s 101ms/step - loss: 0.0404 - acc: 0.9873 - val_loss: 3.4324 - val_acc: 0.7172\n",
      "Epoch 8/20\n",
      "2070/2070 [==============================] - 212s 102ms/step - loss: 0.0383 - acc: 0.9891 - val_loss: 4.0803 - val_acc: 0.6966\n",
      "Epoch 9/20\n",
      "2070/2070 [==============================] - 210s 102ms/step - loss: 0.0296 - acc: 0.9911 - val_loss: 3.5561 - val_acc: 0.6794\n",
      "Epoch 10/20\n",
      "2070/2070 [==============================] - 221s 107ms/step - loss: 0.0392 - acc: 0.9910 - val_loss: 3.9653 - val_acc: 0.6764\n"
     ]
    }
   ],
   "source": [
    "from tensorflow.keras.layers import LSTM, Embedding, Dense, Dropout\n",
    "from tensorflow.keras.models import Sequential\n",
    "from tensorflow.keras.callbacks import EarlyStopping, ModelCheckpoint\n",
    "\n",
    "mc = ModelCheckpoint('model02_subword.h5', monitor='val_acc', mode='max', save_best_only=True)\n",
    "es = EarlyStopping(monitor='val_acc', mode='max',patience=5)\n",
    "\n",
    "# vocab_size = tokenizer.vocab_size + 1\n",
    "\n",
    "model = Sequential()\n",
    "model.add(Embedding(tokenizer.vocab_size, 200)) # 임베딩 벡터의 차원\n",
    "model.add(Dropout(0.5))\n",
    "model.add(LSTM(32)) # RNN 셀의 hidden_size는 32\n",
    "model.add(Dropout(0.5))\n",
    "model.add(Dense(128))\n",
    "model.add(Dense(7, activation='softmax'))\n",
    "model.compile(optimizer='Adam', loss='sparse_categorical_crossentropy', metrics=['acc'])\n",
    "\n",
    "history = model.fit(X_train, Y_train, epochs=20, batch_size=128, validation_split=0.2, callbacks=[es, mc])"
   ]
  },
  {
   "cell_type": "code",
   "execution_count": 12,
   "metadata": {
    "scrolled": false
   },
   "outputs": [
    {
     "data": {
      "image/png": "[encoded data removed]",
      "text/plain": [
       "<Figure size 432x288 with 1 Axes>"
      ]
     },
     "metadata": {
      "needs_background": "light"
     },
     "output_type": "display_data"
    },
    {
     "data": {
      "image/png": "[encoded data removed]",
      "text/plain": [
       "<Figure size 432x288 with 1 Axes>"
      ]
     },
     "metadata": {
      "needs_background": "light"
     },
     "output_type": "display_data"
    }
   ],
   "source": [
    "def plot_graphs(history, metric):\n",
    "    plt.plot(history.history[metric])\n",
    "    plt.plot(history.history['val_' + metric], '')\n",
    "    plt.xlabel(\"Epochs\")\n",
    "    plt.ylabel(metric)\n",
    "    plt.legend([metric, 'val_'+ metric])\n",
    "    plt.show()\n",
    "\n",
    "for j in ['acc', 'loss']:\n",
    "    plot_graphs(history, j)\n"
   ]
  },
  {
   "cell_type": "code",
   "execution_count": 13,
   "metadata": {
    "colab": {
     "base_uri": "https://localhost:8080/"
    },
    "executionInfo": {
     "elapsed": 61295,
     "status": "ok",
     "timestamp": 1620279086380,
     "user": {
      "displayName": "Yunsoo Woo",
      "photoUrl": "https://lh3.googleusercontent.com/a-/AOh14GiWFotIpAaOkdHrZuGq9VMZLv5Ow3_KvrbzBimZaQ=s64",
      "userId": "11767945514934680645"
     },
     "user_tz": -540
    },
    "id": "v6RnCWSb33yF",
    "outputId": "2d522fec-03bc-4bcf-e7a7-decd0e4f2de2",
    "scrolled": false
   },
   "outputs": [
    {
     "name": "stdout",
     "output_type": "stream",
     "text": [
      "2218/2218 [==============================] - 39s 18ms/step - loss: 2.7733 - acc: 0.7780\n"
     ]
    },
    {
     "data": {
      "text/plain": [
       "[2.773263692855835, 0.7780424356460571]"
      ]
     },
     "execution_count": 13,
     "metadata": {},
     "output_type": "execute_result"
    }
   ],
   "source": [
    "model.evaluate(X_test, Y_test, batch_size=64)"
   ]
  },
  {
   "cell_type": "code",
   "execution_count": 3,
   "metadata": {},
   "outputs": [],
   "source": [
    "from tensorflow.keras.models import load_model\n",
    "model = load_model(\"model02_subword.h5\")"
   ]
  },
  {
   "cell_type": "code",
   "execution_count": 15,
   "metadata": {
    "executionInfo": {
     "elapsed": 95831,
     "status": "ok",
     "timestamp": 1620283473089,
     "user": {
      "displayName": "Yunsoo Woo",
      "photoUrl": "https://lh3.googleusercontent.com/a-/AOh14GiWFotIpAaOkdHrZuGq9VMZLv5Ow3_KvrbzBimZaQ=s64",
      "userId": "11767945514934680645"
     },
     "user_tz": -540
    },
    "id": "G5B9I1QLNz_m",
    "scrolled": false
   },
   "outputs": [],
   "source": [
    "pred = model.predict(X_test)"
   ]
  },
  {
   "cell_type": "code",
   "execution_count": 16,
   "metadata": {
    "id": "calyyP9Pa84W",
    "scrolled": false
   },
   "outputs": [],
   "source": [
    "prediction = []\n",
    "for i in pred:\n",
    "    prediction.append(np.argmax(i))"
   ]
  },
  {
   "cell_type": "code",
   "execution_count": 17,
   "metadata": {
    "executionInfo": {
     "elapsed": 803,
     "status": "ok",
     "timestamp": 1620283958787,
     "user": {
      "displayName": "Yunsoo Woo",
      "photoUrl": "https://lh3.googleusercontent.com/a-/AOh14GiWFotIpAaOkdHrZuGq9VMZLv5Ow3_KvrbzBimZaQ=s64",
      "userId": "11767945514934680645"
     },
     "user_tz": -540
    },
    "id": "RlWAhZZZcRI9"
   },
   "outputs": [],
   "source": [
    "prediction = np.reshape(prediction, (141892,))"
   ]
  },
  {
   "cell_type": "code",
   "execution_count": 18,
   "metadata": {
    "colab": {
     "base_uri": "https://localhost:8080/"
    },
    "executionInfo": {
     "elapsed": 1075,
     "status": "ok",
     "timestamp": 1620283870607,
     "user": {
      "displayName": "Yunsoo Woo",
      "photoUrl": "https://lh3.googleusercontent.com/a-/AOh14GiWFotIpAaOkdHrZuGq9VMZLv5Ow3_KvrbzBimZaQ=s64",
      "userId": "11767945514934680645"
     },
     "user_tz": -540
    },
    "id": "YuzE3gCvcESS",
    "outputId": "d9ae103d-8032-4109-dcaa-df33660f687f",
    "scrolled": true
   },
   "outputs": [
    {
     "data": {
      "text/plain": [
       "(141892,)"
      ]
     },
     "execution_count": 18,
     "metadata": {},
     "output_type": "execute_result"
    }
   ],
   "source": [
    "Y_test.shape"
   ]
  },
  {
   "cell_type": "code",
   "execution_count": 19,
   "metadata": {
    "colab": {
     "base_uri": "https://localhost:8080/",
     "height": 297
    },
    "executionInfo": {
     "elapsed": 602,
     "status": "ok",
     "timestamp": 1620283960024,
     "user": {
      "displayName": "Yunsoo Woo",
      "photoUrl": "https://lh3.googleusercontent.com/a-/AOh14GiWFotIpAaOkdHrZuGq9VMZLv5Ow3_KvrbzBimZaQ=s64",
      "userId": "11767945514934680645"
     },
     "user_tz": -540
    },
    "id": "AZgHdbjPalPO",
    "outputId": "45dac50e-21ea-4f17-89b2-23d51093926e"
   },
   "outputs": [
    {
     "data": {
      "text/html": [
       "<div>\n",
       "<style scoped>\n",
       "    .dataframe tbody tr th:only-of-type {\n",
       "        vertical-align: middle;\n",
       "    }\n",
       "\n",
       "    .dataframe tbody tr th {\n",
       "        vertical-align: top;\n",
       "    }\n",
       "\n",
       "    .dataframe thead th {\n",
       "        text-align: right;\n",
       "    }\n",
       "</style>\n",
       "<table border=\"1\" class=\"dataframe\">\n",
       "  <thead>\n",
       "    <tr style=\"text-align: right;\">\n",
       "      <th>pred</th>\n",
       "      <th>0</th>\n",
       "      <th>1</th>\n",
       "      <th>3</th>\n",
       "      <th>5</th>\n",
       "    </tr>\n",
       "    <tr>\n",
       "      <th>real</th>\n",
       "      <th></th>\n",
       "      <th></th>\n",
       "      <th></th>\n",
       "      <th></th>\n",
       "    </tr>\n",
       "  </thead>\n",
       "  <tbody>\n",
       "    <tr>\n",
       "      <th>0</th>\n",
       "      <td>100094</td>\n",
       "      <td>4</td>\n",
       "      <td>85</td>\n",
       "      <td>0</td>\n",
       "    </tr>\n",
       "    <tr>\n",
       "      <th>1</th>\n",
       "      <td>171</td>\n",
       "      <td>39567</td>\n",
       "      <td>45</td>\n",
       "      <td>0</td>\n",
       "    </tr>\n",
       "    <tr>\n",
       "      <th>2</th>\n",
       "      <td>5</td>\n",
       "      <td>1</td>\n",
       "      <td>0</td>\n",
       "      <td>0</td>\n",
       "    </tr>\n",
       "    <tr>\n",
       "      <th>3</th>\n",
       "      <td>60</td>\n",
       "      <td>28</td>\n",
       "      <td>1140</td>\n",
       "      <td>0</td>\n",
       "    </tr>\n",
       "    <tr>\n",
       "      <th>4</th>\n",
       "      <td>0</td>\n",
       "      <td>0</td>\n",
       "      <td>3</td>\n",
       "      <td>0</td>\n",
       "    </tr>\n",
       "    <tr>\n",
       "      <th>5</th>\n",
       "      <td>70</td>\n",
       "      <td>42</td>\n",
       "      <td>513</td>\n",
       "      <td>61</td>\n",
       "    </tr>\n",
       "    <tr>\n",
       "      <th>6</th>\n",
       "      <td>2</td>\n",
       "      <td>1</td>\n",
       "      <td>0</td>\n",
       "      <td>0</td>\n",
       "    </tr>\n",
       "  </tbody>\n",
       "</table>\n",
       "</div>"
      ],
      "text/plain": [
       "pred       0      1     3   5\n",
       "real                         \n",
       "0     100094      4    85   0\n",
       "1        171  39567    45   0\n",
       "2          5      1     0   0\n",
       "3         60     28  1140   0\n",
       "4          0      0     3   0\n",
       "5         70     42   513  61\n",
       "6          2      1     0   0"
      ]
     },
     "execution_count": 19,
     "metadata": {},
     "output_type": "execute_result"
    }
   ],
   "source": [
    "crosstab = pd.crosstab(Y_test, prediction, rownames=['real'], colnames=['pred'])\n",
    "crosstab"
   ]
  },
  {
   "cell_type": "markdown",
   "metadata": {},
   "source": [
    "# test 셋"
   ]
  },
  {
   "cell_type": "code",
   "execution_count": 20,
   "metadata": {},
   "outputs": [],
   "source": [
    "test_text = []\n",
    "for i in range(test.shape[0]):\n",
    "    test_text.append(test.full_log.iloc[i])"
   ]
  },
  {
   "cell_type": "code",
   "execution_count": 21,
   "metadata": {},
   "outputs": [],
   "source": [
    "test_encoded = [tokenizer.encode(sentence) for sentence in test_text]\n",
    "test_tokens = tf.keras.preprocessing.sequence.pad_sequences(test_encoded, maxlen=400, padding='post', truncating='post')"
   ]
  },
  {
   "cell_type": "code",
   "execution_count": 22,
   "metadata": {
    "executionInfo": {
     "elapsed": 937828,
     "status": "ok",
     "timestamp": 1620284967403,
     "user": {
      "displayName": "Yunsoo Woo",
      "photoUrl": "https://lh3.googleusercontent.com/a-/AOh14GiWFotIpAaOkdHrZuGq9VMZLv5Ow3_KvrbzBimZaQ=s64",
      "userId": "11767945514934680645"
     },
     "user_tz": -540
    },
    "id": "O4LI7PSy5-wO"
   },
   "outputs": [],
   "source": [
    "results = model.predict(test_tokens)"
   ]
  },
  {
   "cell_type": "code",
   "execution_count": 23,
   "metadata": {
    "id": "VqwDka7KeaVQ"
   },
   "outputs": [],
   "source": [
    "test_prediction = []\n",
    "for i in results:\n",
    "    test_prediction.append(np.argmax(i))"
   ]
  },
  {
   "cell_type": "code",
   "execution_count": 24,
   "metadata": {
    "executionInfo": {
     "elapsed": 612,
     "status": "ok",
     "timestamp": 1620285147125,
     "user": {
      "displayName": "Yunsoo Woo",
      "photoUrl": "https://lh3.googleusercontent.com/a-/AOh14GiWFotIpAaOkdHrZuGq9VMZLv5Ow3_KvrbzBimZaQ=s64",
      "userId": "11767945514934680645"
     },
     "user_tz": -540
    },
    "id": "eTC9wR90e7NV"
   },
   "outputs": [],
   "source": [
    "test_test_prediction = np.reshape(test_prediction, (test.shape[0],))"
   ]
  },
  {
   "cell_type": "code",
   "execution_count": 25,
   "metadata": {
    "executionInfo": {
     "elapsed": 616,
     "status": "ok",
     "timestamp": 1620285150154,
     "user": {
      "displayName": "Yunsoo Woo",
      "photoUrl": "https://lh3.googleusercontent.com/a-/AOh14GiWFotIpAaOkdHrZuGq9VMZLv5Ow3_KvrbzBimZaQ=s64",
      "userId": "11767945514934680645"
     },
     "user_tz": -540
    },
    "id": "hap1JaPh6XQf"
   },
   "outputs": [],
   "source": [
    "test_test_prediction[np.where(np.max(results, axis=1) < 0.9)] = 7"
   ]
  },
  {
   "cell_type": "code",
   "execution_count": 26,
   "metadata": {
    "colab": {
     "base_uri": "https://localhost:8080/"
    },
    "executionInfo": {
     "elapsed": 603,
     "status": "ok",
     "timestamp": 1620285153377,
     "user": {
      "displayName": "Yunsoo Woo",
      "photoUrl": "https://lh3.googleusercontent.com/a-/AOh14GiWFotIpAaOkdHrZuGq9VMZLv5Ow3_KvrbzBimZaQ=s64",
      "userId": "11767945514934680645"
     },
     "user_tz": -540
    },
    "id": "5i7Vvuxu6ur_",
    "outputId": "a84856bf-9927-4391-a0fa-38a57c2efcdb"
   },
   "outputs": [
    {
     "data": {
      "text/plain": [
       "level\n",
       "0        999384\n",
       "1        395853\n",
       "7         23679\n",
       "dtype: int64"
      ]
     },
     "execution_count": 26,
     "metadata": {},
     "output_type": "execute_result"
    }
   ],
   "source": [
    "submission['level']=test_test_prediction\n",
    "submission.value_counts()"
   ]
  },
  {
   "cell_type": "code",
   "execution_count": 27,
   "metadata": {
    "executionInfo": {
     "elapsed": 2264,
     "status": "ok",
     "timestamp": 1620285200091,
     "user": {
      "displayName": "Yunsoo Woo",
      "photoUrl": "https://lh3.googleusercontent.com/a-/AOh14GiWFotIpAaOkdHrZuGq9VMZLv5Ow3_KvrbzBimZaQ=s64",
      "userId": "11767945514934680645"
     },
     "user_tz": -540
    },
    "id": "j6a9rO9FhcQD"
   },
   "outputs": [],
   "source": [
    "# submission.to_csv('submission_model02_subword.csv')"
   ]
  }
 ],
 "metadata": {
  "accelerator": "GPU",
  "colab": {
   "authorship_tag": "ABX9TyPyUrFzmNPRTQr1w4CsWyKR",
   "collapsed_sections": [],
   "name": "model01",
   "provenance": []
  },
  "kernelspec": {
   "display_name": "Python 3",
   "language": "python",
   "name": "python3"
  },
  "language_info": {
   "codemirror_mode": {
    "name": "ipython",
    "version": 3
   },
   "file_extension": ".py",
   "mimetype": "text/x-python",
   "name": "python",
   "nbconvert_exporter": "python",
   "pygments_lexer": "ipython3",
   "version": "3.8.8"
  }
 },
 "nbformat": 4,
 "nbformat_minor": 1
}
